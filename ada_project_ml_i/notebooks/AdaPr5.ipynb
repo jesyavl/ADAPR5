{
  "cells": [
    {
      "cell_type": "markdown",
      "metadata": {
        "id": "dnZkNiubENhZ"
      },
      "source": [
        "# Classificação"
      ]
    },
    {
      "cell_type": "markdown",
      "metadata": {
        "id": "B8t-aq3NFaMs"
      },
      "source": [
        "# Instalando dependências"
      ]
    },
    {
      "cell_type": "code",
      "execution_count": 1,
      "metadata": {
        "id": "uAsV2XbuFZyq"
      },
      "outputs": [],
      "source": [
        "%%capture\n",
        "\n",
        "!pip install sidetable\n",
        "!pip install missingno"
      ]
    },
    {
      "cell_type": "markdown",
      "metadata": {
        "id": "E5Kec1KQESLs"
      },
      "source": [
        "# Importando modulos necessários"
      ]
    },
    {
      "cell_type": "code",
      "execution_count": 125,
      "metadata": {
        "id": "Y7X4bwffDN8N"
      },
      "outputs": [],
      "source": [
        "# data analysis\n",
        "import pandas as pd\n",
        "import numpy as np\n",
        "import sidetable as stb\n",
        "import missingno as msno\n",
        "\n",
        "# data viz\n",
        "import seaborn as sns\n",
        "import matplotlib.pyplot as plt\n",
        "\n",
        "# pre-processemento\n",
        "from sklearn.preprocessing import StandardScaler\n",
        "from sklearn.preprocessing import LabelEncoder\n",
        "from sklearn.preprocessing import OneHotEncoder\n",
        "from sklearn.compose import ColumnTransformer\n",
        "from sklearn.model_selection import train_test_split\n",
        "\n",
        "# metricas e matrix de confusão\n",
        "from sklearn.metrics import accuracy_score, confusion_matrix, classification_report\n",
        "from sklearn.metrics import precision_score, recall_score\n",
        "from yellowbrick.classifier import ConfusionMatrix\n",
        "\n",
        "# modelos\n",
        "from sklearn.tree import DecisionTreeClassifier\n",
        "from sklearn import tree\n",
        "from sklearn.ensemble import RandomForestClassifier\n",
        "from sklearn.neighbors import KNeighborsClassifier\n",
        "from sklearn.linear_model import LogisticRegression\n",
        "from sklearn.svm import SVC\n",
        "from sklearn.neural_network import MLPClassifier\n",
        "from sklearn.model_selection import GridSearchCV\n",
        "from sklearn.model_selection import cross_val_score, cross_val_predict, KFold"
      ]
    },
    {
      "cell_type": "markdown",
      "metadata": {
        "id": "cWpRiRnCEWbV"
      },
      "source": [
        "# Funçōes necessárias para o projeto"
      ]
    },
    {
      "cell_type": "code",
      "execution_count": 3,
      "metadata": {
        "id": "YlnoS0ZaEKbl"
      },
      "outputs": [],
      "source": [
        "def date_engineering(df: pd.DataFrame)->pd.DataFrame:\n",
        "    df[\"data_inversa\"] = pd.to_datetime(df[\"data_inversa\"], format = 'mixed')\n",
        "    df[\"year\"] = pd.to_datetime(df[\"data_inversa\"]).dt.year\n",
        "    df[\"month\"] = pd.to_datetime(df[\"data_inversa\"]).dt.month\n",
        "    df[\"quarter\"] = pd.to_datetime(df[\"data_inversa\"]).dt.quarter\n",
        "    df[\"quarter_end\"] = pd.to_datetime(df[\"data_inversa\"]).dt.is_quarter_end\n",
        "    return df\n",
        "\n",
        "def time_col(col:pd.Series):\n",
        "  df[\"hour\"] = df[\"horario\"].str.split(\":\").str[0]\n",
        "  return df[\"hour\"]\n",
        "\n",
        "def convert_lower_case(column):\n",
        "  '''\n",
        "  Funcao que retorna a coluna selecionada para letra minuscula\n",
        "  -param column: coluna da pd.Dataframe\n",
        "  '''\n",
        "  return column.lower()\n"
      ]
    },
    {
      "cell_type": "markdown",
      "metadata": {
        "id": "Btx-LPanEWIZ"
      },
      "source": [
        "# Importando dataset"
      ]
    },
    {
      "cell_type": "markdown",
      "metadata": {
        "id": "gelK3NVjEuZ5"
      },
      "source": [
        "Escolha do dataset - Acidentes de Trânsito nas Rodovias Federais do Brasil (de 2007 a 2022). Disponível no link: https://www.kaggle.com/datasets/rafaelborgesgraunke/traffic-accidents-brazil-pt-br/data."
      ]
    },
    {
      "cell_type": "code",
      "execution_count": 4,
      "metadata": {
        "colab": {
          "base_uri": "https://localhost:8080/"
        },
        "id": "7RVDwqvSEZsL",
        "outputId": "a701612f-6d10-4411-cf31-52b1d7df350d"
      },
      "outputs": [
        {
          "name": "stderr",
          "output_type": "stream",
          "text": [
            "C:\\Users\\ASUS\\AppData\\Local\\Temp\\ipykernel_12892\\4135170676.py:1: DtypeWarning: Columns (5,25,26,27,28,29) have mixed types. Specify dtype option on import or set low_memory=False.\n",
            "  df = pd.read_csv('datatran2007-2022.csv')\n"
          ]
        }
      ],
      "source": [
        "df = pd.read_csv('datatran2007-2022.csv')"
      ]
    },
    {
      "cell_type": "code",
      "execution_count": 5,
      "metadata": {
        "colab": {
          "base_uri": "https://localhost:8080/",
          "height": 342
        },
        "id": "uZ3eZOpREgW4",
        "outputId": "430f5215-8f0e-4bc6-e133-d2ecab4a9512"
      },
      "outputs": [
        {
          "data": {
            "text/html": [
              "<div>\n",
              "<style scoped>\n",
              "    .dataframe tbody tr th:only-of-type {\n",
              "        vertical-align: middle;\n",
              "    }\n",
              "\n",
              "    .dataframe tbody tr th {\n",
              "        vertical-align: top;\n",
              "    }\n",
              "\n",
              "    .dataframe thead th {\n",
              "        text-align: right;\n",
              "    }\n",
              "</style>\n",
              "<table border=\"1\" class=\"dataframe\">\n",
              "  <thead>\n",
              "    <tr style=\"text-align: right;\">\n",
              "      <th></th>\n",
              "      <th>data_inversa</th>\n",
              "      <th>dia_semana</th>\n",
              "      <th>horario</th>\n",
              "      <th>uf</th>\n",
              "      <th>br</th>\n",
              "      <th>km</th>\n",
              "      <th>municipio</th>\n",
              "      <th>causa_acidente</th>\n",
              "      <th>tipo_acidente</th>\n",
              "      <th>classificacao_acidente</th>\n",
              "      <th>...</th>\n",
              "      <th>feridos_graves</th>\n",
              "      <th>ilesos</th>\n",
              "      <th>ignorados</th>\n",
              "      <th>feridos</th>\n",
              "      <th>veiculos</th>\n",
              "      <th>latitude</th>\n",
              "      <th>longitude</th>\n",
              "      <th>regional</th>\n",
              "      <th>delegacia</th>\n",
              "      <th>uop</th>\n",
              "    </tr>\n",
              "  </thead>\n",
              "  <tbody>\n",
              "    <tr>\n",
              "      <th>0</th>\n",
              "      <td>10/11/2009</td>\n",
              "      <td>Terça</td>\n",
              "      <td>14:10:00</td>\n",
              "      <td>MG</td>\n",
              "      <td>381.0</td>\n",
              "      <td>495.0</td>\n",
              "      <td>BETIM</td>\n",
              "      <td>Velocidade incompatível</td>\n",
              "      <td>Colisão traseira</td>\n",
              "      <td>Com Vítimas Feridas</td>\n",
              "      <td>...</td>\n",
              "      <td>0</td>\n",
              "      <td>1</td>\n",
              "      <td>0</td>\n",
              "      <td>4</td>\n",
              "      <td>2</td>\n",
              "      <td>NaN</td>\n",
              "      <td>NaN</td>\n",
              "      <td>NaN</td>\n",
              "      <td>NaN</td>\n",
              "      <td>NaN</td>\n",
              "    </tr>\n",
              "    <tr>\n",
              "      <th>1</th>\n",
              "      <td>16/10/2009</td>\n",
              "      <td>Sexta</td>\n",
              "      <td>04:35:00</td>\n",
              "      <td>MG</td>\n",
              "      <td>251.0</td>\n",
              "      <td>419.6</td>\n",
              "      <td>GRAO MOGOL</td>\n",
              "      <td>Outras</td>\n",
              "      <td>Colisão frontal</td>\n",
              "      <td>Com Vítimas Fatais</td>\n",
              "      <td>...</td>\n",
              "      <td>5</td>\n",
              "      <td>0</td>\n",
              "      <td>0</td>\n",
              "      <td>5</td>\n",
              "      <td>2</td>\n",
              "      <td>NaN</td>\n",
              "      <td>NaN</td>\n",
              "      <td>NaN</td>\n",
              "      <td>NaN</td>\n",
              "      <td>NaN</td>\n",
              "    </tr>\n",
              "    <tr>\n",
              "      <th>2</th>\n",
              "      <td>20/09/2009</td>\n",
              "      <td>Domingo</td>\n",
              "      <td>20:00:00</td>\n",
              "      <td>PI</td>\n",
              "      <td>316.0</td>\n",
              "      <td>24.0</td>\n",
              "      <td>TERESINA</td>\n",
              "      <td>Dormindo</td>\n",
              "      <td>Saída de Pista</td>\n",
              "      <td>Com Vítimas Feridas</td>\n",
              "      <td>...</td>\n",
              "      <td>4</td>\n",
              "      <td>0</td>\n",
              "      <td>0</td>\n",
              "      <td>6</td>\n",
              "      <td>1</td>\n",
              "      <td>NaN</td>\n",
              "      <td>NaN</td>\n",
              "      <td>NaN</td>\n",
              "      <td>NaN</td>\n",
              "      <td>NaN</td>\n",
              "    </tr>\n",
              "    <tr>\n",
              "      <th>3</th>\n",
              "      <td>17/05/2009</td>\n",
              "      <td>Domingo</td>\n",
              "      <td>15:45:00</td>\n",
              "      <td>RJ</td>\n",
              "      <td>101.0</td>\n",
              "      <td>429.0</td>\n",
              "      <td>MANGARATIBA</td>\n",
              "      <td>Falta de atenção</td>\n",
              "      <td>Colisão Transversal</td>\n",
              "      <td>Sem Vítimas</td>\n",
              "      <td>...</td>\n",
              "      <td>0</td>\n",
              "      <td>2</td>\n",
              "      <td>0</td>\n",
              "      <td>0</td>\n",
              "      <td>2</td>\n",
              "      <td>NaN</td>\n",
              "      <td>NaN</td>\n",
              "      <td>NaN</td>\n",
              "      <td>NaN</td>\n",
              "      <td>NaN</td>\n",
              "    </tr>\n",
              "    <tr>\n",
              "      <th>4</th>\n",
              "      <td>05/07/2009</td>\n",
              "      <td>Domingo</td>\n",
              "      <td>17:30:00</td>\n",
              "      <td>PE</td>\n",
              "      <td>101.0</td>\n",
              "      <td>59.2</td>\n",
              "      <td>RECIFE</td>\n",
              "      <td>Outras</td>\n",
              "      <td>Queda de motocicleta / bicicleta / veículo</td>\n",
              "      <td>Com Vítimas Feridas</td>\n",
              "      <td>...</td>\n",
              "      <td>0</td>\n",
              "      <td>0</td>\n",
              "      <td>0</td>\n",
              "      <td>1</td>\n",
              "      <td>1</td>\n",
              "      <td>NaN</td>\n",
              "      <td>NaN</td>\n",
              "      <td>NaN</td>\n",
              "      <td>NaN</td>\n",
              "      <td>NaN</td>\n",
              "    </tr>\n",
              "  </tbody>\n",
              "</table>\n",
              "<p>5 rows × 30 columns</p>\n",
              "</div>"
            ],
            "text/plain": [
              "  data_inversa dia_semana   horario  uf     br     km    municipio  \\\n",
              "0   10/11/2009      Terça  14:10:00  MG  381.0  495.0        BETIM   \n",
              "1   16/10/2009      Sexta  04:35:00  MG  251.0  419.6   GRAO MOGOL   \n",
              "2   20/09/2009    Domingo  20:00:00  PI  316.0   24.0     TERESINA   \n",
              "3   17/05/2009    Domingo  15:45:00  RJ  101.0  429.0  MANGARATIBA   \n",
              "4   05/07/2009    Domingo  17:30:00  PE  101.0   59.2       RECIFE   \n",
              "\n",
              "            causa_acidente                               tipo_acidente  \\\n",
              "0  Velocidade incompatível                            Colisão traseira   \n",
              "1                   Outras                             Colisão frontal   \n",
              "2                 Dormindo                              Saída de Pista   \n",
              "3         Falta de atenção                         Colisão Transversal   \n",
              "4                   Outras  Queda de motocicleta / bicicleta / veículo   \n",
              "\n",
              "  classificacao_acidente  ... feridos_graves ilesos ignorados feridos  \\\n",
              "0    Com Vítimas Feridas  ...              0      1         0       4   \n",
              "1     Com Vítimas Fatais  ...              5      0         0       5   \n",
              "2    Com Vítimas Feridas  ...              4      0         0       6   \n",
              "3            Sem Vítimas  ...              0      2         0       0   \n",
              "4    Com Vítimas Feridas  ...              0      0         0       1   \n",
              "\n",
              "  veiculos latitude  longitude  regional  delegacia  uop  \n",
              "0        2      NaN        NaN       NaN        NaN  NaN  \n",
              "1        2      NaN        NaN       NaN        NaN  NaN  \n",
              "2        1      NaN        NaN       NaN        NaN  NaN  \n",
              "3        2      NaN        NaN       NaN        NaN  NaN  \n",
              "4        1      NaN        NaN       NaN        NaN  NaN  \n",
              "\n",
              "[5 rows x 30 columns]"
            ]
          },
          "execution_count": 5,
          "metadata": {},
          "output_type": "execute_result"
        }
      ],
      "source": [
        "df.head()"
      ]
    },
    {
      "cell_type": "code",
      "execution_count": 6,
      "metadata": {
        "colab": {
          "base_uri": "https://localhost:8080/"
        },
        "id": "Q6qYXHTNEiYZ",
        "outputId": "6ee00925-76fe-4458-c633-ddcc9cdbaf99"
      },
      "outputs": [
        {
          "data": {
            "text/plain": [
              "(1981317, 30)"
            ]
          },
          "execution_count": 6,
          "metadata": {},
          "output_type": "execute_result"
        }
      ],
      "source": [
        "df.shape"
      ]
    },
    {
      "cell_type": "code",
      "execution_count": 7,
      "metadata": {
        "colab": {
          "base_uri": "https://localhost:8080/"
        },
        "id": "IB46GoHWEl1q",
        "outputId": "a985cc5f-2e79-4815-f1ba-3ac75e2dccb0"
      },
      "outputs": [
        {
          "name": "stdout",
          "output_type": "stream",
          "text": [
            "<class 'pandas.core.frame.DataFrame'>\n",
            "RangeIndex: 1981317 entries, 0 to 1981316\n",
            "Data columns (total 30 columns):\n",
            " #   Column                  Dtype  \n",
            "---  ------                  -----  \n",
            " 0   data_inversa            object \n",
            " 1   dia_semana              object \n",
            " 2   horario                 object \n",
            " 3   uf                      object \n",
            " 4   br                      float64\n",
            " 5   km                      object \n",
            " 6   municipio               object \n",
            " 7   causa_acidente          object \n",
            " 8   tipo_acidente           object \n",
            " 9   classificacao_acidente  object \n",
            " 10  fase_dia                object \n",
            " 11  sentido_via             object \n",
            " 12  condicao_metereologica  object \n",
            " 13  tipo_pista              object \n",
            " 14  tracado_via             object \n",
            " 15  uso_solo                object \n",
            " 16  ano                     float64\n",
            " 17  pessoas                 int64  \n",
            " 18  mortos                  int64  \n",
            " 19  feridos_leves           int64  \n",
            " 20  feridos_graves          int64  \n",
            " 21  ilesos                  int64  \n",
            " 22  ignorados               int64  \n",
            " 23  feridos                 int64  \n",
            " 24  veiculos                int64  \n",
            " 25  latitude                object \n",
            " 26  longitude               object \n",
            " 27  regional                object \n",
            " 28  delegacia               object \n",
            " 29  uop                     object \n",
            "dtypes: float64(2), int64(8), object(20)\n",
            "memory usage: 453.5+ MB\n"
          ]
        }
      ],
      "source": [
        "df.info()"
      ]
    },
    {
      "cell_type": "markdown",
      "metadata": {
        "id": "osc_9C0BEyrH"
      },
      "source": [
        "# Tratamento de dados nulos"
      ]
    },
    {
      "cell_type": "code",
      "execution_count": 8,
      "metadata": {
        "id": "H74ngpTFFrtw"
      },
      "outputs": [],
      "source": [
        "# transformando e criando colunas adicionais para data\n",
        "df = date_engineering(df)\n",
        "df[\"hora\"] = time_col(df[\"horario\"])"
      ]
    },
    {
      "cell_type": "code",
      "execution_count": 9,
      "metadata": {
        "id": "dyJv5NU-G5gE"
      },
      "outputs": [],
      "source": [
        "#ordenando datas\n",
        "df = df.sort_values(by = \"data_inversa\").reset_index(drop = True)"
      ]
    },
    {
      "cell_type": "code",
      "execution_count": 10,
      "metadata": {
        "colab": {
          "base_uri": "https://localhost:8080/",
          "height": 1000
        },
        "id": "9PSgQEzCEn58",
        "outputId": "1d4f721c-464a-439c-d3f4-397d43d00e4c"
      },
      "outputs": [
        {
          "data": {
            "text/html": [
              "<div>\n",
              "<style scoped>\n",
              "    .dataframe tbody tr th:only-of-type {\n",
              "        vertical-align: middle;\n",
              "    }\n",
              "\n",
              "    .dataframe tbody tr th {\n",
              "        vertical-align: top;\n",
              "    }\n",
              "\n",
              "    .dataframe thead th {\n",
              "        text-align: right;\n",
              "    }\n",
              "</style>\n",
              "<table border=\"1\" class=\"dataframe\">\n",
              "  <thead>\n",
              "    <tr style=\"text-align: right;\">\n",
              "      <th></th>\n",
              "      <th>missing</th>\n",
              "      <th>total</th>\n",
              "      <th>percent</th>\n",
              "    </tr>\n",
              "  </thead>\n",
              "  <tbody>\n",
              "    <tr>\n",
              "      <th>delegacia</th>\n",
              "      <td>1563088</td>\n",
              "      <td>1981317</td>\n",
              "      <td>78.891364</td>\n",
              "    </tr>\n",
              "    <tr>\n",
              "      <th>uop</th>\n",
              "      <td>1563008</td>\n",
              "      <td>1981317</td>\n",
              "      <td>78.887326</td>\n",
              "    </tr>\n",
              "    <tr>\n",
              "      <th>regional</th>\n",
              "      <td>1562206</td>\n",
              "      <td>1981317</td>\n",
              "      <td>78.846848</td>\n",
              "    </tr>\n",
              "    <tr>\n",
              "      <th>latitude</th>\n",
              "      <td>1562200</td>\n",
              "      <td>1981317</td>\n",
              "      <td>78.846545</td>\n",
              "    </tr>\n",
              "    <tr>\n",
              "      <th>longitude</th>\n",
              "      <td>1562200</td>\n",
              "      <td>1981317</td>\n",
              "      <td>78.846545</td>\n",
              "    </tr>\n",
              "    <tr>\n",
              "      <th>ano</th>\n",
              "      <td>515480</td>\n",
              "      <td>1981317</td>\n",
              "      <td>26.017038</td>\n",
              "    </tr>\n",
              "    <tr>\n",
              "      <th>br</th>\n",
              "      <td>894</td>\n",
              "      <td>1981317</td>\n",
              "      <td>0.045122</td>\n",
              "    </tr>\n",
              "    <tr>\n",
              "      <th>km</th>\n",
              "      <td>894</td>\n",
              "      <td>1981317</td>\n",
              "      <td>0.045122</td>\n",
              "    </tr>\n",
              "    <tr>\n",
              "      <th>fase_dia</th>\n",
              "      <td>70</td>\n",
              "      <td>1981317</td>\n",
              "      <td>0.003533</td>\n",
              "    </tr>\n",
              "    <tr>\n",
              "      <th>condicao_metereologica</th>\n",
              "      <td>61</td>\n",
              "      <td>1981317</td>\n",
              "      <td>0.003079</td>\n",
              "    </tr>\n",
              "    <tr>\n",
              "      <th>tipo_acidente</th>\n",
              "      <td>40</td>\n",
              "      <td>1981317</td>\n",
              "      <td>0.002019</td>\n",
              "    </tr>\n",
              "    <tr>\n",
              "      <th>classificacao_acidente</th>\n",
              "      <td>26</td>\n",
              "      <td>1981317</td>\n",
              "      <td>0.001312</td>\n",
              "    </tr>\n",
              "    <tr>\n",
              "      <th>uf</th>\n",
              "      <td>12</td>\n",
              "      <td>1981317</td>\n",
              "      <td>0.000606</td>\n",
              "    </tr>\n",
              "    <tr>\n",
              "      <th>tipo_pista</th>\n",
              "      <td>10</td>\n",
              "      <td>1981317</td>\n",
              "      <td>0.000505</td>\n",
              "    </tr>\n",
              "    <tr>\n",
              "      <th>tracado_via</th>\n",
              "      <td>10</td>\n",
              "      <td>1981317</td>\n",
              "      <td>0.000505</td>\n",
              "    </tr>\n",
              "    <tr>\n",
              "      <th>uso_solo</th>\n",
              "      <td>10</td>\n",
              "      <td>1981317</td>\n",
              "      <td>0.000505</td>\n",
              "    </tr>\n",
              "    <tr>\n",
              "      <th>causa_acidente</th>\n",
              "      <td>2</td>\n",
              "      <td>1981317</td>\n",
              "      <td>0.000101</td>\n",
              "    </tr>\n",
              "    <tr>\n",
              "      <th>quarter</th>\n",
              "      <td>0</td>\n",
              "      <td>1981317</td>\n",
              "      <td>0.000000</td>\n",
              "    </tr>\n",
              "    <tr>\n",
              "      <th>veiculos</th>\n",
              "      <td>0</td>\n",
              "      <td>1981317</td>\n",
              "      <td>0.000000</td>\n",
              "    </tr>\n",
              "    <tr>\n",
              "      <th>month</th>\n",
              "      <td>0</td>\n",
              "      <td>1981317</td>\n",
              "      <td>0.000000</td>\n",
              "    </tr>\n",
              "    <tr>\n",
              "      <th>year</th>\n",
              "      <td>0</td>\n",
              "      <td>1981317</td>\n",
              "      <td>0.000000</td>\n",
              "    </tr>\n",
              "    <tr>\n",
              "      <th>quarter_end</th>\n",
              "      <td>0</td>\n",
              "      <td>1981317</td>\n",
              "      <td>0.000000</td>\n",
              "    </tr>\n",
              "    <tr>\n",
              "      <th>hour</th>\n",
              "      <td>0</td>\n",
              "      <td>1981317</td>\n",
              "      <td>0.000000</td>\n",
              "    </tr>\n",
              "    <tr>\n",
              "      <th>data_inversa</th>\n",
              "      <td>0</td>\n",
              "      <td>1981317</td>\n",
              "      <td>0.000000</td>\n",
              "    </tr>\n",
              "    <tr>\n",
              "      <th>mortos</th>\n",
              "      <td>0</td>\n",
              "      <td>1981317</td>\n",
              "      <td>0.000000</td>\n",
              "    </tr>\n",
              "    <tr>\n",
              "      <th>feridos</th>\n",
              "      <td>0</td>\n",
              "      <td>1981317</td>\n",
              "      <td>0.000000</td>\n",
              "    </tr>\n",
              "    <tr>\n",
              "      <th>ignorados</th>\n",
              "      <td>0</td>\n",
              "      <td>1981317</td>\n",
              "      <td>0.000000</td>\n",
              "    </tr>\n",
              "    <tr>\n",
              "      <th>ilesos</th>\n",
              "      <td>0</td>\n",
              "      <td>1981317</td>\n",
              "      <td>0.000000</td>\n",
              "    </tr>\n",
              "    <tr>\n",
              "      <th>feridos_graves</th>\n",
              "      <td>0</td>\n",
              "      <td>1981317</td>\n",
              "      <td>0.000000</td>\n",
              "    </tr>\n",
              "    <tr>\n",
              "      <th>feridos_leves</th>\n",
              "      <td>0</td>\n",
              "      <td>1981317</td>\n",
              "      <td>0.000000</td>\n",
              "    </tr>\n",
              "    <tr>\n",
              "      <th>dia_semana</th>\n",
              "      <td>0</td>\n",
              "      <td>1981317</td>\n",
              "      <td>0.000000</td>\n",
              "    </tr>\n",
              "    <tr>\n",
              "      <th>pessoas</th>\n",
              "      <td>0</td>\n",
              "      <td>1981317</td>\n",
              "      <td>0.000000</td>\n",
              "    </tr>\n",
              "    <tr>\n",
              "      <th>sentido_via</th>\n",
              "      <td>0</td>\n",
              "      <td>1981317</td>\n",
              "      <td>0.000000</td>\n",
              "    </tr>\n",
              "    <tr>\n",
              "      <th>municipio</th>\n",
              "      <td>0</td>\n",
              "      <td>1981317</td>\n",
              "      <td>0.000000</td>\n",
              "    </tr>\n",
              "    <tr>\n",
              "      <th>horario</th>\n",
              "      <td>0</td>\n",
              "      <td>1981317</td>\n",
              "      <td>0.000000</td>\n",
              "    </tr>\n",
              "    <tr>\n",
              "      <th>hora</th>\n",
              "      <td>0</td>\n",
              "      <td>1981317</td>\n",
              "      <td>0.000000</td>\n",
              "    </tr>\n",
              "  </tbody>\n",
              "</table>\n",
              "</div>"
            ],
            "text/plain": [
              "                        missing    total    percent\n",
              "delegacia               1563088  1981317  78.891364\n",
              "uop                     1563008  1981317  78.887326\n",
              "regional                1562206  1981317  78.846848\n",
              "latitude                1562200  1981317  78.846545\n",
              "longitude               1562200  1981317  78.846545\n",
              "ano                      515480  1981317  26.017038\n",
              "br                          894  1981317   0.045122\n",
              "km                          894  1981317   0.045122\n",
              "fase_dia                     70  1981317   0.003533\n",
              "condicao_metereologica       61  1981317   0.003079\n",
              "tipo_acidente                40  1981317   0.002019\n",
              "classificacao_acidente       26  1981317   0.001312\n",
              "uf                           12  1981317   0.000606\n",
              "tipo_pista                   10  1981317   0.000505\n",
              "tracado_via                  10  1981317   0.000505\n",
              "uso_solo                     10  1981317   0.000505\n",
              "causa_acidente                2  1981317   0.000101\n",
              "quarter                       0  1981317   0.000000\n",
              "veiculos                      0  1981317   0.000000\n",
              "month                         0  1981317   0.000000\n",
              "year                          0  1981317   0.000000\n",
              "quarter_end                   0  1981317   0.000000\n",
              "hour                          0  1981317   0.000000\n",
              "data_inversa                  0  1981317   0.000000\n",
              "mortos                        0  1981317   0.000000\n",
              "feridos                       0  1981317   0.000000\n",
              "ignorados                     0  1981317   0.000000\n",
              "ilesos                        0  1981317   0.000000\n",
              "feridos_graves                0  1981317   0.000000\n",
              "feridos_leves                 0  1981317   0.000000\n",
              "dia_semana                    0  1981317   0.000000\n",
              "pessoas                       0  1981317   0.000000\n",
              "sentido_via                   0  1981317   0.000000\n",
              "municipio                     0  1981317   0.000000\n",
              "horario                       0  1981317   0.000000\n",
              "hora                          0  1981317   0.000000"
            ]
          },
          "execution_count": 10,
          "metadata": {},
          "output_type": "execute_result"
        }
      ],
      "source": [
        "#percentual de dados vazios\n",
        "df.stb.missing()"
      ]
    },
    {
      "cell_type": "code",
      "execution_count": 11,
      "metadata": {
        "colab": {
          "base_uri": "https://localhost:8080/",
          "height": 557
        },
        "id": "gF-fOG6FHCXR",
        "outputId": "586b6102-3638-442a-ed2d-c6f949c78b02"
      },
      "outputs": [
        {
          "data": {
            "text/plain": [
              "<Figure size 1000x600 with 0 Axes>"
            ]
          },
          "metadata": {},
          "output_type": "display_data"
        },
        {
          "data": {
            "image/png": "[encoded data removed]",
            "text/plain": [
              "<Figure size 2500x1000 with 2 Axes>"
            ]
          },
          "metadata": {},
          "output_type": "display_data"
        }
      ],
      "source": [
        "cor_seaborn = sns.color_palette(\"Blues\")\n",
        "cor_escolhida = cor_seaborn[5]  \n",
        "\n",
        "plt.figure(figsize=(10, 6))\n",
        "msno.matrix(df, color=cor_escolhida)\n",
        "\n",
        "plt.show()"
      ]
    },
    {
      "cell_type": "code",
      "execution_count": 12,
      "metadata": {
        "id": "rg6FfJ99MUqS"
      },
      "outputs": [],
      "source": [
        "# Exclusão das colunas com maioria dos dados em branco\n",
        "df = df.drop(columns = [\"latitude\", \"longitude\", \"regional\", \"delegacia\", \"uop\", \"ano\", \"municipio\"])"
      ]
    },
    {
      "cell_type": "code",
      "execution_count": 13,
      "metadata": {
        "id": "bRgmKM84VBsR"
      },
      "outputs": [],
      "source": [
        "df.dropna(inplace = True)"
      ]
    },
    {
      "cell_type": "code",
      "execution_count": 14,
      "metadata": {
        "colab": {
          "base_uri": "https://localhost:8080/",
          "height": 959
        },
        "id": "Ae_DkErnVGq7",
        "outputId": "ea9587fb-c789-46bd-8de6-d5dd0cc0e6c9"
      },
      "outputs": [
        {
          "data": {
            "text/html": [
              "<div>\n",
              "<style scoped>\n",
              "    .dataframe tbody tr th:only-of-type {\n",
              "        vertical-align: middle;\n",
              "    }\n",
              "\n",
              "    .dataframe tbody tr th {\n",
              "        vertical-align: top;\n",
              "    }\n",
              "\n",
              "    .dataframe thead th {\n",
              "        text-align: right;\n",
              "    }\n",
              "</style>\n",
              "<table border=\"1\" class=\"dataframe\">\n",
              "  <thead>\n",
              "    <tr style=\"text-align: right;\">\n",
              "      <th></th>\n",
              "      <th>missing</th>\n",
              "      <th>total</th>\n",
              "      <th>percent</th>\n",
              "    </tr>\n",
              "  </thead>\n",
              "  <tbody>\n",
              "    <tr>\n",
              "      <th>data_inversa</th>\n",
              "      <td>0</td>\n",
              "      <td>1980229</td>\n",
              "      <td>0.0</td>\n",
              "    </tr>\n",
              "    <tr>\n",
              "      <th>pessoas</th>\n",
              "      <td>0</td>\n",
              "      <td>1980229</td>\n",
              "      <td>0.0</td>\n",
              "    </tr>\n",
              "    <tr>\n",
              "      <th>hour</th>\n",
              "      <td>0</td>\n",
              "      <td>1980229</td>\n",
              "      <td>0.0</td>\n",
              "    </tr>\n",
              "    <tr>\n",
              "      <th>quarter_end</th>\n",
              "      <td>0</td>\n",
              "      <td>1980229</td>\n",
              "      <td>0.0</td>\n",
              "    </tr>\n",
              "    <tr>\n",
              "      <th>quarter</th>\n",
              "      <td>0</td>\n",
              "      <td>1980229</td>\n",
              "      <td>0.0</td>\n",
              "    </tr>\n",
              "    <tr>\n",
              "      <th>month</th>\n",
              "      <td>0</td>\n",
              "      <td>1980229</td>\n",
              "      <td>0.0</td>\n",
              "    </tr>\n",
              "    <tr>\n",
              "      <th>year</th>\n",
              "      <td>0</td>\n",
              "      <td>1980229</td>\n",
              "      <td>0.0</td>\n",
              "    </tr>\n",
              "    <tr>\n",
              "      <th>veiculos</th>\n",
              "      <td>0</td>\n",
              "      <td>1980229</td>\n",
              "      <td>0.0</td>\n",
              "    </tr>\n",
              "    <tr>\n",
              "      <th>feridos</th>\n",
              "      <td>0</td>\n",
              "      <td>1980229</td>\n",
              "      <td>0.0</td>\n",
              "    </tr>\n",
              "    <tr>\n",
              "      <th>ignorados</th>\n",
              "      <td>0</td>\n",
              "      <td>1980229</td>\n",
              "      <td>0.0</td>\n",
              "    </tr>\n",
              "    <tr>\n",
              "      <th>ilesos</th>\n",
              "      <td>0</td>\n",
              "      <td>1980229</td>\n",
              "      <td>0.0</td>\n",
              "    </tr>\n",
              "    <tr>\n",
              "      <th>feridos_graves</th>\n",
              "      <td>0</td>\n",
              "      <td>1980229</td>\n",
              "      <td>0.0</td>\n",
              "    </tr>\n",
              "    <tr>\n",
              "      <th>feridos_leves</th>\n",
              "      <td>0</td>\n",
              "      <td>1980229</td>\n",
              "      <td>0.0</td>\n",
              "    </tr>\n",
              "    <tr>\n",
              "      <th>mortos</th>\n",
              "      <td>0</td>\n",
              "      <td>1980229</td>\n",
              "      <td>0.0</td>\n",
              "    </tr>\n",
              "    <tr>\n",
              "      <th>uso_solo</th>\n",
              "      <td>0</td>\n",
              "      <td>1980229</td>\n",
              "      <td>0.0</td>\n",
              "    </tr>\n",
              "    <tr>\n",
              "      <th>dia_semana</th>\n",
              "      <td>0</td>\n",
              "      <td>1980229</td>\n",
              "      <td>0.0</td>\n",
              "    </tr>\n",
              "    <tr>\n",
              "      <th>tracado_via</th>\n",
              "      <td>0</td>\n",
              "      <td>1980229</td>\n",
              "      <td>0.0</td>\n",
              "    </tr>\n",
              "    <tr>\n",
              "      <th>tipo_pista</th>\n",
              "      <td>0</td>\n",
              "      <td>1980229</td>\n",
              "      <td>0.0</td>\n",
              "    </tr>\n",
              "    <tr>\n",
              "      <th>condicao_metereologica</th>\n",
              "      <td>0</td>\n",
              "      <td>1980229</td>\n",
              "      <td>0.0</td>\n",
              "    </tr>\n",
              "    <tr>\n",
              "      <th>sentido_via</th>\n",
              "      <td>0</td>\n",
              "      <td>1980229</td>\n",
              "      <td>0.0</td>\n",
              "    </tr>\n",
              "    <tr>\n",
              "      <th>fase_dia</th>\n",
              "      <td>0</td>\n",
              "      <td>1980229</td>\n",
              "      <td>0.0</td>\n",
              "    </tr>\n",
              "    <tr>\n",
              "      <th>classificacao_acidente</th>\n",
              "      <td>0</td>\n",
              "      <td>1980229</td>\n",
              "      <td>0.0</td>\n",
              "    </tr>\n",
              "    <tr>\n",
              "      <th>tipo_acidente</th>\n",
              "      <td>0</td>\n",
              "      <td>1980229</td>\n",
              "      <td>0.0</td>\n",
              "    </tr>\n",
              "    <tr>\n",
              "      <th>causa_acidente</th>\n",
              "      <td>0</td>\n",
              "      <td>1980229</td>\n",
              "      <td>0.0</td>\n",
              "    </tr>\n",
              "    <tr>\n",
              "      <th>km</th>\n",
              "      <td>0</td>\n",
              "      <td>1980229</td>\n",
              "      <td>0.0</td>\n",
              "    </tr>\n",
              "    <tr>\n",
              "      <th>br</th>\n",
              "      <td>0</td>\n",
              "      <td>1980229</td>\n",
              "      <td>0.0</td>\n",
              "    </tr>\n",
              "    <tr>\n",
              "      <th>uf</th>\n",
              "      <td>0</td>\n",
              "      <td>1980229</td>\n",
              "      <td>0.0</td>\n",
              "    </tr>\n",
              "    <tr>\n",
              "      <th>horario</th>\n",
              "      <td>0</td>\n",
              "      <td>1980229</td>\n",
              "      <td>0.0</td>\n",
              "    </tr>\n",
              "    <tr>\n",
              "      <th>hora</th>\n",
              "      <td>0</td>\n",
              "      <td>1980229</td>\n",
              "      <td>0.0</td>\n",
              "    </tr>\n",
              "  </tbody>\n",
              "</table>\n",
              "</div>"
            ],
            "text/plain": [
              "                        missing    total  percent\n",
              "data_inversa                  0  1980229      0.0\n",
              "pessoas                       0  1980229      0.0\n",
              "hour                          0  1980229      0.0\n",
              "quarter_end                   0  1980229      0.0\n",
              "quarter                       0  1980229      0.0\n",
              "month                         0  1980229      0.0\n",
              "year                          0  1980229      0.0\n",
              "veiculos                      0  1980229      0.0\n",
              "feridos                       0  1980229      0.0\n",
              "ignorados                     0  1980229      0.0\n",
              "ilesos                        0  1980229      0.0\n",
              "feridos_graves                0  1980229      0.0\n",
              "feridos_leves                 0  1980229      0.0\n",
              "mortos                        0  1980229      0.0\n",
              "uso_solo                      0  1980229      0.0\n",
              "dia_semana                    0  1980229      0.0\n",
              "tracado_via                   0  1980229      0.0\n",
              "tipo_pista                    0  1980229      0.0\n",
              "condicao_metereologica        0  1980229      0.0\n",
              "sentido_via                   0  1980229      0.0\n",
              "fase_dia                      0  1980229      0.0\n",
              "classificacao_acidente        0  1980229      0.0\n",
              "tipo_acidente                 0  1980229      0.0\n",
              "causa_acidente                0  1980229      0.0\n",
              "km                            0  1980229      0.0\n",
              "br                            0  1980229      0.0\n",
              "uf                            0  1980229      0.0\n",
              "horario                       0  1980229      0.0\n",
              "hora                          0  1980229      0.0"
            ]
          },
          "execution_count": 14,
          "metadata": {},
          "output_type": "execute_result"
        }
      ],
      "source": [
        "df.stb.missing()"
      ]
    },
    {
      "cell_type": "markdown",
      "metadata": {
        "id": "JD4A6PbyRVpY"
      },
      "source": [
        "Criação da coluna 'acidente_fatal' para ser o target.\n",
        "\n",
        "* 0: acidente **sem** morte\n",
        "* 1: acidente **com** morte"
      ]
    },
    {
      "cell_type": "code",
      "execution_count": 15,
      "metadata": {
        "colab": {
          "base_uri": "https://localhost:8080/",
          "height": 290
        },
        "id": "DFzF3nqTRQoH",
        "outputId": "6bb07dbf-36b5-498d-b263-fece5cbaf889"
      },
      "outputs": [
        {
          "data": {
            "text/html": [
              "<div>\n",
              "<style scoped>\n",
              "    .dataframe tbody tr th:only-of-type {\n",
              "        vertical-align: middle;\n",
              "    }\n",
              "\n",
              "    .dataframe tbody tr th {\n",
              "        vertical-align: top;\n",
              "    }\n",
              "\n",
              "    .dataframe thead th {\n",
              "        text-align: right;\n",
              "    }\n",
              "</style>\n",
              "<table border=\"1\" class=\"dataframe\">\n",
              "  <thead>\n",
              "    <tr style=\"text-align: right;\">\n",
              "      <th></th>\n",
              "      <th>data_inversa</th>\n",
              "      <th>dia_semana</th>\n",
              "      <th>horario</th>\n",
              "      <th>uf</th>\n",
              "      <th>br</th>\n",
              "      <th>km</th>\n",
              "      <th>causa_acidente</th>\n",
              "      <th>tipo_acidente</th>\n",
              "      <th>classificacao_acidente</th>\n",
              "      <th>fase_dia</th>\n",
              "      <th>...</th>\n",
              "      <th>ignorados</th>\n",
              "      <th>feridos</th>\n",
              "      <th>veiculos</th>\n",
              "      <th>year</th>\n",
              "      <th>month</th>\n",
              "      <th>quarter</th>\n",
              "      <th>quarter_end</th>\n",
              "      <th>hour</th>\n",
              "      <th>hora</th>\n",
              "      <th>acidente_fatal</th>\n",
              "    </tr>\n",
              "  </thead>\n",
              "  <tbody>\n",
              "    <tr>\n",
              "      <th>0</th>\n",
              "      <td>2007-01-01</td>\n",
              "      <td>Segunda</td>\n",
              "      <td>06:30:00</td>\n",
              "      <td>PA</td>\n",
              "      <td>316.0</td>\n",
              "      <td>9.0</td>\n",
              "      <td>Desobediência à sinalização</td>\n",
              "      <td>Colisão Transversal</td>\n",
              "      <td>Com Vítimas Feridas</td>\n",
              "      <td>Amanhecer</td>\n",
              "      <td>...</td>\n",
              "      <td>0</td>\n",
              "      <td>1</td>\n",
              "      <td>2</td>\n",
              "      <td>2007</td>\n",
              "      <td>1</td>\n",
              "      <td>1</td>\n",
              "      <td>False</td>\n",
              "      <td>06</td>\n",
              "      <td>06</td>\n",
              "      <td>0</td>\n",
              "    </tr>\n",
              "    <tr>\n",
              "      <th>1</th>\n",
              "      <td>2007-01-01</td>\n",
              "      <td>Segunda</td>\n",
              "      <td>08:40:00</td>\n",
              "      <td>MG</td>\n",
              "      <td>381.0</td>\n",
              "      <td>397.4</td>\n",
              "      <td>Outras</td>\n",
              "      <td>Saída de Pista</td>\n",
              "      <td>Sem Vítimas</td>\n",
              "      <td>Pleno dia</td>\n",
              "      <td>...</td>\n",
              "      <td>0</td>\n",
              "      <td>0</td>\n",
              "      <td>1</td>\n",
              "      <td>2007</td>\n",
              "      <td>1</td>\n",
              "      <td>1</td>\n",
              "      <td>False</td>\n",
              "      <td>08</td>\n",
              "      <td>08</td>\n",
              "      <td>0</td>\n",
              "    </tr>\n",
              "    <tr>\n",
              "      <th>2</th>\n",
              "      <td>2007-01-01</td>\n",
              "      <td>Segunda</td>\n",
              "      <td>15:20:00</td>\n",
              "      <td>SC</td>\n",
              "      <td>282.0</td>\n",
              "      <td>23.0</td>\n",
              "      <td>Desobediência à sinalização</td>\n",
              "      <td>Colisão Transversal</td>\n",
              "      <td>Com Vítimas Feridas</td>\n",
              "      <td>Pleno dia</td>\n",
              "      <td>...</td>\n",
              "      <td>0</td>\n",
              "      <td>1</td>\n",
              "      <td>2</td>\n",
              "      <td>2007</td>\n",
              "      <td>1</td>\n",
              "      <td>1</td>\n",
              "      <td>False</td>\n",
              "      <td>15</td>\n",
              "      <td>15</td>\n",
              "      <td>0</td>\n",
              "    </tr>\n",
              "    <tr>\n",
              "      <th>3</th>\n",
              "      <td>2007-01-01</td>\n",
              "      <td>Segunda</td>\n",
              "      <td>14:00:00</td>\n",
              "      <td>MG</td>\n",
              "      <td>40.0</td>\n",
              "      <td>120.8</td>\n",
              "      <td>Dormindo</td>\n",
              "      <td>Saída de Pista</td>\n",
              "      <td>Sem Vítimas</td>\n",
              "      <td>Pleno dia</td>\n",
              "      <td>...</td>\n",
              "      <td>0</td>\n",
              "      <td>0</td>\n",
              "      <td>1</td>\n",
              "      <td>2007</td>\n",
              "      <td>1</td>\n",
              "      <td>1</td>\n",
              "      <td>False</td>\n",
              "      <td>14</td>\n",
              "      <td>14</td>\n",
              "      <td>0</td>\n",
              "    </tr>\n",
              "    <tr>\n",
              "      <th>4</th>\n",
              "      <td>2007-01-01</td>\n",
              "      <td>Segunda</td>\n",
              "      <td>12:00:00</td>\n",
              "      <td>MG</td>\n",
              "      <td>50.0</td>\n",
              "      <td>0.2</td>\n",
              "      <td>Outras</td>\n",
              "      <td>Saída de Pista</td>\n",
              "      <td>Com Vítimas Feridas</td>\n",
              "      <td>Pleno dia</td>\n",
              "      <td>...</td>\n",
              "      <td>0</td>\n",
              "      <td>4</td>\n",
              "      <td>1</td>\n",
              "      <td>2007</td>\n",
              "      <td>1</td>\n",
              "      <td>1</td>\n",
              "      <td>False</td>\n",
              "      <td>12</td>\n",
              "      <td>12</td>\n",
              "      <td>0</td>\n",
              "    </tr>\n",
              "  </tbody>\n",
              "</table>\n",
              "<p>5 rows × 30 columns</p>\n",
              "</div>"
            ],
            "text/plain": [
              "  data_inversa dia_semana   horario  uf     br     km  \\\n",
              "0   2007-01-01    Segunda  06:30:00  PA  316.0    9.0   \n",
              "1   2007-01-01    Segunda  08:40:00  MG  381.0  397.4   \n",
              "2   2007-01-01    Segunda  15:20:00  SC  282.0   23.0   \n",
              "3   2007-01-01    Segunda  14:00:00  MG   40.0  120.8   \n",
              "4   2007-01-01    Segunda  12:00:00  MG   50.0    0.2   \n",
              "\n",
              "                causa_acidente        tipo_acidente classificacao_acidente  \\\n",
              "0  Desobediência à sinalização  Colisão Transversal    Com Vítimas Feridas   \n",
              "1                       Outras       Saída de Pista            Sem Vítimas   \n",
              "2  Desobediência à sinalização  Colisão Transversal    Com Vítimas Feridas   \n",
              "3                     Dormindo       Saída de Pista            Sem Vítimas   \n",
              "4                       Outras       Saída de Pista    Com Vítimas Feridas   \n",
              "\n",
              "    fase_dia  ... ignorados feridos veiculos  year month  quarter  \\\n",
              "0  Amanhecer  ...         0       1        2  2007     1        1   \n",
              "1  Pleno dia  ...         0       0        1  2007     1        1   \n",
              "2  Pleno dia  ...         0       1        2  2007     1        1   \n",
              "3  Pleno dia  ...         0       0        1  2007     1        1   \n",
              "4  Pleno dia  ...         0       4        1  2007     1        1   \n",
              "\n",
              "   quarter_end  hour  hora  acidente_fatal  \n",
              "0        False    06    06               0  \n",
              "1        False    08    08               0  \n",
              "2        False    15    15               0  \n",
              "3        False    14    14               0  \n",
              "4        False    12    12               0  \n",
              "\n",
              "[5 rows x 30 columns]"
            ]
          },
          "execution_count": 15,
          "metadata": {},
          "output_type": "execute_result"
        }
      ],
      "source": [
        "mapeamento = lambda x: 1 if x > 0 else 0\n",
        "df['acidente_fatal'] = df['mortos'].map(mapeamento)\n",
        "df.head()"
      ]
    },
    {
      "cell_type": "code",
      "execution_count": 16,
      "metadata": {
        "colab": {
          "base_uri": "https://localhost:8080/",
          "height": 557
        },
        "id": "dlq0NqFPWf5M",
        "outputId": "72d9dcb2-f7f4-4c75-8d7b-f4905f58f82c"
      },
      "outputs": [
        {
          "data": {
            "image/png": "[encoded data removed]",
            "text/plain": [
              "<Figure size 800x600 with 1 Axes>"
            ]
          },
          "metadata": {},
          "output_type": "display_data"
        }
      ],
      "source": [
        "plt.figure(figsize=(8, 6))\n",
        "ax = sns.countplot(x = df['acidente_fatal'], color=cor_escolhida) \n",
        "\n",
        "total = len(df['acidente_fatal'])\n",
        "for p in ax.patches:\n",
        "    height = p.get_height()\n",
        "    ax.text(p.get_x() + p.get_width() / 2.,\n",
        "            height + 3,\n",
        "            '{:.2f}%'.format((height / total) * 100),\n",
        "            ha = \"center\", va = \"bottom\")\n",
        "plt.grid(False)\n",
        "plt.show()"
      ]
    },
    {
      "cell_type": "markdown",
      "metadata": {
        "id": "WW4Ll1BcQRGV"
      },
      "source": [
        "Os dados de acidentes fatais estão desbalanceados, para trabalhar de agora por diante será feito um novo dataset selecionando apenas acidentes que houveram feridos graves.\n",
        "\n",
        "* 0: acidente **sem** feridos grave\n",
        "* 1: acidente **com** feridos grave"
      ]
    },
    {
      "cell_type": "code",
      "execution_count": 17,
      "metadata": {
        "colab": {
          "base_uri": "https://localhost:8080/",
          "height": 290
        },
        "id": "nyUBD9LSO5pt",
        "outputId": "6b7b51ff-5a0c-41c5-fa08-8225f3b75832"
      },
      "outputs": [
        {
          "data": {
            "text/html": [
              "<div>\n",
              "<style scoped>\n",
              "    .dataframe tbody tr th:only-of-type {\n",
              "        vertical-align: middle;\n",
              "    }\n",
              "\n",
              "    .dataframe tbody tr th {\n",
              "        vertical-align: top;\n",
              "    }\n",
              "\n",
              "    .dataframe thead th {\n",
              "        text-align: right;\n",
              "    }\n",
              "</style>\n",
              "<table border=\"1\" class=\"dataframe\">\n",
              "  <thead>\n",
              "    <tr style=\"text-align: right;\">\n",
              "      <th></th>\n",
              "      <th>data_inversa</th>\n",
              "      <th>dia_semana</th>\n",
              "      <th>horario</th>\n",
              "      <th>uf</th>\n",
              "      <th>br</th>\n",
              "      <th>km</th>\n",
              "      <th>causa_acidente</th>\n",
              "      <th>tipo_acidente</th>\n",
              "      <th>classificacao_acidente</th>\n",
              "      <th>fase_dia</th>\n",
              "      <th>...</th>\n",
              "      <th>feridos</th>\n",
              "      <th>veiculos</th>\n",
              "      <th>year</th>\n",
              "      <th>month</th>\n",
              "      <th>quarter</th>\n",
              "      <th>quarter_end</th>\n",
              "      <th>hour</th>\n",
              "      <th>hora</th>\n",
              "      <th>acidente_fatal</th>\n",
              "      <th>acidente_grave</th>\n",
              "    </tr>\n",
              "  </thead>\n",
              "  <tbody>\n",
              "    <tr>\n",
              "      <th>0</th>\n",
              "      <td>2007-01-01</td>\n",
              "      <td>Segunda</td>\n",
              "      <td>06:30:00</td>\n",
              "      <td>PA</td>\n",
              "      <td>316.0</td>\n",
              "      <td>9.0</td>\n",
              "      <td>Desobediência à sinalização</td>\n",
              "      <td>Colisão Transversal</td>\n",
              "      <td>Com Vítimas Feridas</td>\n",
              "      <td>Amanhecer</td>\n",
              "      <td>...</td>\n",
              "      <td>1</td>\n",
              "      <td>2</td>\n",
              "      <td>2007</td>\n",
              "      <td>1</td>\n",
              "      <td>1</td>\n",
              "      <td>False</td>\n",
              "      <td>06</td>\n",
              "      <td>06</td>\n",
              "      <td>0</td>\n",
              "      <td>0</td>\n",
              "    </tr>\n",
              "    <tr>\n",
              "      <th>1</th>\n",
              "      <td>2007-01-01</td>\n",
              "      <td>Segunda</td>\n",
              "      <td>08:40:00</td>\n",
              "      <td>MG</td>\n",
              "      <td>381.0</td>\n",
              "      <td>397.4</td>\n",
              "      <td>Outras</td>\n",
              "      <td>Saída de Pista</td>\n",
              "      <td>Sem Vítimas</td>\n",
              "      <td>Pleno dia</td>\n",
              "      <td>...</td>\n",
              "      <td>0</td>\n",
              "      <td>1</td>\n",
              "      <td>2007</td>\n",
              "      <td>1</td>\n",
              "      <td>1</td>\n",
              "      <td>False</td>\n",
              "      <td>08</td>\n",
              "      <td>08</td>\n",
              "      <td>0</td>\n",
              "      <td>0</td>\n",
              "    </tr>\n",
              "    <tr>\n",
              "      <th>2</th>\n",
              "      <td>2007-01-01</td>\n",
              "      <td>Segunda</td>\n",
              "      <td>15:20:00</td>\n",
              "      <td>SC</td>\n",
              "      <td>282.0</td>\n",
              "      <td>23.0</td>\n",
              "      <td>Desobediência à sinalização</td>\n",
              "      <td>Colisão Transversal</td>\n",
              "      <td>Com Vítimas Feridas</td>\n",
              "      <td>Pleno dia</td>\n",
              "      <td>...</td>\n",
              "      <td>1</td>\n",
              "      <td>2</td>\n",
              "      <td>2007</td>\n",
              "      <td>1</td>\n",
              "      <td>1</td>\n",
              "      <td>False</td>\n",
              "      <td>15</td>\n",
              "      <td>15</td>\n",
              "      <td>0</td>\n",
              "      <td>1</td>\n",
              "    </tr>\n",
              "    <tr>\n",
              "      <th>3</th>\n",
              "      <td>2007-01-01</td>\n",
              "      <td>Segunda</td>\n",
              "      <td>14:00:00</td>\n",
              "      <td>MG</td>\n",
              "      <td>40.0</td>\n",
              "      <td>120.8</td>\n",
              "      <td>Dormindo</td>\n",
              "      <td>Saída de Pista</td>\n",
              "      <td>Sem Vítimas</td>\n",
              "      <td>Pleno dia</td>\n",
              "      <td>...</td>\n",
              "      <td>0</td>\n",
              "      <td>1</td>\n",
              "      <td>2007</td>\n",
              "      <td>1</td>\n",
              "      <td>1</td>\n",
              "      <td>False</td>\n",
              "      <td>14</td>\n",
              "      <td>14</td>\n",
              "      <td>0</td>\n",
              "      <td>0</td>\n",
              "    </tr>\n",
              "    <tr>\n",
              "      <th>4</th>\n",
              "      <td>2007-01-01</td>\n",
              "      <td>Segunda</td>\n",
              "      <td>12:00:00</td>\n",
              "      <td>MG</td>\n",
              "      <td>50.0</td>\n",
              "      <td>0.2</td>\n",
              "      <td>Outras</td>\n",
              "      <td>Saída de Pista</td>\n",
              "      <td>Com Vítimas Feridas</td>\n",
              "      <td>Pleno dia</td>\n",
              "      <td>...</td>\n",
              "      <td>4</td>\n",
              "      <td>1</td>\n",
              "      <td>2007</td>\n",
              "      <td>1</td>\n",
              "      <td>1</td>\n",
              "      <td>False</td>\n",
              "      <td>12</td>\n",
              "      <td>12</td>\n",
              "      <td>0</td>\n",
              "      <td>1</td>\n",
              "    </tr>\n",
              "  </tbody>\n",
              "</table>\n",
              "<p>5 rows × 31 columns</p>\n",
              "</div>"
            ],
            "text/plain": [
              "  data_inversa dia_semana   horario  uf     br     km  \\\n",
              "0   2007-01-01    Segunda  06:30:00  PA  316.0    9.0   \n",
              "1   2007-01-01    Segunda  08:40:00  MG  381.0  397.4   \n",
              "2   2007-01-01    Segunda  15:20:00  SC  282.0   23.0   \n",
              "3   2007-01-01    Segunda  14:00:00  MG   40.0  120.8   \n",
              "4   2007-01-01    Segunda  12:00:00  MG   50.0    0.2   \n",
              "\n",
              "                causa_acidente        tipo_acidente classificacao_acidente  \\\n",
              "0  Desobediência à sinalização  Colisão Transversal    Com Vítimas Feridas   \n",
              "1                       Outras       Saída de Pista            Sem Vítimas   \n",
              "2  Desobediência à sinalização  Colisão Transversal    Com Vítimas Feridas   \n",
              "3                     Dormindo       Saída de Pista            Sem Vítimas   \n",
              "4                       Outras       Saída de Pista    Com Vítimas Feridas   \n",
              "\n",
              "    fase_dia  ... feridos veiculos  year month quarter  quarter_end  hour  \\\n",
              "0  Amanhecer  ...       1        2  2007     1       1        False    06   \n",
              "1  Pleno dia  ...       0        1  2007     1       1        False    08   \n",
              "2  Pleno dia  ...       1        2  2007     1       1        False    15   \n",
              "3  Pleno dia  ...       0        1  2007     1       1        False    14   \n",
              "4  Pleno dia  ...       4        1  2007     1       1        False    12   \n",
              "\n",
              "   hora  acidente_fatal  acidente_grave  \n",
              "0    06               0               0  \n",
              "1    08               0               0  \n",
              "2    15               0               1  \n",
              "3    14               0               0  \n",
              "4    12               0               1  \n",
              "\n",
              "[5 rows x 31 columns]"
            ]
          },
          "execution_count": 17,
          "metadata": {},
          "output_type": "execute_result"
        }
      ],
      "source": [
        "mapeamento = lambda x: 1 if x > 0 else 0\n",
        "df['acidente_grave'] = df['feridos_graves'].map(mapeamento)\n",
        "df.head()"
      ]
    },
    {
      "cell_type": "markdown",
      "metadata": {
        "id": "2KpRW-BhSQgx"
      },
      "source": [
        "Considerando que todo acidente fatal é um acidente com ferido grave, com a função lambda foi realizada a correção de alguns dados de acidente com morte que não estavam sendo contabilizados em acidente grave."
      ]
    },
    {
      "cell_type": "code",
      "execution_count": 18,
      "metadata": {
        "id": "84n1QpapR93Y"
      },
      "outputs": [],
      "source": [
        "update_acidente_grave = lambda x: 1 if x['acidente_fatal'] == 1 else x['acidente_grave']\n",
        "df['acidente_grave'] = df.apply(update_acidente_grave, axis = 1)"
      ]
    },
    {
      "cell_type": "markdown",
      "metadata": {
        "id": "1FIB5pw0dR9T"
      },
      "source": [
        "# Visualização do novo dataset"
      ]
    },
    {
      "cell_type": "code",
      "execution_count": 19,
      "metadata": {
        "colab": {
          "base_uri": "https://localhost:8080/",
          "height": 273
        },
        "id": "Xf0M8x5BS3fw",
        "outputId": "14c6de97-7128-4702-b6e2-5db9cb8bd8f8"
      },
      "outputs": [
        {
          "data": {
            "text/html": [
              "<div>\n",
              "<style scoped>\n",
              "    .dataframe tbody tr th:only-of-type {\n",
              "        vertical-align: middle;\n",
              "    }\n",
              "\n",
              "    .dataframe tbody tr th {\n",
              "        vertical-align: top;\n",
              "    }\n",
              "\n",
              "    .dataframe thead th {\n",
              "        text-align: right;\n",
              "    }\n",
              "</style>\n",
              "<table border=\"1\" class=\"dataframe\">\n",
              "  <thead>\n",
              "    <tr style=\"text-align: right;\">\n",
              "      <th></th>\n",
              "      <th>data_inversa</th>\n",
              "      <th>dia_semana</th>\n",
              "      <th>horario</th>\n",
              "      <th>uf</th>\n",
              "      <th>br</th>\n",
              "      <th>km</th>\n",
              "      <th>causa_acidente</th>\n",
              "      <th>tipo_acidente</th>\n",
              "      <th>classificacao_acidente</th>\n",
              "      <th>fase_dia</th>\n",
              "      <th>...</th>\n",
              "      <th>feridos</th>\n",
              "      <th>veiculos</th>\n",
              "      <th>year</th>\n",
              "      <th>month</th>\n",
              "      <th>quarter</th>\n",
              "      <th>quarter_end</th>\n",
              "      <th>hour</th>\n",
              "      <th>hora</th>\n",
              "      <th>acidente_fatal</th>\n",
              "      <th>acidente_grave</th>\n",
              "    </tr>\n",
              "  </thead>\n",
              "  <tbody>\n",
              "    <tr>\n",
              "      <th>2</th>\n",
              "      <td>2007-01-01</td>\n",
              "      <td>Segunda</td>\n",
              "      <td>15:20:00</td>\n",
              "      <td>SC</td>\n",
              "      <td>282.0</td>\n",
              "      <td>23.0</td>\n",
              "      <td>Desobediência à sinalização</td>\n",
              "      <td>Colisão Transversal</td>\n",
              "      <td>Com Vítimas Feridas</td>\n",
              "      <td>Pleno dia</td>\n",
              "      <td>...</td>\n",
              "      <td>1</td>\n",
              "      <td>2</td>\n",
              "      <td>2007</td>\n",
              "      <td>1</td>\n",
              "      <td>1</td>\n",
              "      <td>False</td>\n",
              "      <td>15</td>\n",
              "      <td>15</td>\n",
              "      <td>0</td>\n",
              "      <td>1</td>\n",
              "    </tr>\n",
              "    <tr>\n",
              "      <th>4</th>\n",
              "      <td>2007-01-01</td>\n",
              "      <td>Segunda</td>\n",
              "      <td>12:00:00</td>\n",
              "      <td>MG</td>\n",
              "      <td>50.0</td>\n",
              "      <td>0.2</td>\n",
              "      <td>Outras</td>\n",
              "      <td>Saída de Pista</td>\n",
              "      <td>Com Vítimas Feridas</td>\n",
              "      <td>Pleno dia</td>\n",
              "      <td>...</td>\n",
              "      <td>4</td>\n",
              "      <td>1</td>\n",
              "      <td>2007</td>\n",
              "      <td>1</td>\n",
              "      <td>1</td>\n",
              "      <td>False</td>\n",
              "      <td>12</td>\n",
              "      <td>12</td>\n",
              "      <td>0</td>\n",
              "      <td>1</td>\n",
              "    </tr>\n",
              "    <tr>\n",
              "      <th>8</th>\n",
              "      <td>2007-01-01</td>\n",
              "      <td>Segunda</td>\n",
              "      <td>18:10:00</td>\n",
              "      <td>SE</td>\n",
              "      <td>235.0</td>\n",
              "      <td>62.0</td>\n",
              "      <td>Falta de atenção</td>\n",
              "      <td>Colisão traseira</td>\n",
              "      <td>Com Vítimas Feridas</td>\n",
              "      <td>Anoitecer</td>\n",
              "      <td>...</td>\n",
              "      <td>1</td>\n",
              "      <td>2</td>\n",
              "      <td>2007</td>\n",
              "      <td>1</td>\n",
              "      <td>1</td>\n",
              "      <td>False</td>\n",
              "      <td>18</td>\n",
              "      <td>18</td>\n",
              "      <td>0</td>\n",
              "      <td>1</td>\n",
              "    </tr>\n",
              "    <tr>\n",
              "      <th>13</th>\n",
              "      <td>2007-01-01</td>\n",
              "      <td>Segunda</td>\n",
              "      <td>17:40:00</td>\n",
              "      <td>DF</td>\n",
              "      <td>70.0</td>\n",
              "      <td>9.0</td>\n",
              "      <td>Outras</td>\n",
              "      <td>Capotamento</td>\n",
              "      <td>Com Vítimas Feridas</td>\n",
              "      <td>Pleno dia</td>\n",
              "      <td>...</td>\n",
              "      <td>6</td>\n",
              "      <td>1</td>\n",
              "      <td>2007</td>\n",
              "      <td>1</td>\n",
              "      <td>1</td>\n",
              "      <td>False</td>\n",
              "      <td>17</td>\n",
              "      <td>17</td>\n",
              "      <td>0</td>\n",
              "      <td>1</td>\n",
              "    </tr>\n",
              "    <tr>\n",
              "      <th>16</th>\n",
              "      <td>2007-01-01</td>\n",
              "      <td>Segunda</td>\n",
              "      <td>06:00:00</td>\n",
              "      <td>RJ</td>\n",
              "      <td>101.0</td>\n",
              "      <td>219.0</td>\n",
              "      <td>Outras</td>\n",
              "      <td>Colisão lateral</td>\n",
              "      <td>Com Vítimas Feridas</td>\n",
              "      <td>Amanhecer</td>\n",
              "      <td>...</td>\n",
              "      <td>5</td>\n",
              "      <td>2</td>\n",
              "      <td>2007</td>\n",
              "      <td>1</td>\n",
              "      <td>1</td>\n",
              "      <td>False</td>\n",
              "      <td>06</td>\n",
              "      <td>06</td>\n",
              "      <td>0</td>\n",
              "      <td>1</td>\n",
              "    </tr>\n",
              "  </tbody>\n",
              "</table>\n",
              "<p>5 rows × 31 columns</p>\n",
              "</div>"
            ],
            "text/plain": [
              "   data_inversa dia_semana   horario  uf     br     km  \\\n",
              "2    2007-01-01    Segunda  15:20:00  SC  282.0   23.0   \n",
              "4    2007-01-01    Segunda  12:00:00  MG   50.0    0.2   \n",
              "8    2007-01-01    Segunda  18:10:00  SE  235.0   62.0   \n",
              "13   2007-01-01    Segunda  17:40:00  DF   70.0    9.0   \n",
              "16   2007-01-01    Segunda  06:00:00  RJ  101.0  219.0   \n",
              "\n",
              "                 causa_acidente        tipo_acidente classificacao_acidente  \\\n",
              "2   Desobediência à sinalização  Colisão Transversal    Com Vítimas Feridas   \n",
              "4                        Outras       Saída de Pista    Com Vítimas Feridas   \n",
              "8              Falta de atenção     Colisão traseira    Com Vítimas Feridas   \n",
              "13                       Outras          Capotamento    Com Vítimas Feridas   \n",
              "16                       Outras      Colisão lateral    Com Vítimas Feridas   \n",
              "\n",
              "     fase_dia  ... feridos veiculos  year month quarter  quarter_end  hour  \\\n",
              "2   Pleno dia  ...       1        2  2007     1       1        False    15   \n",
              "4   Pleno dia  ...       4        1  2007     1       1        False    12   \n",
              "8   Anoitecer  ...       1        2  2007     1       1        False    18   \n",
              "13  Pleno dia  ...       6        1  2007     1       1        False    17   \n",
              "16  Amanhecer  ...       5        2  2007     1       1        False    06   \n",
              "\n",
              "    hora  acidente_fatal  acidente_grave  \n",
              "2     15               0               1  \n",
              "4     12               0               1  \n",
              "8     18               0               1  \n",
              "13    17               0               1  \n",
              "16    06               0               1  \n",
              "\n",
              "[5 rows x 31 columns]"
            ]
          },
          "execution_count": 19,
          "metadata": {},
          "output_type": "execute_result"
        }
      ],
      "source": [
        "df = df[df['acidente_grave'] != 0]\n",
        "df.head()"
      ]
    },
    {
      "cell_type": "code",
      "execution_count": 20,
      "metadata": {
        "colab": {
          "base_uri": "https://localhost:8080/"
        },
        "id": "wp3hdO23TJEa",
        "outputId": "4fb4570a-1c4c-46a7-8f0b-5787cbd5d739"
      },
      "outputs": [
        {
          "data": {
            "text/plain": [
              "(349938, 31)"
            ]
          },
          "execution_count": 20,
          "metadata": {},
          "output_type": "execute_result"
        }
      ],
      "source": [
        "df.shape"
      ]
    },
    {
      "cell_type": "code",
      "execution_count": 21,
      "metadata": {
        "colab": {
          "base_uri": "https://localhost:8080/",
          "height": 542
        },
        "id": "zi__ePI9ddHs",
        "outputId": "a8557723-73d6-4069-aa0d-f201ff8026ed"
      },
      "outputs": [
        {
          "data": {
            "image/png": "[encoded data removed]",
            "text/plain": [
              "<Figure size 800x600 with 1 Axes>"
            ]
          },
          "metadata": {},
          "output_type": "display_data"
        }
      ],
      "source": [
        "plt.figure(figsize=(8, 6))\n",
        "ax = sns.countplot(x=df['acidente_fatal'], color=cor_escolhida)\n",
        "\n",
        "total = len(df['acidente_fatal'])\n",
        "for p in ax.patches:\n",
        "    height = p.get_height()\n",
        "    ax.text(p.get_x() + p.get_width() / 2.,\n",
        "            height + 3,\n",
        "            '{:.2f}%'.format((height / total) * 100),\n",
        "            ha = \"center\", va = \"bottom\")\n",
        "plt.grid(False)\n",
        "plt.show()"
      ]
    },
    {
      "cell_type": "markdown",
      "metadata": {
        "id": "i5WFKS5sd2Eq"
      },
      "source": [
        "# Tratamento de dados"
      ]
    },
    {
      "cell_type": "markdown",
      "metadata": {
        "id": "xcJCbs0deFtJ"
      },
      "source": [
        "Seleção apenas das colunas que serão utilizadas para features e target e algumas colunas que servirão de auxiliar para tratamentos das colunas importantes."
      ]
    },
    {
      "cell_type": "code",
      "execution_count": 22,
      "metadata": {
        "colab": {
          "base_uri": "https://localhost:8080/",
          "height": 424
        },
        "id": "9YcGjFP1ei_z",
        "outputId": "afb4de50-9b98-48ec-8a6e-730a49268b63"
      },
      "outputs": [
        {
          "data": {
            "text/html": [
              "<div>\n",
              "<style scoped>\n",
              "    .dataframe tbody tr th:only-of-type {\n",
              "        vertical-align: middle;\n",
              "    }\n",
              "\n",
              "    .dataframe tbody tr th {\n",
              "        vertical-align: top;\n",
              "    }\n",
              "\n",
              "    .dataframe thead th {\n",
              "        text-align: right;\n",
              "    }\n",
              "</style>\n",
              "<table border=\"1\" class=\"dataframe\">\n",
              "  <thead>\n",
              "    <tr style=\"text-align: right;\">\n",
              "      <th></th>\n",
              "      <th>dia_semana</th>\n",
              "      <th>tipo_acidente</th>\n",
              "      <th>hour</th>\n",
              "      <th>fase_dia</th>\n",
              "      <th>condicao_metereologica</th>\n",
              "      <th>tipo_pista</th>\n",
              "      <th>tracado_via</th>\n",
              "      <th>uso_solo</th>\n",
              "      <th>year</th>\n",
              "      <th>acidente_fatal</th>\n",
              "    </tr>\n",
              "  </thead>\n",
              "  <tbody>\n",
              "    <tr>\n",
              "      <th>0</th>\n",
              "      <td>Segunda</td>\n",
              "      <td>Colisão Transversal</td>\n",
              "      <td>15</td>\n",
              "      <td>Pleno dia</td>\n",
              "      <td>Nublado</td>\n",
              "      <td>Simples</td>\n",
              "      <td>Cruzamento</td>\n",
              "      <td>Rural</td>\n",
              "      <td>2007</td>\n",
              "      <td>0</td>\n",
              "    </tr>\n",
              "    <tr>\n",
              "      <th>1</th>\n",
              "      <td>Segunda</td>\n",
              "      <td>Saída de Pista</td>\n",
              "      <td>12</td>\n",
              "      <td>Pleno dia</td>\n",
              "      <td>Nublado</td>\n",
              "      <td>Simples</td>\n",
              "      <td>Curva</td>\n",
              "      <td>Rural</td>\n",
              "      <td>2007</td>\n",
              "      <td>0</td>\n",
              "    </tr>\n",
              "    <tr>\n",
              "      <th>2</th>\n",
              "      <td>Segunda</td>\n",
              "      <td>Colisão traseira</td>\n",
              "      <td>18</td>\n",
              "      <td>Anoitecer</td>\n",
              "      <td>Ceu Claro</td>\n",
              "      <td>Simples</td>\n",
              "      <td>Reta</td>\n",
              "      <td>Rural</td>\n",
              "      <td>2007</td>\n",
              "      <td>0</td>\n",
              "    </tr>\n",
              "    <tr>\n",
              "      <th>3</th>\n",
              "      <td>Segunda</td>\n",
              "      <td>Capotamento</td>\n",
              "      <td>17</td>\n",
              "      <td>Pleno dia</td>\n",
              "      <td>Ceu Claro</td>\n",
              "      <td>Dupla</td>\n",
              "      <td>Reta</td>\n",
              "      <td>Urbano</td>\n",
              "      <td>2007</td>\n",
              "      <td>0</td>\n",
              "    </tr>\n",
              "    <tr>\n",
              "      <th>4</th>\n",
              "      <td>Segunda</td>\n",
              "      <td>Colisão lateral</td>\n",
              "      <td>06</td>\n",
              "      <td>Amanhecer</td>\n",
              "      <td>Chuva</td>\n",
              "      <td>Simples</td>\n",
              "      <td>Curva</td>\n",
              "      <td>Rural</td>\n",
              "      <td>2007</td>\n",
              "      <td>0</td>\n",
              "    </tr>\n",
              "    <tr>\n",
              "      <th>...</th>\n",
              "      <td>...</td>\n",
              "      <td>...</td>\n",
              "      <td>...</td>\n",
              "      <td>...</td>\n",
              "      <td>...</td>\n",
              "      <td>...</td>\n",
              "      <td>...</td>\n",
              "      <td>...</td>\n",
              "      <td>...</td>\n",
              "      <td>...</td>\n",
              "    </tr>\n",
              "    <tr>\n",
              "      <th>349933</th>\n",
              "      <td>sábado</td>\n",
              "      <td>Colisão frontal</td>\n",
              "      <td>13</td>\n",
              "      <td>Pleno dia</td>\n",
              "      <td>Céu Claro</td>\n",
              "      <td>Simples</td>\n",
              "      <td>Não Informado</td>\n",
              "      <td>Não</td>\n",
              "      <td>2022</td>\n",
              "      <td>0</td>\n",
              "    </tr>\n",
              "    <tr>\n",
              "      <th>349934</th>\n",
              "      <td>sábado</td>\n",
              "      <td>Saída de leito carroçável</td>\n",
              "      <td>18</td>\n",
              "      <td>Pleno dia</td>\n",
              "      <td>Céu Claro</td>\n",
              "      <td>Dupla</td>\n",
              "      <td>Reta</td>\n",
              "      <td>Não</td>\n",
              "      <td>2022</td>\n",
              "      <td>0</td>\n",
              "    </tr>\n",
              "    <tr>\n",
              "      <th>349935</th>\n",
              "      <td>sábado</td>\n",
              "      <td>Saída de leito carroçável</td>\n",
              "      <td>14</td>\n",
              "      <td>Pleno dia</td>\n",
              "      <td>Chuva</td>\n",
              "      <td>Múltipla</td>\n",
              "      <td>Não Informado</td>\n",
              "      <td>Não</td>\n",
              "      <td>2022</td>\n",
              "      <td>0</td>\n",
              "    </tr>\n",
              "    <tr>\n",
              "      <th>349936</th>\n",
              "      <td>sábado</td>\n",
              "      <td>Tombamento</td>\n",
              "      <td>16</td>\n",
              "      <td>Pleno dia</td>\n",
              "      <td>Céu Claro</td>\n",
              "      <td>Dupla</td>\n",
              "      <td>Reta</td>\n",
              "      <td>Não</td>\n",
              "      <td>2022</td>\n",
              "      <td>0</td>\n",
              "    </tr>\n",
              "    <tr>\n",
              "      <th>349937</th>\n",
              "      <td>sábado</td>\n",
              "      <td>Atropelamento de Animal</td>\n",
              "      <td>18</td>\n",
              "      <td>Plena Noite</td>\n",
              "      <td>Céu Claro</td>\n",
              "      <td>Simples</td>\n",
              "      <td>Reta</td>\n",
              "      <td>Não</td>\n",
              "      <td>2022</td>\n",
              "      <td>0</td>\n",
              "    </tr>\n",
              "  </tbody>\n",
              "</table>\n",
              "<p>349938 rows × 10 columns</p>\n",
              "</div>"
            ],
            "text/plain": [
              "       dia_semana              tipo_acidente hour     fase_dia  \\\n",
              "0         Segunda        Colisão Transversal   15    Pleno dia   \n",
              "1         Segunda             Saída de Pista   12    Pleno dia   \n",
              "2         Segunda           Colisão traseira   18    Anoitecer   \n",
              "3         Segunda                Capotamento   17    Pleno dia   \n",
              "4         Segunda            Colisão lateral   06    Amanhecer   \n",
              "...           ...                        ...  ...          ...   \n",
              "349933     sábado            Colisão frontal   13    Pleno dia   \n",
              "349934     sábado  Saída de leito carroçável   18    Pleno dia   \n",
              "349935     sábado  Saída de leito carroçável   14    Pleno dia   \n",
              "349936     sábado                 Tombamento   16    Pleno dia   \n",
              "349937     sábado    Atropelamento de Animal   18  Plena Noite   \n",
              "\n",
              "       condicao_metereologica tipo_pista    tracado_via uso_solo  year  \\\n",
              "0                     Nublado    Simples     Cruzamento    Rural  2007   \n",
              "1                     Nublado    Simples          Curva    Rural  2007   \n",
              "2                   Ceu Claro    Simples           Reta    Rural  2007   \n",
              "3                   Ceu Claro      Dupla           Reta   Urbano  2007   \n",
              "4                       Chuva    Simples          Curva    Rural  2007   \n",
              "...                       ...        ...            ...      ...   ...   \n",
              "349933              Céu Claro    Simples  Não Informado      Não  2022   \n",
              "349934              Céu Claro      Dupla           Reta      Não  2022   \n",
              "349935                  Chuva   Múltipla  Não Informado      Não  2022   \n",
              "349936              Céu Claro      Dupla           Reta      Não  2022   \n",
              "349937              Céu Claro    Simples           Reta      Não  2022   \n",
              "\n",
              "        acidente_fatal  \n",
              "0                    0  \n",
              "1                    0  \n",
              "2                    0  \n",
              "3                    0  \n",
              "4                    0  \n",
              "...                ...  \n",
              "349933               0  \n",
              "349934               0  \n",
              "349935               0  \n",
              "349936               0  \n",
              "349937               0  \n",
              "\n",
              "[349938 rows x 10 columns]"
            ]
          },
          "execution_count": 22,
          "metadata": {},
          "output_type": "execute_result"
        }
      ],
      "source": [
        "df = df[['dia_semana', 'tipo_acidente', 'hour', 'fase_dia', 'condicao_metereologica', 'tipo_pista', 'tracado_via', 'uso_solo', 'year', 'acidente_fatal']]\n",
        "df = df.reset_index(drop = True)\n",
        "df"
      ]
    },
    {
      "cell_type": "markdown",
      "metadata": {
        "id": "DN2GI9CYxHJ0"
      },
      "source": [
        "Será necessário fazer novamente tratamento de dados, dessa vez das colunas que servirão como variáveis independentes."
      ]
    },
    {
      "cell_type": "markdown",
      "metadata": {
        "id": "pCqTr-R2mPnZ"
      },
      "source": [
        "## Coluna: dia_semana"
      ]
    },
    {
      "cell_type": "code",
      "execution_count": 23,
      "metadata": {
        "id": "0kLv3mJp0vD_"
      },
      "outputs": [],
      "source": [
        "df.rename(columns = {'dia_semana': 'final_de_semana'}, inplace = True)"
      ]
    },
    {
      "cell_type": "code",
      "execution_count": 24,
      "metadata": {
        "colab": {
          "base_uri": "https://localhost:8080/"
        },
        "id": "RIj_bJr_e0wV",
        "outputId": "71665cfe-4cfd-42df-a454-6886f401792e"
      },
      "outputs": [
        {
          "data": {
            "text/plain": [
              "array(['Segunda', 'Quinta', 'Domingo', 'Terça', 'Sexta', 'Quarta',\n",
              "       'Sábado', 'domingo', 'segunda-feira', 'terça-feira',\n",
              "       'quarta-feira', 'quinta-feira', 'sexta-feira', 'sábado'],\n",
              "      dtype=object)"
            ]
          },
          "execution_count": 24,
          "metadata": {},
          "output_type": "execute_result"
        }
      ],
      "source": [
        "df['final_de_semana'].unique()"
      ]
    },
    {
      "cell_type": "code",
      "execution_count": 25,
      "metadata": {
        "id": "EusI58UFhWn3"
      },
      "outputs": [],
      "source": [
        "mapeamento_semana = {\n",
        "    'domingo': 'sim',\n",
        "    'segunda-feira': 'não',\n",
        "    'terça-feira': 'não',\n",
        "    'quarta-feira': 'não',\n",
        "    'quinta-feira': 'não',\n",
        "    'sexta-feira': 'não',\n",
        "    'sábado': 'sim',\n",
        "    'Domingo': 'sim',\n",
        "    'Segunda': 'não',\n",
        "    'Terça': 'não',\n",
        "    'Quarta': 'não',\n",
        "    'Quinta': 'não',\n",
        "    'Sexta': 'não',\n",
        "    'Sábado': 'sim'\n",
        "}\n",
        "\n",
        "df['final_de_semana'] = df['final_de_semana'].map(mapeamento_semana)"
      ]
    },
    {
      "cell_type": "code",
      "execution_count": 26,
      "metadata": {
        "colab": {
          "base_uri": "https://localhost:8080/"
        },
        "id": "btpMaUzWibx0",
        "outputId": "2d951350-f740-4b1e-920f-21b0468641a2"
      },
      "outputs": [
        {
          "data": {
            "text/plain": [
              "final_de_semana\n",
              "não    62.45\n",
              "sim    37.55\n",
              "Name: proportion, dtype: float64"
            ]
          },
          "execution_count": 26,
          "metadata": {},
          "output_type": "execute_result"
        }
      ],
      "source": [
        "np.round(df['final_de_semana'].value_counts(normalize = True) * 100, 2)"
      ]
    },
    {
      "cell_type": "markdown",
      "metadata": {
        "id": "DJoyr-MOmSZ8"
      },
      "source": [
        "## coluna: tipo_acidente"
      ]
    },
    {
      "cell_type": "code",
      "execution_count": 27,
      "metadata": {
        "colab": {
          "base_uri": "https://localhost:8080/"
        },
        "id": "fEOuDXzSmaKY",
        "outputId": "82d80e6d-077d-4a67-ebb2-d98c40ded192"
      },
      "outputs": [
        {
          "data": {
            "text/plain": [
              "30"
            ]
          },
          "execution_count": 27,
          "metadata": {},
          "output_type": "execute_result"
        }
      ],
      "source": [
        "df['tipo_acidente'].nunique()"
      ]
    },
    {
      "cell_type": "code",
      "execution_count": 28,
      "metadata": {
        "colab": {
          "base_uri": "https://localhost:8080/"
        },
        "id": "fdr0Tjb5lOi_",
        "outputId": "537535d2-638b-4da7-bd33-7828b5b6ca52"
      },
      "outputs": [
        {
          "data": {
            "text/plain": [
              "array(['Colisão Transversal', 'Saída de Pista', 'Colisão traseira',\n",
              "       'Capotamento', 'Colisão lateral', 'Atropelamento de pessoa',\n",
              "       'Colisão frontal', 'Colisão com objeto fixo',\n",
              "       'Colisão com objeto móvel',\n",
              "       'Queda de motocicleta / bicicleta / veículo',\n",
              "       'Colisão com bicicleta', 'Atropelamento de animal', 'Tombamento',\n",
              "       'Derramamento de Carga', 'Danos Eventuais', 'Incêndio',\n",
              "       'Saída de leito carroçável', 'Colisão transversal',\n",
              "       'Queda de ocupante de veículo', 'Atropelamento de Pedestre',\n",
              "       'Colisão com objeto estático', 'Atropelamento de Animal',\n",
              "       'Colisão com objeto em movimento', 'Engavetamento',\n",
              "       'Danos eventuais', 'Derramamento de carga', 'Eventos atípicos',\n",
              "       'Colisão com objeto', 'Colisão lateral mesmo sentido',\n",
              "       'Colisão lateral sentido oposto'], dtype=object)"
            ]
          },
          "execution_count": 28,
          "metadata": {},
          "output_type": "execute_result"
        }
      ],
      "source": [
        "df['tipo_acidente'].unique()"
      ]
    },
    {
      "cell_type": "code",
      "execution_count": 29,
      "metadata": {
        "id": "KP5Dmp8qnp5R"
      },
      "outputs": [],
      "source": [
        "df['tipo_acidente'] = df['tipo_acidente'].apply(lambda x:convert_lower_case(x))"
      ]
    },
    {
      "cell_type": "code",
      "execution_count": 30,
      "metadata": {
        "id": "8XLfuViUmX6v"
      },
      "outputs": [],
      "source": [
        "mapeamento_acidente = {\n",
        "    'colisão transversal': 'colisão',\n",
        "    'saída de pista': 'saída de pista',\n",
        "    'colisão lateral': 'colisão',\n",
        "    'colisão com bicicleta': 'colisão',\n",
        "    'colisão traseira': 'colisão',\n",
        "    'colisão com objeto fixo': 'colisão',\n",
        "    'capotamento': 'capotamento',\n",
        "    'queda de motocicleta / bicicleta / veículo': 'queda',\n",
        "    'incêndio': 'incêndio',\n",
        "    'atropelamento de pessoa': 'atropelamento de pessoa',\n",
        "    'colisão frontal': 'colisão',\n",
        "    'atropelamento de animal': 'atropelamento de animal',\n",
        "    'colisão com objeto móvel': 'colisão',\n",
        "    'tombamento': 'tombamento',\n",
        "    'derramamento de carga': 'derramamento de carga',\n",
        "    'danos eventuais': 'outros',\n",
        "    'colisão com objeto estático': 'colisão',\n",
        "    'saída de leito carroçável': 'saída de pista',\n",
        "    'queda de ocupante de veículo': 'queda',\n",
        "    'atropelamento de pedestre': 'atropelamento de pessoa',\n",
        "    'engavetamento': 'colisão',\n",
        "    'colisão com objeto em movimento': 'colisão',\n",
        "    'colisão com objeto': 'colisão',\n",
        "    'colisão lateral mesmo sentido': 'colisão',\n",
        "    'eventos atípicos': 'outros',\n",
        "    'colisão lateral sentido oposto': 'colisão'\n",
        "}\n",
        "\n",
        "df['tipo_acidente'] = df['tipo_acidente'].map(mapeamento_acidente)"
      ]
    },
    {
      "cell_type": "code",
      "execution_count": 31,
      "metadata": {
        "colab": {
          "base_uri": "https://localhost:8080/"
        },
        "id": "ylHyRim-nDaO",
        "outputId": "8631fb77-ed97-4446-a96b-f9c5cdeebb30"
      },
      "outputs": [
        {
          "data": {
            "text/plain": [
              "tipo_acidente\n",
              "colisão                    59.54\n",
              "atropelamento de pessoa    12.30\n",
              "saída de pista             11.84\n",
              "queda                       5.76\n",
              "capotamento                 4.66\n",
              "tombamento                  3.97\n",
              "atropelamento de animal     1.66\n",
              "outros                      0.15\n",
              "derramamento de carga       0.07\n",
              "incêndio                    0.04\n",
              "Name: proportion, dtype: float64"
            ]
          },
          "execution_count": 31,
          "metadata": {},
          "output_type": "execute_result"
        }
      ],
      "source": [
        "np.round(df['tipo_acidente'].value_counts(normalize = True) * 100, 2)"
      ]
    },
    {
      "cell_type": "code",
      "execution_count": 32,
      "metadata": {
        "id": "Z_yJR5jaonMd"
      },
      "outputs": [],
      "source": [
        "df = df.drop(df[df['tipo_acidente'] == 'outros'].index).reset_index(drop = True)"
      ]
    },
    {
      "cell_type": "markdown",
      "metadata": {
        "id": "JRuzo7_qpWm0"
      },
      "source": [
        "## coluna: fase_dia"
      ]
    },
    {
      "cell_type": "code",
      "execution_count": 33,
      "metadata": {
        "colab": {
          "base_uri": "https://localhost:8080/"
        },
        "id": "4akenelfpkOh",
        "outputId": "7e9a5460-188b-4ac8-fd14-127d81e8668f"
      },
      "outputs": [
        {
          "data": {
            "text/plain": [
              "array(['Pleno dia', 'Anoitecer', 'Amanhecer', 'Plena noite',\n",
              "       'Plena Noite'], dtype=object)"
            ]
          },
          "execution_count": 33,
          "metadata": {},
          "output_type": "execute_result"
        }
      ],
      "source": [
        "df['fase_dia'].unique()"
      ]
    },
    {
      "cell_type": "code",
      "execution_count": 34,
      "metadata": {
        "colab": {
          "base_uri": "https://localhost:8080/"
        },
        "id": "9SwSn-Wgp7BL",
        "outputId": "d8f003a1-fef3-4ba7-948c-228f8fbc54cc"
      },
      "outputs": [
        {
          "data": {
            "text/plain": [
              "['00',\n",
              " '01',\n",
              " '02',\n",
              " '03',\n",
              " '04',\n",
              " '05',\n",
              " '06',\n",
              " '07',\n",
              " '08',\n",
              " '09',\n",
              " '10',\n",
              " '11',\n",
              " '12',\n",
              " '13',\n",
              " '14',\n",
              " '15',\n",
              " '16',\n",
              " '17',\n",
              " '18',\n",
              " '19',\n",
              " '20',\n",
              " '21',\n",
              " '22',\n",
              " '23']"
            ]
          },
          "execution_count": 34,
          "metadata": {},
          "output_type": "execute_result"
        }
      ],
      "source": [
        "sorted(df[df['fase_dia'] == 'Pleno dia']['hour'].unique())"
      ]
    },
    {
      "cell_type": "code",
      "execution_count": 35,
      "metadata": {},
      "outputs": [],
      "source": [
        "df['hour'] = df['hour'].astype(int)"
      ]
    },
    {
      "cell_type": "code",
      "execution_count": 36,
      "metadata": {
        "id": "KVcHJWrSpT8m"
      },
      "outputs": [],
      "source": [
        "mapeamento_horario = lambda x: (\n",
        "    'madrugada' if 0 <= x < 6\n",
        "    else 'manhã' if 6 <= x < 12\n",
        "    else 'tarde' if 12 <= x < 18\n",
        "    else 'noite'\n",
        ")\n",
        "\n",
        "df['fase_dia'] = df['hour'].apply(mapeamento_horario)"
      ]
    },
    {
      "cell_type": "code",
      "execution_count": 37,
      "metadata": {
        "colab": {
          "base_uri": "https://localhost:8080/",
          "height": 478
        },
        "id": "FcUkXh9pq0KC",
        "outputId": "7f7f8049-937c-454b-eb86-9198b6517c11"
      },
      "outputs": [
        {
          "data": {
            "text/plain": [
              "[6, 7, 8, 9, 10, 11]"
            ]
          },
          "execution_count": 37,
          "metadata": {},
          "output_type": "execute_result"
        }
      ],
      "source": [
        "sorted(df[df['fase_dia'] == 'manhã']['hour'].unique())"
      ]
    },
    {
      "cell_type": "code",
      "execution_count": 38,
      "metadata": {
        "id": "LzjrKkIXrPIV"
      },
      "outputs": [],
      "source": [
        "df = df.drop(columns = ['hour'])"
      ]
    },
    {
      "cell_type": "markdown",
      "metadata": {
        "id": "R2qM0Uk7rfxw"
      },
      "source": [
        "## coluna: condicao_metereologica"
      ]
    },
    {
      "cell_type": "code",
      "execution_count": 39,
      "metadata": {
        "id": "1X5pq-CrrMxo"
      },
      "outputs": [],
      "source": [
        "df['condicao_metereologica'] = df['condicao_metereologica'].apply(lambda x:convert_lower_case(x))"
      ]
    },
    {
      "cell_type": "code",
      "execution_count": 40,
      "metadata": {
        "colab": {
          "base_uri": "https://localhost:8080/"
        },
        "id": "0AQEeKelrpyf",
        "outputId": "a9e66399-2eea-4c31-d5f1-169b9dc5b8fa"
      },
      "outputs": [
        {
          "data": {
            "text/plain": [
              "condicao_metereologica\n",
              "ceu claro           37.37\n",
              "céu claro           18.85\n",
              "nublado             17.69\n",
              "chuva               11.48\n",
              "sol                  9.90\n",
              "ignorada             1.86\n",
              "nevoeiro/neblina     1.05\n",
              "garoa/chuvisco       0.86\n",
              "ignorado             0.60\n",
              "vento                0.34\n",
              "granizo              0.01\n",
              "neve                 0.01\n",
              "Name: proportion, dtype: float64"
            ]
          },
          "execution_count": 40,
          "metadata": {},
          "output_type": "execute_result"
        }
      ],
      "source": [
        "np.round(df['condicao_metereologica'].value_counts(normalize = True) * 100, 2)"
      ]
    },
    {
      "cell_type": "code",
      "execution_count": 41,
      "metadata": {
        "id": "tLZ-OhWVrv0b"
      },
      "outputs": [],
      "source": [
        "mapeamento_metereologica = {\n",
        "    'ceu claro': 'condições favoráveis',\n",
        "    'céu claro': 'condições favoráveis',\n",
        "    'nublado': 'condições adversas',\n",
        "    'sol': 'condições favoráveis',\n",
        "    'chuva': 'condições adversas',\n",
        "    'garoa/chuvisco': 'condições adversas',\n",
        "    'vento': 'condições adversas',\n",
        "    'nevoeiro/neblina': 'condições adversas',\n",
        "    'granizo': 'condições adversas',\n",
        "    'neve': 'condições adversas',\n",
        "    'ignorada': 'ignorado',\n",
        "    'ignorado': 'ignorado'\n",
        "}\n",
        "\n",
        "df['condicao_metereologica'] = df['condicao_metereologica'].map(mapeamento_metereologica)"
      ]
    },
    {
      "cell_type": "code",
      "execution_count": 42,
      "metadata": {
        "id": "KvLbwEvvrzQb"
      },
      "outputs": [],
      "source": [
        "df = df.drop(df[df['condicao_metereologica'] == 'ignorado'].index).reset_index(drop = True)"
      ]
    },
    {
      "cell_type": "code",
      "execution_count": 43,
      "metadata": {
        "colab": {
          "base_uri": "https://localhost:8080/"
        },
        "id": "ouuwmLyYsaXs",
        "outputId": "4e70049b-ec7f-4110-ecc1-35d481b4d951"
      },
      "outputs": [
        {
          "data": {
            "text/plain": [
              "condicao_metereologica\n",
              "condições favoráveis    67.78\n",
              "condições adversas      32.22\n",
              "Name: proportion, dtype: float64"
            ]
          },
          "execution_count": 43,
          "metadata": {},
          "output_type": "execute_result"
        }
      ],
      "source": [
        "np.round(df['condicao_metereologica'].value_counts(normalize = True) * 100, 2)"
      ]
    },
    {
      "cell_type": "markdown",
      "metadata": {
        "id": "6OD3TIVBtDKx"
      },
      "source": [
        "## coluna: tipo_pista"
      ]
    },
    {
      "cell_type": "code",
      "execution_count": 44,
      "metadata": {
        "colab": {
          "base_uri": "https://localhost:8080/"
        },
        "id": "mf8hsU1lsfVl",
        "outputId": "83573569-6800-4d09-9cd7-9ce37be1b50c"
      },
      "outputs": [
        {
          "data": {
            "text/plain": [
              "array(['Simples', 'Dupla', 'Múltipla'], dtype=object)"
            ]
          },
          "execution_count": 44,
          "metadata": {},
          "output_type": "execute_result"
        }
      ],
      "source": [
        "df['tipo_pista'].unique()"
      ]
    },
    {
      "cell_type": "code",
      "execution_count": 45,
      "metadata": {
        "id": "kqMUd-qqtHoR"
      },
      "outputs": [],
      "source": [
        "df['tipo_pista'] = df['tipo_pista'].apply(lambda x:convert_lower_case(x))"
      ]
    },
    {
      "cell_type": "markdown",
      "metadata": {
        "id": "1c0AmXwutLgT"
      },
      "source": [
        "## coluna: tracado_via"
      ]
    },
    {
      "cell_type": "code",
      "execution_count": 46,
      "metadata": {
        "id": "eEPOyBHWt3gu"
      },
      "outputs": [],
      "source": [
        "df['tracado_via'] = df['tracado_via'].apply(lambda x:convert_lower_case(x))"
      ]
    },
    {
      "cell_type": "code",
      "execution_count": 47,
      "metadata": {
        "colab": {
          "base_uri": "https://localhost:8080/"
        },
        "id": "zfLHc96msoBS",
        "outputId": "daa80d70-8ab5-4586-a3e1-cd0f4671066c"
      },
      "outputs": [
        {
          "data": {
            "text/plain": [
              "array(['cruzamento', 'curva', 'reta', 'desvio temporário',\n",
              "       'não informado', 'retorno regulamentado', 'interseção de vias',\n",
              "       'rotatória', 'viaduto', 'ponte', 'túnel'], dtype=object)"
            ]
          },
          "execution_count": 47,
          "metadata": {},
          "output_type": "execute_result"
        }
      ],
      "source": [
        "df['tracado_via'].unique()"
      ]
    },
    {
      "cell_type": "code",
      "execution_count": 48,
      "metadata": {
        "colab": {
          "base_uri": "https://localhost:8080/"
        },
        "id": "oRgbQUeDstKO",
        "outputId": "eeb92cce-737c-4491-9856-115581280cb2"
      },
      "outputs": [
        {
          "data": {
            "text/plain": [
              "tracado_via\n",
              "reta                     69.53\n",
              "curva                    19.78\n",
              "não informado             3.76\n",
              "cruzamento                3.60\n",
              "interseção de vias        1.28\n",
              "desvio temporário         0.91\n",
              "rotatória                 0.41\n",
              "retorno regulamentado     0.31\n",
              "ponte                     0.20\n",
              "viaduto                   0.18\n",
              "túnel                     0.03\n",
              "Name: proportion, dtype: float64"
            ]
          },
          "execution_count": 48,
          "metadata": {},
          "output_type": "execute_result"
        }
      ],
      "source": [
        "np.round(df['tracado_via'].value_counts(normalize = True) * 100, 2)"
      ]
    },
    {
      "cell_type": "code",
      "execution_count": 49,
      "metadata": {
        "id": "yjMyj2PDuH_x"
      },
      "outputs": [],
      "source": [
        "df = df.drop(df[df['tracado_via'] == 'não informado'].index).reset_index(drop = True)"
      ]
    },
    {
      "cell_type": "code",
      "execution_count": 50,
      "metadata": {
        "id": "LAyoMVQns3KL"
      },
      "outputs": [],
      "source": [
        "mapeamento_tracado_via = {\n",
        "    'reta': 'reta',\n",
        "    'curva': 'curva',\n",
        "    'cruzamento': 'cruzamento',\n",
        "    'interseção de vias ': 'cruzamento',\n",
        "    'desvio temporário': 'desvio temporário',\n",
        "    'rotatória': 'rotatória',\n",
        "    'retorno regulamentado': 'retorno regulamentado',\n",
        "    'ponte': 'ponte/viaduto/túnel',\n",
        "    'viaduto': 'ponte/viaduto/túnel',\n",
        "    'túnel': 'ponte/viaduto/túnel'\n",
        "}\n",
        "\n",
        "df['tracado_via'] = df['tracado_via'].map(mapeamento_tracado_via)"
      ]
    },
    {
      "cell_type": "code",
      "execution_count": 51,
      "metadata": {
        "colab": {
          "base_uri": "https://localhost:8080/"
        },
        "id": "TKYGYi3HvOPI",
        "outputId": "c7669fb6-8243-4399-bb78-cd3adc2bfc68"
      },
      "outputs": [
        {
          "data": {
            "text/plain": [
              "tracado_via\n",
              "reta                     73.23\n",
              "curva                    20.84\n",
              "cruzamento                3.79\n",
              "desvio temporário         0.96\n",
              "ponte/viaduto/túnel       0.43\n",
              "rotatória                 0.43\n",
              "retorno regulamentado     0.33\n",
              "Name: proportion, dtype: float64"
            ]
          },
          "execution_count": 51,
          "metadata": {},
          "output_type": "execute_result"
        }
      ],
      "source": [
        "np.round(df['tracado_via'].value_counts(normalize = True) * 100, 2)"
      ]
    },
    {
      "cell_type": "markdown",
      "metadata": {
        "id": "p90d5OdHwYRf"
      },
      "source": [
        "## coluna: uso_solo"
      ]
    },
    {
      "cell_type": "code",
      "execution_count": 52,
      "metadata": {
        "id": "mWgtkxUuwX-Q"
      },
      "outputs": [],
      "source": [
        "df['uso_solo'] = df['uso_solo'].apply(lambda x:convert_lower_case(x))"
      ]
    },
    {
      "cell_type": "code",
      "execution_count": 53,
      "metadata": {
        "colab": {
          "base_uri": "https://localhost:8080/"
        },
        "id": "0PdnSjJlvPSX",
        "outputId": "16ba44e6-fa41-4e14-977a-e3f8fd061bb6"
      },
      "outputs": [
        {
          "data": {
            "text/plain": [
              "uso_solo\n",
              "rural     38.00\n",
              "urbano    33.61\n",
              "não       16.36\n",
              "sim       12.03\n",
              "Name: proportion, dtype: float64"
            ]
          },
          "execution_count": 53,
          "metadata": {},
          "output_type": "execute_result"
        }
      ],
      "source": [
        "np.round(df['uso_solo'].value_counts(normalize = True) * 100, 2)"
      ]
    },
    {
      "cell_type": "code",
      "execution_count": 54,
      "metadata": {
        "id": "CVFOdB2ozyBH"
      },
      "outputs": [],
      "source": [
        "mapeamento_solo = {\n",
        "    'rural': 'rural',\n",
        "    'não': 'rural',\n",
        "    'urbano': 'urbano',\n",
        "    'sim': 'urbano'\n",
        "}\n",
        "\n",
        "df['uso_solo'] = df['uso_solo'].map(mapeamento_solo)"
      ]
    },
    {
      "cell_type": "code",
      "execution_count": 55,
      "metadata": {
        "colab": {
          "base_uri": "https://localhost:8080/"
        },
        "id": "ZbhugEtj0I6Y",
        "outputId": "e1dfb986-60eb-4762-df08-37539741bd3a"
      },
      "outputs": [
        {
          "data": {
            "text/plain": [
              "uso_solo\n",
              "rural     54.36\n",
              "urbano    45.64\n",
              "Name: proportion, dtype: float64"
            ]
          },
          "execution_count": 55,
          "metadata": {},
          "output_type": "execute_result"
        }
      ],
      "source": [
        "np.round(df['uso_solo'].value_counts(normalize = True) * 100, 2)"
      ]
    },
    {
      "cell_type": "code",
      "execution_count": 56,
      "metadata": {
        "colab": {
          "base_uri": "https://localhost:8080/",
          "height": 424
        },
        "id": "0ukD_xQT4DPV",
        "outputId": "c4132dee-585b-4eaf-9537-2cfdabd69dba"
      },
      "outputs": [
        {
          "data": {
            "text/html": [
              "<div>\n",
              "<style scoped>\n",
              "    .dataframe tbody tr th:only-of-type {\n",
              "        vertical-align: middle;\n",
              "    }\n",
              "\n",
              "    .dataframe tbody tr th {\n",
              "        vertical-align: top;\n",
              "    }\n",
              "\n",
              "    .dataframe thead th {\n",
              "        text-align: right;\n",
              "    }\n",
              "</style>\n",
              "<table border=\"1\" class=\"dataframe\">\n",
              "  <thead>\n",
              "    <tr style=\"text-align: right;\">\n",
              "      <th></th>\n",
              "      <th>final_de_semana</th>\n",
              "      <th>tipo_acidente</th>\n",
              "      <th>fase_dia</th>\n",
              "      <th>condicao_metereologica</th>\n",
              "      <th>tipo_pista</th>\n",
              "      <th>tracado_via</th>\n",
              "      <th>uso_solo</th>\n",
              "      <th>year</th>\n",
              "      <th>acidente_fatal</th>\n",
              "    </tr>\n",
              "  </thead>\n",
              "  <tbody>\n",
              "    <tr>\n",
              "      <th>0</th>\n",
              "      <td>não</td>\n",
              "      <td>colisão</td>\n",
              "      <td>tarde</td>\n",
              "      <td>condições adversas</td>\n",
              "      <td>simples</td>\n",
              "      <td>cruzamento</td>\n",
              "      <td>rural</td>\n",
              "      <td>2007</td>\n",
              "      <td>0</td>\n",
              "    </tr>\n",
              "    <tr>\n",
              "      <th>1</th>\n",
              "      <td>não</td>\n",
              "      <td>saída de pista</td>\n",
              "      <td>tarde</td>\n",
              "      <td>condições adversas</td>\n",
              "      <td>simples</td>\n",
              "      <td>curva</td>\n",
              "      <td>rural</td>\n",
              "      <td>2007</td>\n",
              "      <td>0</td>\n",
              "    </tr>\n",
              "    <tr>\n",
              "      <th>2</th>\n",
              "      <td>não</td>\n",
              "      <td>colisão</td>\n",
              "      <td>noite</td>\n",
              "      <td>condições favoráveis</td>\n",
              "      <td>simples</td>\n",
              "      <td>reta</td>\n",
              "      <td>rural</td>\n",
              "      <td>2007</td>\n",
              "      <td>0</td>\n",
              "    </tr>\n",
              "    <tr>\n",
              "      <th>3</th>\n",
              "      <td>não</td>\n",
              "      <td>capotamento</td>\n",
              "      <td>tarde</td>\n",
              "      <td>condições favoráveis</td>\n",
              "      <td>dupla</td>\n",
              "      <td>reta</td>\n",
              "      <td>urbano</td>\n",
              "      <td>2007</td>\n",
              "      <td>0</td>\n",
              "    </tr>\n",
              "    <tr>\n",
              "      <th>4</th>\n",
              "      <td>não</td>\n",
              "      <td>colisão</td>\n",
              "      <td>manhã</td>\n",
              "      <td>condições adversas</td>\n",
              "      <td>simples</td>\n",
              "      <td>curva</td>\n",
              "      <td>rural</td>\n",
              "      <td>2007</td>\n",
              "      <td>0</td>\n",
              "    </tr>\n",
              "    <tr>\n",
              "      <th>...</th>\n",
              "      <td>...</td>\n",
              "      <td>...</td>\n",
              "      <td>...</td>\n",
              "      <td>...</td>\n",
              "      <td>...</td>\n",
              "      <td>...</td>\n",
              "      <td>...</td>\n",
              "      <td>...</td>\n",
              "      <td>...</td>\n",
              "    </tr>\n",
              "    <tr>\n",
              "      <th>327988</th>\n",
              "      <td>sim</td>\n",
              "      <td>atropelamento de pessoa</td>\n",
              "      <td>tarde</td>\n",
              "      <td>condições favoráveis</td>\n",
              "      <td>dupla</td>\n",
              "      <td>reta</td>\n",
              "      <td>rural</td>\n",
              "      <td>2022</td>\n",
              "      <td>1</td>\n",
              "    </tr>\n",
              "    <tr>\n",
              "      <th>327989</th>\n",
              "      <td>sim</td>\n",
              "      <td>queda</td>\n",
              "      <td>tarde</td>\n",
              "      <td>condições favoráveis</td>\n",
              "      <td>simples</td>\n",
              "      <td>reta</td>\n",
              "      <td>rural</td>\n",
              "      <td>2022</td>\n",
              "      <td>0</td>\n",
              "    </tr>\n",
              "    <tr>\n",
              "      <th>327990</th>\n",
              "      <td>sim</td>\n",
              "      <td>saída de pista</td>\n",
              "      <td>noite</td>\n",
              "      <td>condições favoráveis</td>\n",
              "      <td>dupla</td>\n",
              "      <td>reta</td>\n",
              "      <td>rural</td>\n",
              "      <td>2022</td>\n",
              "      <td>0</td>\n",
              "    </tr>\n",
              "    <tr>\n",
              "      <th>327991</th>\n",
              "      <td>sim</td>\n",
              "      <td>tombamento</td>\n",
              "      <td>tarde</td>\n",
              "      <td>condições favoráveis</td>\n",
              "      <td>dupla</td>\n",
              "      <td>reta</td>\n",
              "      <td>rural</td>\n",
              "      <td>2022</td>\n",
              "      <td>0</td>\n",
              "    </tr>\n",
              "    <tr>\n",
              "      <th>327992</th>\n",
              "      <td>sim</td>\n",
              "      <td>atropelamento de animal</td>\n",
              "      <td>noite</td>\n",
              "      <td>condições favoráveis</td>\n",
              "      <td>simples</td>\n",
              "      <td>reta</td>\n",
              "      <td>rural</td>\n",
              "      <td>2022</td>\n",
              "      <td>0</td>\n",
              "    </tr>\n",
              "  </tbody>\n",
              "</table>\n",
              "<p>327993 rows × 9 columns</p>\n",
              "</div>"
            ],
            "text/plain": [
              "       final_de_semana            tipo_acidente fase_dia  \\\n",
              "0                  não                  colisão    tarde   \n",
              "1                  não           saída de pista    tarde   \n",
              "2                  não                  colisão    noite   \n",
              "3                  não              capotamento    tarde   \n",
              "4                  não                  colisão    manhã   \n",
              "...                ...                      ...      ...   \n",
              "327988             sim  atropelamento de pessoa    tarde   \n",
              "327989             sim                    queda    tarde   \n",
              "327990             sim           saída de pista    noite   \n",
              "327991             sim               tombamento    tarde   \n",
              "327992             sim  atropelamento de animal    noite   \n",
              "\n",
              "       condicao_metereologica tipo_pista tracado_via uso_solo  year  \\\n",
              "0          condições adversas    simples  cruzamento    rural  2007   \n",
              "1          condições adversas    simples       curva    rural  2007   \n",
              "2        condições favoráveis    simples        reta    rural  2007   \n",
              "3        condições favoráveis      dupla        reta   urbano  2007   \n",
              "4          condições adversas    simples       curva    rural  2007   \n",
              "...                       ...        ...         ...      ...   ...   \n",
              "327988   condições favoráveis      dupla        reta    rural  2022   \n",
              "327989   condições favoráveis    simples        reta    rural  2022   \n",
              "327990   condições favoráveis      dupla        reta    rural  2022   \n",
              "327991   condições favoráveis      dupla        reta    rural  2022   \n",
              "327992   condições favoráveis    simples        reta    rural  2022   \n",
              "\n",
              "        acidente_fatal  \n",
              "0                    0  \n",
              "1                    0  \n",
              "2                    0  \n",
              "3                    0  \n",
              "4                    0  \n",
              "...                ...  \n",
              "327988               1  \n",
              "327989               0  \n",
              "327990               0  \n",
              "327991               0  \n",
              "327992               0  \n",
              "\n",
              "[327993 rows x 9 columns]"
            ]
          },
          "execution_count": 56,
          "metadata": {},
          "output_type": "execute_result"
        }
      ],
      "source": [
        "df"
      ]
    },
    {
      "cell_type": "markdown",
      "metadata": {
        "id": "yd_pc0CJ3oMR"
      },
      "source": [
        "# Divisão features e target"
      ]
    },
    {
      "cell_type": "code",
      "execution_count": 57,
      "metadata": {
        "id": "dzcBWCb13VLr"
      },
      "outputs": [],
      "source": [
        "x = df.iloc[:, :7].values"
      ]
    },
    {
      "cell_type": "code",
      "execution_count": 58,
      "metadata": {
        "id": "_OebZ2Ld3lSl"
      },
      "outputs": [],
      "source": [
        "y = df.iloc[:, -1].values"
      ]
    },
    {
      "cell_type": "code",
      "execution_count": 59,
      "metadata": {
        "colab": {
          "base_uri": "https://localhost:8080/"
        },
        "id": "hAtQuU2a3qY_",
        "outputId": "4549ed83-72d4-496e-deb3-4ee13431c813"
      },
      "outputs": [
        {
          "data": {
            "text/plain": [
              "((327993, 7), (327993,))"
            ]
          },
          "execution_count": 59,
          "metadata": {},
          "output_type": "execute_result"
        }
      ],
      "source": [
        "x.shape, y.shape"
      ]
    },
    {
      "cell_type": "markdown",
      "metadata": {
        "id": "1WHIQ50m36Aa"
      },
      "source": [
        "# Tratamento de atributos categóricos"
      ]
    },
    {
      "cell_type": "markdown",
      "metadata": {
        "id": "d1F-he6-3-1H"
      },
      "source": [
        "## LabelEncoder"
      ]
    },
    {
      "cell_type": "code",
      "execution_count": 60,
      "metadata": {
        "colab": {
          "base_uri": "https://localhost:8080/"
        },
        "id": "trOwG1Nq3w5y",
        "outputId": "fae52124-b74c-42e6-8798-f6ad2b4c11b9"
      },
      "outputs": [
        {
          "data": {
            "text/plain": [
              "array(['não', 'colisão', 'tarde', 'condições adversas', 'simples',\n",
              "       'cruzamento', 'rural'], dtype=object)"
            ]
          },
          "execution_count": 60,
          "metadata": {},
          "output_type": "execute_result"
        }
      ],
      "source": [
        "x[0]"
      ]
    },
    {
      "cell_type": "code",
      "execution_count": 61,
      "metadata": {
        "id": "a9UIPpy74Atv"
      },
      "outputs": [],
      "source": [
        "label_encoder_final_de_semana = LabelEncoder()\n",
        "label_encoder_tipo_acidente = LabelEncoder()\n",
        "label_encoder_fase_dia = LabelEncoder()\n",
        "label_encoder_condicao_metereologica = LabelEncoder()\n",
        "label_encoder_tipo_pista = LabelEncoder()\n",
        "label_encoder_tracado_via = LabelEncoder()\n",
        "label_encoder_uso_solo = LabelEncoder()"
      ]
    },
    {
      "cell_type": "code",
      "execution_count": 62,
      "metadata": {
        "id": "Yz9huyB849Ua"
      },
      "outputs": [],
      "source": [
        "x[:, 0] = label_encoder_final_de_semana.fit_transform(x[:, 0])\n",
        "x[:, 1] = label_encoder_tipo_acidente.fit_transform(x[:, 1])\n",
        "x[:, 2] = label_encoder_fase_dia.fit_transform(x[:, 2])\n",
        "x[:, 3] = label_encoder_condicao_metereologica.fit_transform(x[:, 3])\n",
        "x[:, 4] = label_encoder_tipo_pista.fit_transform(x[:, 4])\n",
        "x[:, 5] = label_encoder_tracado_via.fit_transform(x[:, 5])\n",
        "x[:, 6] = label_encoder_uso_solo.fit_transform(x[:, 6])"
      ]
    },
    {
      "cell_type": "code",
      "execution_count": 63,
      "metadata": {
        "colab": {
          "base_uri": "https://localhost:8080/"
        },
        "id": "egsjiqdq5BGv",
        "outputId": "148ef0ff-5243-479c-a486-8113f4abd82f"
      },
      "outputs": [
        {
          "data": {
            "text/plain": [
              "array([0, 3, 3, 0, 2, 0, 0], dtype=object)"
            ]
          },
          "execution_count": 63,
          "metadata": {},
          "output_type": "execute_result"
        }
      ],
      "source": [
        "x[0]"
      ]
    },
    {
      "cell_type": "code",
      "execution_count": 64,
      "metadata": {
        "colab": {
          "base_uri": "https://localhost:8080/"
        },
        "id": "Ty9hTkJJ5Cln",
        "outputId": "22fd72fc-c22a-4a13-b57d-d6d307d5f812"
      },
      "outputs": [
        {
          "data": {
            "text/plain": [
              "array([[0, 3, 3, ..., 2, 0, 0],\n",
              "       [0, 7, 3, ..., 2, 1, 0],\n",
              "       [0, 3, 2, ..., 2, 4, 0],\n",
              "       ...,\n",
              "       [1, 7, 2, ..., 0, 4, 0],\n",
              "       [1, 8, 3, ..., 0, 4, 0],\n",
              "       [1, 0, 2, ..., 2, 4, 0]], dtype=object)"
            ]
          },
          "execution_count": 64,
          "metadata": {},
          "output_type": "execute_result"
        }
      ],
      "source": [
        "x"
      ]
    },
    {
      "cell_type": "markdown",
      "metadata": {
        "id": "Ig3F-ENk5JV7"
      },
      "source": [
        "## OneHotEncoder"
      ]
    },
    {
      "cell_type": "code",
      "execution_count": 65,
      "metadata": {
        "id": "o965zv8D5FxS"
      },
      "outputs": [],
      "source": [
        "onehotencoder_x = ColumnTransformer(transformers = [('OneHot', OneHotEncoder(), [0, 1, 2, 3, 4, 5, 6])], remainder = 'passthrough')"
      ]
    },
    {
      "cell_type": "code",
      "execution_count": 66,
      "metadata": {
        "colab": {
          "base_uri": "https://localhost:8080/"
        },
        "id": "3l2tDFQE5NLt",
        "outputId": "eedf8b79-5cda-4d8b-a44a-3fb822778f5f"
      },
      "outputs": [
        {
          "data": {
            "text/plain": [
              "array([[1., 0., 0., ..., 0., 1., 0.],\n",
              "       [1., 0., 0., ..., 0., 1., 0.],\n",
              "       [1., 0., 0., ..., 0., 1., 0.],\n",
              "       ...,\n",
              "       [0., 1., 0., ..., 0., 1., 0.],\n",
              "       [0., 1., 0., ..., 0., 1., 0.],\n",
              "       [0., 1., 1., ..., 0., 1., 0.]])"
            ]
          },
          "execution_count": 66,
          "metadata": {},
          "output_type": "execute_result"
        }
      ],
      "source": [
        "x = onehotencoder_x.fit_transform(x).toarray()\n",
        "x"
      ]
    },
    {
      "cell_type": "code",
      "execution_count": 102,
      "metadata": {},
      "outputs": [
        {
          "data": {
            "text/plain": [
              "array([1., 0., 0., 0., 0., 1., 0., 0., 0., 0., 0., 0., 0., 0., 1., 1., 0.,\n",
              "       0., 0., 1., 1., 0., 0., 0., 0., 0., 0., 0., 1., 0.])"
            ]
          },
          "execution_count": 102,
          "metadata": {},
          "output_type": "execute_result"
        }
      ],
      "source": [
        "x[0]"
      ]
    },
    {
      "cell_type": "code",
      "execution_count": 67,
      "metadata": {
        "colab": {
          "base_uri": "https://localhost:8080/"
        },
        "id": "z8gRRKIR5OWG",
        "outputId": "176c52aa-2575-426a-85d4-3b997cfc6339"
      },
      "outputs": [
        {
          "data": {
            "text/plain": [
              "(327993, 30)"
            ]
          },
          "execution_count": 67,
          "metadata": {},
          "output_type": "execute_result"
        }
      ],
      "source": [
        "x.shape"
      ]
    },
    {
      "cell_type": "markdown",
      "metadata": {
        "id": "FAeCJ1_L5dam"
      },
      "source": [
        "# Divisão das bases em treinamento e teste"
      ]
    },
    {
      "cell_type": "code",
      "execution_count": 69,
      "metadata": {
        "id": "XvGebU3e5cbd"
      },
      "outputs": [],
      "source": [
        "x_train, x_test, y_train, y_test = train_test_split(x, y, test_size = 0.2, random_state = 0, stratify = y)"
      ]
    },
    {
      "cell_type": "code",
      "execution_count": 70,
      "metadata": {
        "colab": {
          "base_uri": "https://localhost:8080/"
        },
        "id": "UUFkpvz65kki",
        "outputId": "aabaf5f8-6174-49d5-a840-715fa294463d"
      },
      "outputs": [
        {
          "data": {
            "text/plain": [
              "((262394, 30), (262394,))"
            ]
          },
          "execution_count": 70,
          "metadata": {},
          "output_type": "execute_result"
        }
      ],
      "source": [
        "x_train.shape, y_train.shape"
      ]
    },
    {
      "cell_type": "code",
      "execution_count": 71,
      "metadata": {
        "colab": {
          "base_uri": "https://localhost:8080/"
        },
        "id": "RCE126Nl5ljn",
        "outputId": "1b95e017-5418-4f5a-b626-ad0e5835373e"
      },
      "outputs": [
        {
          "data": {
            "text/plain": [
              "((65599, 30), (65599,))"
            ]
          },
          "execution_count": 71,
          "metadata": {},
          "output_type": "execute_result"
        }
      ],
      "source": [
        "x_test.shape, y_test.shape"
      ]
    },
    {
      "cell_type": "markdown",
      "metadata": {
        "id": "-dm8Ri8p5o0F"
      },
      "source": [
        "# Modelos"
      ]
    },
    {
      "cell_type": "markdown",
      "metadata": {
        "id": "u_5FLCZJ5qdS"
      },
      "source": [
        "## Árvores de decisão"
      ]
    },
    {
      "cell_type": "code",
      "execution_count": 72,
      "metadata": {
        "id": "0gbdtn0Y5m-7"
      },
      "outputs": [],
      "source": [
        "arvore_modelo = DecisionTreeClassifier(criterion = 'log_loss', min_samples_leaf = 1, min_samples_split = 2 , splitter = 'best')\n",
        "arvore_modelo.fit(x_train, y_train)\n",
        "previsoes = arvore_modelo.predict(x_test)"
      ]
    },
    {
      "cell_type": "code",
      "execution_count": 73,
      "metadata": {
        "colab": {
          "base_uri": "https://localhost:8080/"
        },
        "id": "RPWzCRP25tof",
        "outputId": "67f02ae5-4df3-4654-e3d7-0da0c252426e"
      },
      "outputs": [
        {
          "data": {
            "text/plain": [
              "0.748304090001372"
            ]
          },
          "execution_count": 73,
          "metadata": {},
          "output_type": "execute_result"
        }
      ],
      "source": [
        "accuracy_score(y_test, previsoes)"
      ]
    },
    {
      "cell_type": "code",
      "execution_count": 74,
      "metadata": {
        "colab": {
          "base_uri": "https://localhost:8080/",
          "height": 496
        },
        "id": "PF5Dgw6Q5urH",
        "outputId": "f4a39c3e-ae48-4cb7-ba24-03afbdd99965"
      },
      "outputs": [
        {
          "data": {
            "text/plain": [
              "0.748304090001372"
            ]
          },
          "execution_count": 74,
          "metadata": {},
          "output_type": "execute_result"
        },
        {
          "data": {
            "image/png": "[encoded data removed]",
            "text/plain": [
              "<Figure size 800x550 with 1 Axes>"
            ]
          },
          "metadata": {},
          "output_type": "display_data"
        }
      ],
      "source": [
        "cm = ConfusionMatrix(arvore_modelo)\n",
        "cm.fit(x_train, y_train)\n",
        "cm.score(x_test, y_test)"
      ]
    },
    {
      "cell_type": "code",
      "execution_count": 75,
      "metadata": {
        "colab": {
          "base_uri": "https://localhost:8080/"
        },
        "id": "evWxZ6745wAE",
        "outputId": "ba8642f7-2ed7-42af-c123-d71c39a8f941"
      },
      "outputs": [
        {
          "name": "stdout",
          "output_type": "stream",
          "text": [
            "              precision    recall  f1-score   support\n",
            "\n",
            "           0       0.75      0.98      0.85     48688\n",
            "           1       0.58      0.08      0.14     16911\n",
            "\n",
            "    accuracy                           0.75     65599\n",
            "   macro avg       0.67      0.53      0.50     65599\n",
            "weighted avg       0.71      0.75      0.67     65599\n",
            "\n"
          ]
        }
      ],
      "source": [
        "print(classification_report(y_test, previsoes))"
      ]
    },
    {
      "cell_type": "markdown",
      "metadata": {
        "id": "FUOyCe045z24"
      },
      "source": [
        "## Random Forest"
      ]
    },
    {
      "cell_type": "code",
      "execution_count": 76,
      "metadata": {
        "id": "yaAVtCCx5yFN"
      },
      "outputs": [],
      "source": [
        "random_modelo = RandomForestClassifier(n_estimators = 40, criterion = 'entropy', class_weight = \"balanced\",\n",
        "                                       min_samples_leaf = 5, min_samples_split = 5)\n",
        "random_modelo.fit(x_train, y_train)\n",
        "previsoes = random_modelo.predict(x_test)"
      ]
    },
    {
      "cell_type": "code",
      "execution_count": 77,
      "metadata": {
        "colab": {
          "base_uri": "https://localhost:8080/"
        },
        "id": "sMwZL0iF53DQ",
        "outputId": "57126652-7ede-49cf-c9ae-9c566fe2ff41"
      },
      "outputs": [
        {
          "data": {
            "text/plain": [
              "0.6297961859174682"
            ]
          },
          "execution_count": 77,
          "metadata": {},
          "output_type": "execute_result"
        }
      ],
      "source": [
        "accuracy_score(y_test, previsoes)"
      ]
    },
    {
      "cell_type": "code",
      "execution_count": 78,
      "metadata": {
        "colab": {
          "base_uri": "https://localhost:8080/",
          "height": 496
        },
        "id": "qmV1o2KE54I9",
        "outputId": "f4a858e5-a170-402d-f454-33484a311975"
      },
      "outputs": [
        {
          "data": {
            "text/plain": [
              "0.6297961859174682"
            ]
          },
          "execution_count": 78,
          "metadata": {},
          "output_type": "execute_result"
        },
        {
          "data": {
            "image/png": "[encoded data removed]",
            "text/plain": [
              "<Figure size 800x550 with 1 Axes>"
            ]
          },
          "metadata": {},
          "output_type": "display_data"
        }
      ],
      "source": [
        "cm = ConfusionMatrix(random_modelo)\n",
        "cm.fit(x_train, y_train)\n",
        "cm.score(x_test, y_test)"
      ]
    },
    {
      "cell_type": "code",
      "execution_count": 79,
      "metadata": {
        "colab": {
          "base_uri": "https://localhost:8080/"
        },
        "id": "nYRuqnBR55SL",
        "outputId": "1cab23e9-5386-43ef-c678-652660a75a42"
      },
      "outputs": [
        {
          "name": "stdout",
          "output_type": "stream",
          "text": [
            "              precision    recall  f1-score   support\n",
            "\n",
            "           0       0.84      0.62      0.71     48688\n",
            "           1       0.37      0.65      0.47     16911\n",
            "\n",
            "    accuracy                           0.63     65599\n",
            "   macro avg       0.61      0.64      0.59     65599\n",
            "weighted avg       0.72      0.63      0.65     65599\n",
            "\n"
          ]
        }
      ],
      "source": [
        "print(classification_report(y_test, previsoes))"
      ]
    },
    {
      "cell_type": "markdown",
      "metadata": {
        "id": "joqMGazk59ra"
      },
      "source": [
        "## K-Nearest Neighbour (KNN)"
      ]
    },
    {
      "cell_type": "code",
      "execution_count": 80,
      "metadata": {
        "id": "kaDGkcHA58gn"
      },
      "outputs": [],
      "source": [
        "knn_modelo = KNeighborsClassifier(n_neighbors = 20, p = 1)\n",
        "knn_modelo.fit(x_train, y_train)\n",
        "previsoes = knn_modelo.predict(x_test)"
      ]
    },
    {
      "cell_type": "code",
      "execution_count": 81,
      "metadata": {
        "colab": {
          "base_uri": "https://localhost:8080/"
        },
        "id": "ULkqL2mH6BmK",
        "outputId": "84265f5c-e131-4578-a356-c8c55175d561"
      },
      "outputs": [
        {
          "data": {
            "text/plain": [
              "0.7397063979633836"
            ]
          },
          "execution_count": 81,
          "metadata": {},
          "output_type": "execute_result"
        }
      ],
      "source": [
        "accuracy_score(y_test, previsoes)"
      ]
    },
    {
      "cell_type": "code",
      "execution_count": 82,
      "metadata": {
        "id": "cVLtEFBe6C1c"
      },
      "outputs": [
        {
          "data": {
            "text/plain": [
              "0.7397063979633836"
            ]
          },
          "execution_count": 82,
          "metadata": {},
          "output_type": "execute_result"
        },
        {
          "data": {
            "image/png": "[encoded data removed]",
            "text/plain": [
              "<Figure size 800x550 with 1 Axes>"
            ]
          },
          "metadata": {},
          "output_type": "display_data"
        }
      ],
      "source": [
        "cm = ConfusionMatrix(knn_modelo)\n",
        "cm.fit(x_train, y_train)\n",
        "cm.score(x_test, y_test)"
      ]
    },
    {
      "cell_type": "code",
      "execution_count": 83,
      "metadata": {
        "id": "oFqySxct6Ebr"
      },
      "outputs": [
        {
          "name": "stdout",
          "output_type": "stream",
          "text": [
            "              precision    recall  f1-score   support\n",
            "\n",
            "           0       0.75      0.96      0.85     48688\n",
            "           1       0.48      0.09      0.16     16911\n",
            "\n",
            "    accuracy                           0.74     65599\n",
            "   macro avg       0.61      0.53      0.50     65599\n",
            "weighted avg       0.68      0.74      0.67     65599\n",
            "\n"
          ]
        }
      ],
      "source": [
        "print(classification_report(y_test, previsoes))"
      ]
    },
    {
      "cell_type": "markdown",
      "metadata": {
        "id": "ZkuNrRxd6HGP"
      },
      "source": [
        "## Regressão logística"
      ]
    },
    {
      "cell_type": "code",
      "execution_count": 84,
      "metadata": {
        "id": "jFcrtUrz6Fp1"
      },
      "outputs": [],
      "source": [
        "logistic_modelo = LogisticRegression(C = 1.0, solver = 'lbfgs', tol = 0.00001, class_weight = 'balanced')\n",
        "logistic_modelo.fit(x_train, y_train)\n",
        "previsoes = logistic_modelo.predict(x_test)"
      ]
    },
    {
      "cell_type": "code",
      "execution_count": 85,
      "metadata": {
        "id": "BzATyx5Q6I-I"
      },
      "outputs": [
        {
          "data": {
            "text/plain": [
              "0.6218844799463407"
            ]
          },
          "execution_count": 85,
          "metadata": {},
          "output_type": "execute_result"
        }
      ],
      "source": [
        "accuracy_score(y_test, previsoes)"
      ]
    },
    {
      "cell_type": "code",
      "execution_count": 86,
      "metadata": {
        "id": "ALBe11sN6J-J"
      },
      "outputs": [
        {
          "data": {
            "text/plain": [
              "0.6218844799463407"
            ]
          },
          "execution_count": 86,
          "metadata": {},
          "output_type": "execute_result"
        },
        {
          "data": {
            "image/png": "[encoded data removed]",
            "text/plain": [
              "<Figure size 800x550 with 1 Axes>"
            ]
          },
          "metadata": {},
          "output_type": "display_data"
        }
      ],
      "source": [
        "cm = ConfusionMatrix(logistic_modelo)\n",
        "cm.fit(x_train, y_train)\n",
        "cm.score(x_test, y_test)"
      ]
    },
    {
      "cell_type": "code",
      "execution_count": 87,
      "metadata": {
        "id": "X-QO8cYX6Lij"
      },
      "outputs": [
        {
          "name": "stdout",
          "output_type": "stream",
          "text": [
            "              precision    recall  f1-score   support\n",
            "\n",
            "           0       0.84      0.61      0.71     48688\n",
            "           1       0.37      0.66      0.47     16911\n",
            "\n",
            "    accuracy                           0.62     65599\n",
            "   macro avg       0.60      0.63      0.59     65599\n",
            "weighted avg       0.72      0.62      0.65     65599\n",
            "\n"
          ]
        }
      ],
      "source": [
        "print(classification_report(y_test, previsoes))"
      ]
    },
    {
      "cell_type": "markdown",
      "metadata": {
        "id": "GsPX3hz56VC7"
      },
      "source": [
        "## Redes neurais artificiais"
      ]
    },
    {
      "cell_type": "code",
      "execution_count": 88,
      "metadata": {
        "id": "Tenvd5pl6VsI"
      },
      "outputs": [
        {
          "data": {
            "text/plain": [
              "4.0"
            ]
          },
          "execution_count": 88,
          "metadata": {},
          "output_type": "execute_result"
        }
      ],
      "source": [
        "# neuronios\n",
        "(7 + 1) / 2"
      ]
    },
    {
      "cell_type": "code",
      "execution_count": 89,
      "metadata": {
        "id": "zbh6MLCF6Zcz"
      },
      "outputs": [
        {
          "name": "stdout",
          "output_type": "stream",
          "text": [
            "Iteration 1, loss = 0.57132945\n"
          ]
        },
        {
          "name": "stdout",
          "output_type": "stream",
          "text": [
            "Iteration 2, loss = 0.57000599\n",
            "Iteration 3, loss = 0.56305494\n",
            "Iteration 4, loss = 0.54647400\n",
            "Iteration 5, loss = 0.53813651\n",
            "Iteration 6, loss = 0.53636501\n",
            "Iteration 7, loss = 0.53596278\n",
            "Iteration 8, loss = 0.53579348\n",
            "Iteration 9, loss = 0.53565568\n",
            "Iteration 10, loss = 0.53554237\n",
            "Iteration 11, loss = 0.53543369\n",
            "Iteration 12, loss = 0.53531020\n",
            "Iteration 13, loss = 0.53515836\n",
            "Iteration 14, loss = 0.53498078\n",
            "Iteration 15, loss = 0.53484851\n",
            "Iteration 16, loss = 0.53468389\n",
            "Iteration 17, loss = 0.53457507\n",
            "Iteration 18, loss = 0.53436261\n",
            "Iteration 19, loss = 0.53417178\n",
            "Iteration 20, loss = 0.53401278\n",
            "Iteration 21, loss = 0.53386449\n",
            "Iteration 22, loss = 0.53368981\n",
            "Iteration 23, loss = 0.53352777\n",
            "Iteration 24, loss = 0.53333140\n",
            "Iteration 25, loss = 0.53318794\n",
            "Iteration 26, loss = 0.53306997\n",
            "Iteration 27, loss = 0.53289496\n",
            "Iteration 28, loss = 0.53276515\n",
            "Iteration 29, loss = 0.53268403\n",
            "Iteration 30, loss = 0.53260661\n",
            "Iteration 31, loss = 0.53250538\n",
            "Iteration 32, loss = 0.53245485\n",
            "Iteration 33, loss = 0.53233713\n",
            "Iteration 34, loss = 0.53224132\n",
            "Iteration 35, loss = 0.53216909\n",
            "Iteration 36, loss = 0.53212331\n",
            "Iteration 37, loss = 0.53210384\n",
            "Iteration 38, loss = 0.53202277\n",
            "Iteration 39, loss = 0.53199468\n",
            "Iteration 40, loss = 0.53196035\n",
            "Iteration 41, loss = 0.53191533\n",
            "Iteration 42, loss = 0.53189365\n",
            "Iteration 43, loss = 0.53185719\n",
            "Iteration 44, loss = 0.53182678\n",
            "Iteration 45, loss = 0.53183796\n",
            "Iteration 46, loss = 0.53180129\n",
            "Iteration 47, loss = 0.53178437\n",
            "Iteration 48, loss = 0.53176035\n",
            "Iteration 49, loss = 0.53177903\n",
            "Iteration 50, loss = 0.53168747\n",
            "Iteration 51, loss = 0.53179088\n",
            "Iteration 52, loss = 0.53173643\n",
            "Iteration 53, loss = 0.53174402\n",
            "Iteration 54, loss = 0.53172552\n",
            "Iteration 55, loss = 0.53164056\n",
            "Iteration 56, loss = 0.53172174\n",
            "Iteration 57, loss = 0.53168551\n",
            "Iteration 58, loss = 0.53169161\n",
            "Iteration 59, loss = 0.53170257\n",
            "Iteration 60, loss = 0.53173955\n",
            "Iteration 61, loss = 0.53167317\n",
            "Iteration 62, loss = 0.53168516\n",
            "Iteration 63, loss = 0.53167077\n",
            "Iteration 64, loss = 0.53161691\n",
            "Iteration 65, loss = 0.53167426\n",
            "Iteration 66, loss = 0.53165920\n",
            "Iteration 67, loss = 0.53169577\n",
            "Iteration 68, loss = 0.53166059\n",
            "Iteration 69, loss = 0.53163918\n",
            "Iteration 70, loss = 0.53166182\n",
            "Iteration 71, loss = 0.53170886\n",
            "Iteration 72, loss = 0.53168644\n",
            "Iteration 73, loss = 0.53159969\n",
            "Iteration 74, loss = 0.53161147\n",
            "Iteration 75, loss = 0.53165309\n",
            "Iteration 76, loss = 0.53160753\n",
            "Iteration 77, loss = 0.53161304\n",
            "Iteration 78, loss = 0.53158088\n",
            "Iteration 79, loss = 0.53160382\n",
            "Iteration 80, loss = 0.53159106\n",
            "Iteration 81, loss = 0.53157001\n",
            "Iteration 82, loss = 0.53159520\n",
            "Iteration 83, loss = 0.53162991\n",
            "Iteration 84, loss = 0.53156241\n",
            "Iteration 85, loss = 0.53159569\n",
            "Iteration 86, loss = 0.53158254\n",
            "Iteration 87, loss = 0.53155409\n",
            "Iteration 88, loss = 0.53161288\n",
            "Iteration 89, loss = 0.53158127\n",
            "Iteration 90, loss = 0.53158213\n",
            "Iteration 91, loss = 0.53158009\n",
            "Iteration 92, loss = 0.53153971\n",
            "Iteration 93, loss = 0.53159199\n",
            "Iteration 94, loss = 0.53160546\n",
            "Iteration 95, loss = 0.53152254\n",
            "Iteration 96, loss = 0.53158455\n",
            "Iteration 97, loss = 0.53155895\n",
            "Iteration 98, loss = 0.53158765\n",
            "Iteration 99, loss = 0.53155273\n",
            "Iteration 100, loss = 0.53155997\n",
            "Iteration 101, loss = 0.53158277\n",
            "Iteration 102, loss = 0.53153696\n",
            "Iteration 103, loss = 0.53159592\n",
            "Iteration 104, loss = 0.53154674\n",
            "Iteration 105, loss = 0.53157019\n",
            "Iteration 106, loss = 0.53155040\n",
            "Training loss did not improve more than tol=0.000010 for 10 consecutive epochs. Stopping.\n"
          ]
        },
        {
          "data": {
            "text/html": [
              "<style>#sk-container-id-1 {\n",
              "  /* Definition of color scheme common for light and dark mode */\n",
              "  --sklearn-color-text: black;\n",
              "  --sklearn-color-line: gray;\n",
              "  /* Definition of color scheme for unfitted estimators */\n",
              "  --sklearn-color-unfitted-level-0: #fff5e6;\n",
              "  --sklearn-color-unfitted-level-1: #f6e4d2;\n",
              "  --sklearn-color-unfitted-level-2: #ffe0b3;\n",
              "  --sklearn-color-unfitted-level-3: chocolate;\n",
              "  /* Definition of color scheme for fitted estimators */\n",
              "  --sklearn-color-fitted-level-0: #f0f8ff;\n",
              "  --sklearn-color-fitted-level-1: #d4ebff;\n",
              "  --sklearn-color-fitted-level-2: #b3dbfd;\n",
              "  --sklearn-color-fitted-level-3: cornflowerblue;\n",
              "\n",
              "  /* Specific color for light theme */\n",
              "  --sklearn-color-text-on-default-background: var(--sg-text-color, var(--theme-code-foreground, var(--jp-content-font-color1, black)));\n",
              "  --sklearn-color-background: var(--sg-background-color, var(--theme-background, var(--jp-layout-color0, white)));\n",
              "  --sklearn-color-border-box: var(--sg-text-color, var(--theme-code-foreground, var(--jp-content-font-color1, black)));\n",
              "  --sklearn-color-icon: #696969;\n",
              "\n",
              "  @media (prefers-color-scheme: dark) {\n",
              "    /* Redefinition of color scheme for dark theme */\n",
              "    --sklearn-color-text-on-default-background: var(--sg-text-color, var(--theme-code-foreground, var(--jp-content-font-color1, white)));\n",
              "    --sklearn-color-background: var(--sg-background-color, var(--theme-background, var(--jp-layout-color0, #111)));\n",
              "    --sklearn-color-border-box: var(--sg-text-color, var(--theme-code-foreground, var(--jp-content-font-color1, white)));\n",
              "    --sklearn-color-icon: #878787;\n",
              "  }\n",
              "}\n",
              "\n",
              "#sk-container-id-1 {\n",
              "  color: var(--sklearn-color-text);\n",
              "}\n",
              "\n",
              "#sk-container-id-1 pre {\n",
              "  padding: 0;\n",
              "}\n",
              "\n",
              "#sk-container-id-1 input.sk-hidden--visually {\n",
              "  border: 0;\n",
              "  clip: rect(1px 1px 1px 1px);\n",
              "  clip: rect(1px, 1px, 1px, 1px);\n",
              "  height: 1px;\n",
              "  margin: -1px;\n",
              "  overflow: hidden;\n",
              "  padding: 0;\n",
              "  position: absolute;\n",
              "  width: 1px;\n",
              "}\n",
              "\n",
              "#sk-container-id-1 div.sk-dashed-wrapped {\n",
              "  border: 1px dashed var(--sklearn-color-line);\n",
              "  margin: 0 0.4em 0.5em 0.4em;\n",
              "  box-sizing: border-box;\n",
              "  padding-bottom: 0.4em;\n",
              "  background-color: var(--sklearn-color-background);\n",
              "}\n",
              "\n",
              "#sk-container-id-1 div.sk-container {\n",
              "  /* jupyter's `normalize.less` sets `[hidden] { display: none; }`\n",
              "     but bootstrap.min.css set `[hidden] { display: none !important; }`\n",
              "     so we also need the `!important` here to be able to override the\n",
              "     default hidden behavior on the sphinx rendered scikit-learn.org.\n",
              "     See: https://github.com/scikit-learn/scikit-learn/issues/21755 */\n",
              "  display: inline-block !important;\n",
              "  position: relative;\n",
              "}\n",
              "\n",
              "#sk-container-id-1 div.sk-text-repr-fallback {\n",
              "  display: none;\n",
              "}\n",
              "\n",
              "div.sk-parallel-item,\n",
              "div.sk-serial,\n",
              "div.sk-item {\n",
              "  /* draw centered vertical line to link estimators */\n",
              "  background-image: linear-gradient(var(--sklearn-color-text-on-default-background), var(--sklearn-color-text-on-default-background));\n",
              "  background-size: 2px 100%;\n",
              "  background-repeat: no-repeat;\n",
              "  background-position: center center;\n",
              "}\n",
              "\n",
              "/* Parallel-specific style estimator block */\n",
              "\n",
              "#sk-container-id-1 div.sk-parallel-item::after {\n",
              "  content: \"\";\n",
              "  width: 100%;\n",
              "  border-bottom: 2px solid var(--sklearn-color-text-on-default-background);\n",
              "  flex-grow: 1;\n",
              "}\n",
              "\n",
              "#sk-container-id-1 div.sk-parallel {\n",
              "  display: flex;\n",
              "  align-items: stretch;\n",
              "  justify-content: center;\n",
              "  background-color: var(--sklearn-color-background);\n",
              "  position: relative;\n",
              "}\n",
              "\n",
              "#sk-container-id-1 div.sk-parallel-item {\n",
              "  display: flex;\n",
              "  flex-direction: column;\n",
              "}\n",
              "\n",
              "#sk-container-id-1 div.sk-parallel-item:first-child::after {\n",
              "  align-self: flex-end;\n",
              "  width: 50%;\n",
              "}\n",
              "\n",
              "#sk-container-id-1 div.sk-parallel-item:last-child::after {\n",
              "  align-self: flex-start;\n",
              "  width: 50%;\n",
              "}\n",
              "\n",
              "#sk-container-id-1 div.sk-parallel-item:only-child::after {\n",
              "  width: 0;\n",
              "}\n",
              "\n",
              "/* Serial-specific style estimator block */\n",
              "\n",
              "#sk-container-id-1 div.sk-serial {\n",
              "  display: flex;\n",
              "  flex-direction: column;\n",
              "  align-items: center;\n",
              "  background-color: var(--sklearn-color-background);\n",
              "  padding-right: 1em;\n",
              "  padding-left: 1em;\n",
              "}\n",
              "\n",
              "\n",
              "/* Toggleable style: style used for estimator/Pipeline/ColumnTransformer box that is\n",
              "clickable and can be expanded/collapsed.\n",
              "- Pipeline and ColumnTransformer use this feature and define the default style\n",
              "- Estimators will overwrite some part of the style using the `sk-estimator` class\n",
              "*/\n",
              "\n",
              "/* Pipeline and ColumnTransformer style (default) */\n",
              "\n",
              "#sk-container-id-1 div.sk-toggleable {\n",
              "  /* Default theme specific background. It is overwritten whether we have a\n",
              "  specific estimator or a Pipeline/ColumnTransformer */\n",
              "  background-color: var(--sklearn-color-background);\n",
              "}\n",
              "\n",
              "/* Toggleable label */\n",
              "#sk-container-id-1 label.sk-toggleable__label {\n",
              "  cursor: pointer;\n",
              "  display: block;\n",
              "  width: 100%;\n",
              "  margin-bottom: 0;\n",
              "  padding: 0.5em;\n",
              "  box-sizing: border-box;\n",
              "  text-align: center;\n",
              "}\n",
              "\n",
              "#sk-container-id-1 label.sk-toggleable__label-arrow:before {\n",
              "  /* Arrow on the left of the label */\n",
              "  content: \"▸\";\n",
              "  float: left;\n",
              "  margin-right: 0.25em;\n",
              "  color: var(--sklearn-color-icon);\n",
              "}\n",
              "\n",
              "#sk-container-id-1 label.sk-toggleable__label-arrow:hover:before {\n",
              "  color: var(--sklearn-color-text);\n",
              "}\n",
              "\n",
              "/* Toggleable content - dropdown */\n",
              "\n",
              "#sk-container-id-1 div.sk-toggleable__content {\n",
              "  max-height: 0;\n",
              "  max-width: 0;\n",
              "  overflow: hidden;\n",
              "  text-align: left;\n",
              "  /* unfitted */\n",
              "  background-color: var(--sklearn-color-unfitted-level-0);\n",
              "}\n",
              "\n",
              "#sk-container-id-1 div.sk-toggleable__content.fitted {\n",
              "  /* fitted */\n",
              "  background-color: var(--sklearn-color-fitted-level-0);\n",
              "}\n",
              "\n",
              "#sk-container-id-1 div.sk-toggleable__content pre {\n",
              "  margin: 0.2em;\n",
              "  border-radius: 0.25em;\n",
              "  color: var(--sklearn-color-text);\n",
              "  /* unfitted */\n",
              "  background-color: var(--sklearn-color-unfitted-level-0);\n",
              "}\n",
              "\n",
              "#sk-container-id-1 div.sk-toggleable__content.fitted pre {\n",
              "  /* unfitted */\n",
              "  background-color: var(--sklearn-color-fitted-level-0);\n",
              "}\n",
              "\n",
              "#sk-container-id-1 input.sk-toggleable__control:checked~div.sk-toggleable__content {\n",
              "  /* Expand drop-down */\n",
              "  max-height: 200px;\n",
              "  max-width: 100%;\n",
              "  overflow: auto;\n",
              "}\n",
              "\n",
              "#sk-container-id-1 input.sk-toggleable__control:checked~label.sk-toggleable__label-arrow:before {\n",
              "  content: \"▾\";\n",
              "}\n",
              "\n",
              "/* Pipeline/ColumnTransformer-specific style */\n",
              "\n",
              "#sk-container-id-1 div.sk-label input.sk-toggleable__control:checked~label.sk-toggleable__label {\n",
              "  color: var(--sklearn-color-text);\n",
              "  background-color: var(--sklearn-color-unfitted-level-2);\n",
              "}\n",
              "\n",
              "#sk-container-id-1 div.sk-label.fitted input.sk-toggleable__control:checked~label.sk-toggleable__label {\n",
              "  background-color: var(--sklearn-color-fitted-level-2);\n",
              "}\n",
              "\n",
              "/* Estimator-specific style */\n",
              "\n",
              "/* Colorize estimator box */\n",
              "#sk-container-id-1 div.sk-estimator input.sk-toggleable__control:checked~label.sk-toggleable__label {\n",
              "  /* unfitted */\n",
              "  background-color: var(--sklearn-color-unfitted-level-2);\n",
              "}\n",
              "\n",
              "#sk-container-id-1 div.sk-estimator.fitted input.sk-toggleable__control:checked~label.sk-toggleable__label {\n",
              "  /* fitted */\n",
              "  background-color: var(--sklearn-color-fitted-level-2);\n",
              "}\n",
              "\n",
              "#sk-container-id-1 div.sk-label label.sk-toggleable__label,\n",
              "#sk-container-id-1 div.sk-label label {\n",
              "  /* The background is the default theme color */\n",
              "  color: var(--sklearn-color-text-on-default-background);\n",
              "}\n",
              "\n",
              "/* On hover, darken the color of the background */\n",
              "#sk-container-id-1 div.sk-label:hover label.sk-toggleable__label {\n",
              "  color: var(--sklearn-color-text);\n",
              "  background-color: var(--sklearn-color-unfitted-level-2);\n",
              "}\n",
              "\n",
              "/* Label box, darken color on hover, fitted */\n",
              "#sk-container-id-1 div.sk-label.fitted:hover label.sk-toggleable__label.fitted {\n",
              "  color: var(--sklearn-color-text);\n",
              "  background-color: var(--sklearn-color-fitted-level-2);\n",
              "}\n",
              "\n",
              "/* Estimator label */\n",
              "\n",
              "#sk-container-id-1 div.sk-label label {\n",
              "  font-family: monospace;\n",
              "  font-weight: bold;\n",
              "  display: inline-block;\n",
              "  line-height: 1.2em;\n",
              "}\n",
              "\n",
              "#sk-container-id-1 div.sk-label-container {\n",
              "  text-align: center;\n",
              "}\n",
              "\n",
              "/* Estimator-specific */\n",
              "#sk-container-id-1 div.sk-estimator {\n",
              "  font-family: monospace;\n",
              "  border: 1px dotted var(--sklearn-color-border-box);\n",
              "  border-radius: 0.25em;\n",
              "  box-sizing: border-box;\n",
              "  margin-bottom: 0.5em;\n",
              "  /* unfitted */\n",
              "  background-color: var(--sklearn-color-unfitted-level-0);\n",
              "}\n",
              "\n",
              "#sk-container-id-1 div.sk-estimator.fitted {\n",
              "  /* fitted */\n",
              "  background-color: var(--sklearn-color-fitted-level-0);\n",
              "}\n",
              "\n",
              "/* on hover */\n",
              "#sk-container-id-1 div.sk-estimator:hover {\n",
              "  /* unfitted */\n",
              "  background-color: var(--sklearn-color-unfitted-level-2);\n",
              "}\n",
              "\n",
              "#sk-container-id-1 div.sk-estimator.fitted:hover {\n",
              "  /* fitted */\n",
              "  background-color: var(--sklearn-color-fitted-level-2);\n",
              "}\n",
              "\n",
              "/* Specification for estimator info (e.g. \"i\" and \"?\") */\n",
              "\n",
              "/* Common style for \"i\" and \"?\" */\n",
              "\n",
              ".sk-estimator-doc-link,\n",
              "a:link.sk-estimator-doc-link,\n",
              "a:visited.sk-estimator-doc-link {\n",
              "  float: right;\n",
              "  font-size: smaller;\n",
              "  line-height: 1em;\n",
              "  font-family: monospace;\n",
              "  background-color: var(--sklearn-color-background);\n",
              "  border-radius: 1em;\n",
              "  height: 1em;\n",
              "  width: 1em;\n",
              "  text-decoration: none !important;\n",
              "  margin-left: 1ex;\n",
              "  /* unfitted */\n",
              "  border: var(--sklearn-color-unfitted-level-1) 1pt solid;\n",
              "  color: var(--sklearn-color-unfitted-level-1);\n",
              "}\n",
              "\n",
              ".sk-estimator-doc-link.fitted,\n",
              "a:link.sk-estimator-doc-link.fitted,\n",
              "a:visited.sk-estimator-doc-link.fitted {\n",
              "  /* fitted */\n",
              "  border: var(--sklearn-color-fitted-level-1) 1pt solid;\n",
              "  color: var(--sklearn-color-fitted-level-1);\n",
              "}\n",
              "\n",
              "/* On hover */\n",
              "div.sk-estimator:hover .sk-estimator-doc-link:hover,\n",
              ".sk-estimator-doc-link:hover,\n",
              "div.sk-label-container:hover .sk-estimator-doc-link:hover,\n",
              ".sk-estimator-doc-link:hover {\n",
              "  /* unfitted */\n",
              "  background-color: var(--sklearn-color-unfitted-level-3);\n",
              "  color: var(--sklearn-color-background);\n",
              "  text-decoration: none;\n",
              "}\n",
              "\n",
              "div.sk-estimator.fitted:hover .sk-estimator-doc-link.fitted:hover,\n",
              ".sk-estimator-doc-link.fitted:hover,\n",
              "div.sk-label-container:hover .sk-estimator-doc-link.fitted:hover,\n",
              ".sk-estimator-doc-link.fitted:hover {\n",
              "  /* fitted */\n",
              "  background-color: var(--sklearn-color-fitted-level-3);\n",
              "  color: var(--sklearn-color-background);\n",
              "  text-decoration: none;\n",
              "}\n",
              "\n",
              "/* Span, style for the box shown on hovering the info icon */\n",
              ".sk-estimator-doc-link span {\n",
              "  display: none;\n",
              "  z-index: 9999;\n",
              "  position: relative;\n",
              "  font-weight: normal;\n",
              "  right: .2ex;\n",
              "  padding: .5ex;\n",
              "  margin: .5ex;\n",
              "  width: min-content;\n",
              "  min-width: 20ex;\n",
              "  max-width: 50ex;\n",
              "  color: var(--sklearn-color-text);\n",
              "  box-shadow: 2pt 2pt 4pt #999;\n",
              "  /* unfitted */\n",
              "  background: var(--sklearn-color-unfitted-level-0);\n",
              "  border: .5pt solid var(--sklearn-color-unfitted-level-3);\n",
              "}\n",
              "\n",
              ".sk-estimator-doc-link.fitted span {\n",
              "  /* fitted */\n",
              "  background: var(--sklearn-color-fitted-level-0);\n",
              "  border: var(--sklearn-color-fitted-level-3);\n",
              "}\n",
              "\n",
              ".sk-estimator-doc-link:hover span {\n",
              "  display: block;\n",
              "}\n",
              "\n",
              "/* \"?\"-specific style due to the `<a>` HTML tag */\n",
              "\n",
              "#sk-container-id-1 a.estimator_doc_link {\n",
              "  float: right;\n",
              "  font-size: 1rem;\n",
              "  line-height: 1em;\n",
              "  font-family: monospace;\n",
              "  background-color: var(--sklearn-color-background);\n",
              "  border-radius: 1rem;\n",
              "  height: 1rem;\n",
              "  width: 1rem;\n",
              "  text-decoration: none;\n",
              "  /* unfitted */\n",
              "  color: var(--sklearn-color-unfitted-level-1);\n",
              "  border: var(--sklearn-color-unfitted-level-1) 1pt solid;\n",
              "}\n",
              "\n",
              "#sk-container-id-1 a.estimator_doc_link.fitted {\n",
              "  /* fitted */\n",
              "  border: var(--sklearn-color-fitted-level-1) 1pt solid;\n",
              "  color: var(--sklearn-color-fitted-level-1);\n",
              "}\n",
              "\n",
              "/* On hover */\n",
              "#sk-container-id-1 a.estimator_doc_link:hover {\n",
              "  /* unfitted */\n",
              "  background-color: var(--sklearn-color-unfitted-level-3);\n",
              "  color: var(--sklearn-color-background);\n",
              "  text-decoration: none;\n",
              "}\n",
              "\n",
              "#sk-container-id-1 a.estimator_doc_link.fitted:hover {\n",
              "  /* fitted */\n",
              "  background-color: var(--sklearn-color-fitted-level-3);\n",
              "}\n",
              "</style><div id=\"sk-container-id-1\" class=\"sk-top-container\"><div class=\"sk-text-repr-fallback\"><pre>MLPClassifier(activation=&#x27;logistic&#x27;, batch_size=10, hidden_layer_sizes=(4, 4),\n",
              "              max_iter=1000, solver=&#x27;sgd&#x27;, tol=1e-05, verbose=True)</pre><b>In a Jupyter environment, please rerun this cell to show the HTML representation or trust the notebook. <br />On GitHub, the HTML representation is unable to render, please try loading this page with nbviewer.org.</b></div><div class=\"sk-container\" hidden><div class=\"sk-item\"><div class=\"sk-estimator fitted sk-toggleable\"><input class=\"sk-toggleable__control sk-hidden--visually\" id=\"sk-estimator-id-1\" type=\"checkbox\" checked><label for=\"sk-estimator-id-1\" class=\"sk-toggleable__label fitted sk-toggleable__label-arrow fitted\">&nbsp;&nbsp;MLPClassifier<a class=\"sk-estimator-doc-link fitted\" rel=\"noreferrer\" target=\"_blank\" href=\"https://scikit-learn.org/1.4/modules/generated/sklearn.neural_network.MLPClassifier.html\">?<span>Documentation for MLPClassifier</span></a><span class=\"sk-estimator-doc-link fitted\">i<span>Fitted</span></span></label><div class=\"sk-toggleable__content fitted\"><pre>MLPClassifier(activation=&#x27;logistic&#x27;, batch_size=10, hidden_layer_sizes=(4, 4),\n",
              "              max_iter=1000, solver=&#x27;sgd&#x27;, tol=1e-05, verbose=True)</pre></div> </div></div></div></div>"
            ],
            "text/plain": [
              "MLPClassifier(activation='logistic', batch_size=10, hidden_layer_sizes=(4, 4),\n",
              "              max_iter=1000, solver='sgd', tol=1e-05, verbose=True)"
            ]
          },
          "execution_count": 89,
          "metadata": {},
          "output_type": "execute_result"
        }
      ],
      "source": [
        "rede_neural_modelo = MLPClassifier(max_iter = 1000, verbose = True, tol = 0.0000100,\n",
        "                                   solver = 'sgd', activation = 'logistic',\n",
        "                                   hidden_layer_sizes = (4, 4),\n",
        "                                   batch_size = 10)\n",
        "rede_neural_modelo.fit(x_train, y_train)"
      ]
    },
    {
      "cell_type": "code",
      "execution_count": 90,
      "metadata": {
        "id": "1W8bQPck6ZZ_"
      },
      "outputs": [],
      "source": [
        "previsoes = rede_neural_modelo.predict(x_test)"
      ]
    },
    {
      "cell_type": "code",
      "execution_count": 91,
      "metadata": {
        "id": "WtBcvzDP6c6E"
      },
      "outputs": [
        {
          "data": {
            "text/plain": [
              "0.7498285034832848"
            ]
          },
          "execution_count": 91,
          "metadata": {},
          "output_type": "execute_result"
        }
      ],
      "source": [
        "accuracy_score(y_test, previsoes)"
      ]
    },
    {
      "cell_type": "code",
      "execution_count": 92,
      "metadata": {
        "id": "fZKm-pBa6ZXR"
      },
      "outputs": [
        {
          "data": {
            "text/plain": [
              "0.7498285034832848"
            ]
          },
          "execution_count": 92,
          "metadata": {},
          "output_type": "execute_result"
        },
        {
          "data": {
            "image/png": "[encoded data removed]",
            "text/plain": [
              "<Figure size 800x550 with 1 Axes>"
            ]
          },
          "metadata": {},
          "output_type": "display_data"
        }
      ],
      "source": [
        "cm = ConfusionMatrix(rede_neural_modelo)\n",
        "cm.fit(x_train, y_train)\n",
        "cm.score(x_test, y_test)"
      ]
    },
    {
      "cell_type": "code",
      "execution_count": 93,
      "metadata": {
        "id": "nMwLYGly6ZUf"
      },
      "outputs": [
        {
          "name": "stdout",
          "output_type": "stream",
          "text": [
            "              precision    recall  f1-score   support\n",
            "\n",
            "           0       0.76      0.98      0.85     48688\n",
            "           1       0.60      0.09      0.15     16911\n",
            "\n",
            "    accuracy                           0.75     65599\n",
            "   macro avg       0.68      0.53      0.50     65599\n",
            "weighted avg       0.72      0.75      0.67     65599\n",
            "\n"
          ]
        }
      ],
      "source": [
        "print(classification_report(y_test, previsoes))"
      ]
    },
    {
      "cell_type": "markdown",
      "metadata": {
        "id": "8g43fj9a6jl8"
      },
      "source": [
        "# Validação cruzada"
      ]
    },
    {
      "cell_type": "markdown",
      "metadata": {
        "id": "ZAgEHoWb6m4k"
      },
      "source": [
        "## Árvore de decisão"
      ]
    },
    {
      "cell_type": "code",
      "execution_count": 94,
      "metadata": {
        "id": "7mXW3ar16ltZ"
      },
      "outputs": [],
      "source": [
        "parametros = {'criterion': ['gini', 'entropy'],\n",
        "              'splitter': ['best', 'random'],\n",
        "              'min_samples_split': [2, 5, 10],\n",
        "              'min_samples_leaf': [1, 5, 10]}"
      ]
    },
    {
      "cell_type": "code",
      "execution_count": 95,
      "metadata": {
        "id": "1xFfQ1BD6pMR"
      },
      "outputs": [
        {
          "name": "stdout",
          "output_type": "stream",
          "text": [
            "{'criterion': 'entropy', 'min_samples_leaf': 1, 'min_samples_split': 10, 'splitter': 'random'}\n",
            "0.08611065388734097\n"
          ]
        }
      ],
      "source": [
        "grid_search = GridSearchCV(estimator = DecisionTreeClassifier(), param_grid = parametros, scoring = 'recall')\n",
        "grid_search.fit(x, y)\n",
        "melhores_parametros = grid_search.best_params_\n",
        "melhor_resultado = grid_search.best_score_\n",
        "print(melhores_parametros)\n",
        "print(melhor_resultado)"
      ]
    },
    {
      "cell_type": "markdown",
      "metadata": {
        "id": "QvaluXMs6rf-"
      },
      "source": [
        "## Random forest"
      ]
    },
    {
      "cell_type": "code",
      "execution_count": 96,
      "metadata": {
        "id": "_ZxvUDmL6pJY"
      },
      "outputs": [],
      "source": [
        "parametros = {'criterion': ['gini', 'entropy'],\n",
        "              'n_estimators': [10, 40, 100],\n",
        "              'min_samples_split': [2, 5, 10],\n",
        "              'min_samples_leaf': [1, 5, 10]}"
      ]
    },
    {
      "cell_type": "code",
      "execution_count": 97,
      "metadata": {
        "id": "oDRDw1F06pHO"
      },
      "outputs": [
        {
          "name": "stdout",
          "output_type": "stream",
          "text": [
            "{'criterion': 'gini', 'min_samples_leaf': 10, 'min_samples_split': 10, 'n_estimators': 100}\n",
            "0.7485403705587832\n"
          ]
        }
      ],
      "source": [
        "grid_search = GridSearchCV(estimator = RandomForestClassifier(), param_grid = parametros)\n",
        "grid_search.fit(x, y)\n",
        "melhores_parametros = grid_search.best_params_\n",
        "melhor_resultado = grid_search.best_score_\n",
        "print(melhores_parametros)\n",
        "print(melhor_resultado)"
      ]
    },
    {
      "cell_type": "markdown",
      "metadata": {
        "id": "-TOm3Na26wIy"
      },
      "source": [
        "## Knn"
      ]
    },
    {
      "cell_type": "code",
      "execution_count": 98,
      "metadata": {
        "id": "yb-FAKRT6pEc"
      },
      "outputs": [],
      "source": [
        "parametros = {'n_neighbors': [3, 5, 10, 20],\n",
        "              'p': [1, 2]}"
      ]
    },
    {
      "cell_type": "code",
      "execution_count": 99,
      "metadata": {
        "id": "8in0rrSr6zTS"
      },
      "outputs": [
        {
          "name": "stdout",
          "output_type": "stream",
          "text": [
            "{'n_neighbors': 20, 'p': 1}\n",
            "0.7457964099777594\n"
          ]
        }
      ],
      "source": [
        "grid_search = GridSearchCV(estimator = KNeighborsClassifier(), param_grid = parametros)\n",
        "grid_search.fit(x, y)\n",
        "melhores_parametros = grid_search.best_params_\n",
        "melhor_resultado = grid_search.best_score_\n",
        "print(melhores_parametros)\n",
        "print(melhor_resultado)"
      ]
    },
    {
      "cell_type": "markdown",
      "metadata": {
        "id": "ZGT3UJJH6vqh"
      },
      "source": [
        "## Regressão logística"
      ]
    },
    {
      "cell_type": "code",
      "execution_count": 100,
      "metadata": {
        "id": "QLScQp7F61n5"
      },
      "outputs": [],
      "source": [
        "parametros = {'tol': [0.0001, 0.00001, 0.000001],\n",
        "              'C': [1.0, 1.5, 2.0],\n",
        "              'solver': ['lbfgs', 'sag', 'saga', 'adam']}"
      ]
    },
    {
      "cell_type": "code",
      "execution_count": 101,
      "metadata": {
        "id": "e978qirY63Sq"
      },
      "outputs": [
        {
          "name": "stderr",
          "output_type": "stream",
          "text": [
            "c:\\Users\\ASUS\\AppData\\Local\\Programs\\Python\\Python311\\Lib\\site-packages\\sklearn\\linear_model\\_logistic.py:469: ConvergenceWarning: lbfgs failed to converge (status=1):\n",
            "STOP: TOTAL NO. of ITERATIONS REACHED LIMIT.\n",
            "\n",
            "Increase the number of iterations (max_iter) or scale the data as shown in:\n",
            "    https://scikit-learn.org/stable/modules/preprocessing.html\n",
            "Please also refer to the documentation for alternative solver options:\n",
            "    https://scikit-learn.org/stable/modules/linear_model.html#logistic-regression\n",
            "  n_iter_i = _check_optimize_result(\n",
            "c:\\Users\\ASUS\\AppData\\Local\\Programs\\Python\\Python311\\Lib\\site-packages\\sklearn\\linear_model\\_logistic.py:469: ConvergenceWarning: lbfgs failed to converge (status=1):\n",
            "STOP: TOTAL NO. of ITERATIONS REACHED LIMIT.\n",
            "\n",
            "Increase the number of iterations (max_iter) or scale the data as shown in:\n",
            "    https://scikit-learn.org/stable/modules/preprocessing.html\n",
            "Please also refer to the documentation for alternative solver options:\n",
            "    https://scikit-learn.org/stable/modules/linear_model.html#logistic-regression\n",
            "  n_iter_i = _check_optimize_result(\n",
            "c:\\Users\\ASUS\\AppData\\Local\\Programs\\Python\\Python311\\Lib\\site-packages\\sklearn\\linear_model\\_logistic.py:469: ConvergenceWarning: lbfgs failed to converge (status=1):\n",
            "STOP: TOTAL NO. of ITERATIONS REACHED LIMIT.\n",
            "\n",
            "Increase the number of iterations (max_iter) or scale the data as shown in:\n",
            "    https://scikit-learn.org/stable/modules/preprocessing.html\n",
            "Please also refer to the documentation for alternative solver options:\n",
            "    https://scikit-learn.org/stable/modules/linear_model.html#logistic-regression\n",
            "  n_iter_i = _check_optimize_result(\n",
            "c:\\Users\\ASUS\\AppData\\Local\\Programs\\Python\\Python311\\Lib\\site-packages\\sklearn\\linear_model\\_logistic.py:469: ConvergenceWarning: lbfgs failed to converge (status=1):\n",
            "STOP: TOTAL NO. of ITERATIONS REACHED LIMIT.\n",
            "\n",
            "Increase the number of iterations (max_iter) or scale the data as shown in:\n",
            "    https://scikit-learn.org/stable/modules/preprocessing.html\n",
            "Please also refer to the documentation for alternative solver options:\n",
            "    https://scikit-learn.org/stable/modules/linear_model.html#logistic-regression\n",
            "  n_iter_i = _check_optimize_result(\n",
            "c:\\Users\\ASUS\\AppData\\Local\\Programs\\Python\\Python311\\Lib\\site-packages\\sklearn\\linear_model\\_logistic.py:469: ConvergenceWarning: lbfgs failed to converge (status=1):\n",
            "STOP: TOTAL NO. of ITERATIONS REACHED LIMIT.\n",
            "\n",
            "Increase the number of iterations (max_iter) or scale the data as shown in:\n",
            "    https://scikit-learn.org/stable/modules/preprocessing.html\n",
            "Please also refer to the documentation for alternative solver options:\n",
            "    https://scikit-learn.org/stable/modules/linear_model.html#logistic-regression\n",
            "  n_iter_i = _check_optimize_result(\n",
            "c:\\Users\\ASUS\\AppData\\Local\\Programs\\Python\\Python311\\Lib\\site-packages\\sklearn\\linear_model\\_sag.py:350: ConvergenceWarning: The max_iter was reached which means the coef_ did not converge\n",
            "  warnings.warn(\n",
            "c:\\Users\\ASUS\\AppData\\Local\\Programs\\Python\\Python311\\Lib\\site-packages\\sklearn\\linear_model\\_sag.py:350: ConvergenceWarning: The max_iter was reached which means the coef_ did not converge\n",
            "  warnings.warn(\n",
            "c:\\Users\\ASUS\\AppData\\Local\\Programs\\Python\\Python311\\Lib\\site-packages\\sklearn\\linear_model\\_sag.py:350: ConvergenceWarning: The max_iter was reached which means the coef_ did not converge\n",
            "  warnings.warn(\n",
            "c:\\Users\\ASUS\\AppData\\Local\\Programs\\Python\\Python311\\Lib\\site-packages\\sklearn\\linear_model\\_sag.py:350: ConvergenceWarning: The max_iter was reached which means the coef_ did not converge\n",
            "  warnings.warn(\n",
            "c:\\Users\\ASUS\\AppData\\Local\\Programs\\Python\\Python311\\Lib\\site-packages\\sklearn\\linear_model\\_sag.py:350: ConvergenceWarning: The max_iter was reached which means the coef_ did not converge\n",
            "  warnings.warn(\n",
            "c:\\Users\\ASUS\\AppData\\Local\\Programs\\Python\\Python311\\Lib\\site-packages\\sklearn\\linear_model\\_sag.py:350: ConvergenceWarning: The max_iter was reached which means the coef_ did not converge\n",
            "  warnings.warn(\n",
            "c:\\Users\\ASUS\\AppData\\Local\\Programs\\Python\\Python311\\Lib\\site-packages\\sklearn\\linear_model\\_sag.py:350: ConvergenceWarning: The max_iter was reached which means the coef_ did not converge\n",
            "  warnings.warn(\n",
            "c:\\Users\\ASUS\\AppData\\Local\\Programs\\Python\\Python311\\Lib\\site-packages\\sklearn\\linear_model\\_sag.py:350: ConvergenceWarning: The max_iter was reached which means the coef_ did not converge\n",
            "  warnings.warn(\n",
            "c:\\Users\\ASUS\\AppData\\Local\\Programs\\Python\\Python311\\Lib\\site-packages\\sklearn\\linear_model\\_sag.py:350: ConvergenceWarning: The max_iter was reached which means the coef_ did not converge\n",
            "  warnings.warn(\n",
            "c:\\Users\\ASUS\\AppData\\Local\\Programs\\Python\\Python311\\Lib\\site-packages\\sklearn\\linear_model\\_sag.py:350: ConvergenceWarning: The max_iter was reached which means the coef_ did not converge\n",
            "  warnings.warn(\n",
            "c:\\Users\\ASUS\\AppData\\Local\\Programs\\Python\\Python311\\Lib\\site-packages\\sklearn\\linear_model\\_logistic.py:469: ConvergenceWarning: lbfgs failed to converge (status=1):\n",
            "STOP: TOTAL NO. of ITERATIONS REACHED LIMIT.\n",
            "\n",
            "Increase the number of iterations (max_iter) or scale the data as shown in:\n",
            "    https://scikit-learn.org/stable/modules/preprocessing.html\n",
            "Please also refer to the documentation for alternative solver options:\n",
            "    https://scikit-learn.org/stable/modules/linear_model.html#logistic-regression\n",
            "  n_iter_i = _check_optimize_result(\n",
            "c:\\Users\\ASUS\\AppData\\Local\\Programs\\Python\\Python311\\Lib\\site-packages\\sklearn\\linear_model\\_logistic.py:469: ConvergenceWarning: lbfgs failed to converge (status=1):\n",
            "STOP: TOTAL NO. of ITERATIONS REACHED LIMIT.\n",
            "\n",
            "Increase the number of iterations (max_iter) or scale the data as shown in:\n",
            "    https://scikit-learn.org/stable/modules/preprocessing.html\n",
            "Please also refer to the documentation for alternative solver options:\n",
            "    https://scikit-learn.org/stable/modules/linear_model.html#logistic-regression\n",
            "  n_iter_i = _check_optimize_result(\n",
            "c:\\Users\\ASUS\\AppData\\Local\\Programs\\Python\\Python311\\Lib\\site-packages\\sklearn\\linear_model\\_logistic.py:469: ConvergenceWarning: lbfgs failed to converge (status=1):\n",
            "STOP: TOTAL NO. of ITERATIONS REACHED LIMIT.\n",
            "\n",
            "Increase the number of iterations (max_iter) or scale the data as shown in:\n",
            "    https://scikit-learn.org/stable/modules/preprocessing.html\n",
            "Please also refer to the documentation for alternative solver options:\n",
            "    https://scikit-learn.org/stable/modules/linear_model.html#logistic-regression\n",
            "  n_iter_i = _check_optimize_result(\n",
            "c:\\Users\\ASUS\\AppData\\Local\\Programs\\Python\\Python311\\Lib\\site-packages\\sklearn\\linear_model\\_logistic.py:469: ConvergenceWarning: lbfgs failed to converge (status=1):\n",
            "STOP: TOTAL NO. of ITERATIONS REACHED LIMIT.\n",
            "\n",
            "Increase the number of iterations (max_iter) or scale the data as shown in:\n",
            "    https://scikit-learn.org/stable/modules/preprocessing.html\n",
            "Please also refer to the documentation for alternative solver options:\n",
            "    https://scikit-learn.org/stable/modules/linear_model.html#logistic-regression\n",
            "  n_iter_i = _check_optimize_result(\n",
            "c:\\Users\\ASUS\\AppData\\Local\\Programs\\Python\\Python311\\Lib\\site-packages\\sklearn\\linear_model\\_logistic.py:469: ConvergenceWarning: lbfgs failed to converge (status=1):\n",
            "STOP: TOTAL NO. of ITERATIONS REACHED LIMIT.\n",
            "\n",
            "Increase the number of iterations (max_iter) or scale the data as shown in:\n",
            "    https://scikit-learn.org/stable/modules/preprocessing.html\n",
            "Please also refer to the documentation for alternative solver options:\n",
            "    https://scikit-learn.org/stable/modules/linear_model.html#logistic-regression\n",
            "  n_iter_i = _check_optimize_result(\n",
            "c:\\Users\\ASUS\\AppData\\Local\\Programs\\Python\\Python311\\Lib\\site-packages\\sklearn\\linear_model\\_sag.py:350: ConvergenceWarning: The max_iter was reached which means the coef_ did not converge\n",
            "  warnings.warn(\n",
            "c:\\Users\\ASUS\\AppData\\Local\\Programs\\Python\\Python311\\Lib\\site-packages\\sklearn\\linear_model\\_sag.py:350: ConvergenceWarning: The max_iter was reached which means the coef_ did not converge\n",
            "  warnings.warn(\n",
            "c:\\Users\\ASUS\\AppData\\Local\\Programs\\Python\\Python311\\Lib\\site-packages\\sklearn\\linear_model\\_sag.py:350: ConvergenceWarning: The max_iter was reached which means the coef_ did not converge\n",
            "  warnings.warn(\n",
            "c:\\Users\\ASUS\\AppData\\Local\\Programs\\Python\\Python311\\Lib\\site-packages\\sklearn\\linear_model\\_sag.py:350: ConvergenceWarning: The max_iter was reached which means the coef_ did not converge\n",
            "  warnings.warn(\n",
            "c:\\Users\\ASUS\\AppData\\Local\\Programs\\Python\\Python311\\Lib\\site-packages\\sklearn\\linear_model\\_sag.py:350: ConvergenceWarning: The max_iter was reached which means the coef_ did not converge\n",
            "  warnings.warn(\n",
            "c:\\Users\\ASUS\\AppData\\Local\\Programs\\Python\\Python311\\Lib\\site-packages\\sklearn\\linear_model\\_sag.py:350: ConvergenceWarning: The max_iter was reached which means the coef_ did not converge\n",
            "  warnings.warn(\n",
            "c:\\Users\\ASUS\\AppData\\Local\\Programs\\Python\\Python311\\Lib\\site-packages\\sklearn\\linear_model\\_sag.py:350: ConvergenceWarning: The max_iter was reached which means the coef_ did not converge\n",
            "  warnings.warn(\n",
            "c:\\Users\\ASUS\\AppData\\Local\\Programs\\Python\\Python311\\Lib\\site-packages\\sklearn\\linear_model\\_sag.py:350: ConvergenceWarning: The max_iter was reached which means the coef_ did not converge\n",
            "  warnings.warn(\n",
            "c:\\Users\\ASUS\\AppData\\Local\\Programs\\Python\\Python311\\Lib\\site-packages\\sklearn\\linear_model\\_sag.py:350: ConvergenceWarning: The max_iter was reached which means the coef_ did not converge\n",
            "  warnings.warn(\n",
            "c:\\Users\\ASUS\\AppData\\Local\\Programs\\Python\\Python311\\Lib\\site-packages\\sklearn\\linear_model\\_sag.py:350: ConvergenceWarning: The max_iter was reached which means the coef_ did not converge\n",
            "  warnings.warn(\n",
            "c:\\Users\\ASUS\\AppData\\Local\\Programs\\Python\\Python311\\Lib\\site-packages\\sklearn\\linear_model\\_sag.py:350: ConvergenceWarning: The max_iter was reached which means the coef_ did not converge\n",
            "  warnings.warn(\n",
            "c:\\Users\\ASUS\\AppData\\Local\\Programs\\Python\\Python311\\Lib\\site-packages\\sklearn\\linear_model\\_sag.py:350: ConvergenceWarning: The max_iter was reached which means the coef_ did not converge\n",
            "  warnings.warn(\n",
            "c:\\Users\\ASUS\\AppData\\Local\\Programs\\Python\\Python311\\Lib\\site-packages\\sklearn\\linear_model\\_sag.py:350: ConvergenceWarning: The max_iter was reached which means the coef_ did not converge\n",
            "  warnings.warn(\n",
            "c:\\Users\\ASUS\\AppData\\Local\\Programs\\Python\\Python311\\Lib\\site-packages\\sklearn\\linear_model\\_sag.py:350: ConvergenceWarning: The max_iter was reached which means the coef_ did not converge\n",
            "  warnings.warn(\n",
            "c:\\Users\\ASUS\\AppData\\Local\\Programs\\Python\\Python311\\Lib\\site-packages\\sklearn\\linear_model\\_sag.py:350: ConvergenceWarning: The max_iter was reached which means the coef_ did not converge\n",
            "  warnings.warn(\n",
            "c:\\Users\\ASUS\\AppData\\Local\\Programs\\Python\\Python311\\Lib\\site-packages\\sklearn\\linear_model\\_logistic.py:469: ConvergenceWarning: lbfgs failed to converge (status=1):\n",
            "STOP: TOTAL NO. of ITERATIONS REACHED LIMIT.\n",
            "\n",
            "Increase the number of iterations (max_iter) or scale the data as shown in:\n",
            "    https://scikit-learn.org/stable/modules/preprocessing.html\n",
            "Please also refer to the documentation for alternative solver options:\n",
            "    https://scikit-learn.org/stable/modules/linear_model.html#logistic-regression\n",
            "  n_iter_i = _check_optimize_result(\n",
            "c:\\Users\\ASUS\\AppData\\Local\\Programs\\Python\\Python311\\Lib\\site-packages\\sklearn\\linear_model\\_logistic.py:469: ConvergenceWarning: lbfgs failed to converge (status=1):\n",
            "STOP: TOTAL NO. of ITERATIONS REACHED LIMIT.\n",
            "\n",
            "Increase the number of iterations (max_iter) or scale the data as shown in:\n",
            "    https://scikit-learn.org/stable/modules/preprocessing.html\n",
            "Please also refer to the documentation for alternative solver options:\n",
            "    https://scikit-learn.org/stable/modules/linear_model.html#logistic-regression\n",
            "  n_iter_i = _check_optimize_result(\n",
            "c:\\Users\\ASUS\\AppData\\Local\\Programs\\Python\\Python311\\Lib\\site-packages\\sklearn\\linear_model\\_logistic.py:469: ConvergenceWarning: lbfgs failed to converge (status=1):\n",
            "STOP: TOTAL NO. of ITERATIONS REACHED LIMIT.\n",
            "\n",
            "Increase the number of iterations (max_iter) or scale the data as shown in:\n",
            "    https://scikit-learn.org/stable/modules/preprocessing.html\n",
            "Please also refer to the documentation for alternative solver options:\n",
            "    https://scikit-learn.org/stable/modules/linear_model.html#logistic-regression\n",
            "  n_iter_i = _check_optimize_result(\n",
            "c:\\Users\\ASUS\\AppData\\Local\\Programs\\Python\\Python311\\Lib\\site-packages\\sklearn\\linear_model\\_logistic.py:469: ConvergenceWarning: lbfgs failed to converge (status=1):\n",
            "STOP: TOTAL NO. of ITERATIONS REACHED LIMIT.\n",
            "\n",
            "Increase the number of iterations (max_iter) or scale the data as shown in:\n",
            "    https://scikit-learn.org/stable/modules/preprocessing.html\n",
            "Please also refer to the documentation for alternative solver options:\n",
            "    https://scikit-learn.org/stable/modules/linear_model.html#logistic-regression\n",
            "  n_iter_i = _check_optimize_result(\n",
            "c:\\Users\\ASUS\\AppData\\Local\\Programs\\Python\\Python311\\Lib\\site-packages\\sklearn\\linear_model\\_logistic.py:469: ConvergenceWarning: lbfgs failed to converge (status=1):\n",
            "STOP: TOTAL NO. of ITERATIONS REACHED LIMIT.\n",
            "\n",
            "Increase the number of iterations (max_iter) or scale the data as shown in:\n",
            "    https://scikit-learn.org/stable/modules/preprocessing.html\n",
            "Please also refer to the documentation for alternative solver options:\n",
            "    https://scikit-learn.org/stable/modules/linear_model.html#logistic-regression\n",
            "  n_iter_i = _check_optimize_result(\n",
            "c:\\Users\\ASUS\\AppData\\Local\\Programs\\Python\\Python311\\Lib\\site-packages\\sklearn\\linear_model\\_sag.py:350: ConvergenceWarning: The max_iter was reached which means the coef_ did not converge\n",
            "  warnings.warn(\n",
            "c:\\Users\\ASUS\\AppData\\Local\\Programs\\Python\\Python311\\Lib\\site-packages\\sklearn\\linear_model\\_sag.py:350: ConvergenceWarning: The max_iter was reached which means the coef_ did not converge\n",
            "  warnings.warn(\n",
            "c:\\Users\\ASUS\\AppData\\Local\\Programs\\Python\\Python311\\Lib\\site-packages\\sklearn\\linear_model\\_sag.py:350: ConvergenceWarning: The max_iter was reached which means the coef_ did not converge\n",
            "  warnings.warn(\n",
            "c:\\Users\\ASUS\\AppData\\Local\\Programs\\Python\\Python311\\Lib\\site-packages\\sklearn\\linear_model\\_sag.py:350: ConvergenceWarning: The max_iter was reached which means the coef_ did not converge\n",
            "  warnings.warn(\n",
            "c:\\Users\\ASUS\\AppData\\Local\\Programs\\Python\\Python311\\Lib\\site-packages\\sklearn\\linear_model\\_sag.py:350: ConvergenceWarning: The max_iter was reached which means the coef_ did not converge\n",
            "  warnings.warn(\n",
            "c:\\Users\\ASUS\\AppData\\Local\\Programs\\Python\\Python311\\Lib\\site-packages\\sklearn\\linear_model\\_sag.py:350: ConvergenceWarning: The max_iter was reached which means the coef_ did not converge\n",
            "  warnings.warn(\n",
            "c:\\Users\\ASUS\\AppData\\Local\\Programs\\Python\\Python311\\Lib\\site-packages\\sklearn\\linear_model\\_sag.py:350: ConvergenceWarning: The max_iter was reached which means the coef_ did not converge\n",
            "  warnings.warn(\n",
            "c:\\Users\\ASUS\\AppData\\Local\\Programs\\Python\\Python311\\Lib\\site-packages\\sklearn\\linear_model\\_sag.py:350: ConvergenceWarning: The max_iter was reached which means the coef_ did not converge\n",
            "  warnings.warn(\n",
            "c:\\Users\\ASUS\\AppData\\Local\\Programs\\Python\\Python311\\Lib\\site-packages\\sklearn\\linear_model\\_sag.py:350: ConvergenceWarning: The max_iter was reached which means the coef_ did not converge\n",
            "  warnings.warn(\n",
            "c:\\Users\\ASUS\\AppData\\Local\\Programs\\Python\\Python311\\Lib\\site-packages\\sklearn\\linear_model\\_sag.py:350: ConvergenceWarning: The max_iter was reached which means the coef_ did not converge\n",
            "  warnings.warn(\n",
            "c:\\Users\\ASUS\\AppData\\Local\\Programs\\Python\\Python311\\Lib\\site-packages\\sklearn\\linear_model\\_sag.py:350: ConvergenceWarning: The max_iter was reached which means the coef_ did not converge\n",
            "  warnings.warn(\n",
            "c:\\Users\\ASUS\\AppData\\Local\\Programs\\Python\\Python311\\Lib\\site-packages\\sklearn\\linear_model\\_sag.py:350: ConvergenceWarning: The max_iter was reached which means the coef_ did not converge\n",
            "  warnings.warn(\n",
            "c:\\Users\\ASUS\\AppData\\Local\\Programs\\Python\\Python311\\Lib\\site-packages\\sklearn\\linear_model\\_sag.py:350: ConvergenceWarning: The max_iter was reached which means the coef_ did not converge\n",
            "  warnings.warn(\n",
            "c:\\Users\\ASUS\\AppData\\Local\\Programs\\Python\\Python311\\Lib\\site-packages\\sklearn\\linear_model\\_sag.py:350: ConvergenceWarning: The max_iter was reached which means the coef_ did not converge\n",
            "  warnings.warn(\n",
            "c:\\Users\\ASUS\\AppData\\Local\\Programs\\Python\\Python311\\Lib\\site-packages\\sklearn\\linear_model\\_sag.py:350: ConvergenceWarning: The max_iter was reached which means the coef_ did not converge\n",
            "  warnings.warn(\n",
            "c:\\Users\\ASUS\\AppData\\Local\\Programs\\Python\\Python311\\Lib\\site-packages\\sklearn\\linear_model\\_sag.py:350: ConvergenceWarning: The max_iter was reached which means the coef_ did not converge\n",
            "  warnings.warn(\n",
            "c:\\Users\\ASUS\\AppData\\Local\\Programs\\Python\\Python311\\Lib\\site-packages\\sklearn\\linear_model\\_sag.py:350: ConvergenceWarning: The max_iter was reached which means the coef_ did not converge\n",
            "  warnings.warn(\n",
            "c:\\Users\\ASUS\\AppData\\Local\\Programs\\Python\\Python311\\Lib\\site-packages\\sklearn\\linear_model\\_sag.py:350: ConvergenceWarning: The max_iter was reached which means the coef_ did not converge\n",
            "  warnings.warn(\n",
            "c:\\Users\\ASUS\\AppData\\Local\\Programs\\Python\\Python311\\Lib\\site-packages\\sklearn\\linear_model\\_sag.py:350: ConvergenceWarning: The max_iter was reached which means the coef_ did not converge\n",
            "  warnings.warn(\n",
            "c:\\Users\\ASUS\\AppData\\Local\\Programs\\Python\\Python311\\Lib\\site-packages\\sklearn\\linear_model\\_sag.py:350: ConvergenceWarning: The max_iter was reached which means the coef_ did not converge\n",
            "  warnings.warn(\n",
            "c:\\Users\\ASUS\\AppData\\Local\\Programs\\Python\\Python311\\Lib\\site-packages\\sklearn\\model_selection\\_validation.py:547: FitFailedWarning: \n",
            "45 fits failed out of a total of 180.\n",
            "The score on these train-test partitions for these parameters will be set to nan.\n",
            "If these failures are not expected, you can try to debug them by setting error_score='raise'.\n",
            "\n",
            "Below are more details about the failures:\n",
            "--------------------------------------------------------------------------------\n",
            "45 fits failed with the following error:\n",
            "Traceback (most recent call last):\n",
            "  File \"c:\\Users\\ASUS\\AppData\\Local\\Programs\\Python\\Python311\\Lib\\site-packages\\sklearn\\model_selection\\_validation.py\", line 895, in _fit_and_score\n",
            "    estimator.fit(X_train, y_train, **fit_params)\n",
            "  File \"c:\\Users\\ASUS\\AppData\\Local\\Programs\\Python\\Python311\\Lib\\site-packages\\sklearn\\base.py\", line 1467, in wrapper\n",
            "    estimator._validate_params()\n",
            "  File \"c:\\Users\\ASUS\\AppData\\Local\\Programs\\Python\\Python311\\Lib\\site-packages\\sklearn\\base.py\", line 666, in _validate_params\n",
            "    validate_parameter_constraints(\n",
            "  File \"c:\\Users\\ASUS\\AppData\\Local\\Programs\\Python\\Python311\\Lib\\site-packages\\sklearn\\utils\\_param_validation.py\", line 95, in validate_parameter_constraints\n",
            "    raise InvalidParameterError(\n",
            "sklearn.utils._param_validation.InvalidParameterError: The 'solver' parameter of LogisticRegression must be a str among {'newton-cg', 'lbfgs', 'sag', 'newton-cholesky', 'saga', 'liblinear'}. Got 'adam' instead.\n",
            "\n",
            "  warnings.warn(some_fits_failed_message, FitFailedWarning)\n",
            "c:\\Users\\ASUS\\AppData\\Local\\Programs\\Python\\Python311\\Lib\\site-packages\\sklearn\\model_selection\\_search.py:1051: UserWarning: One or more of the test scores are non-finite: [0.74627508 0.74614398 0.74614398 0.74614398 0.74614398 0.74614398\n",
            " 0.74614398 0.74614398 0.74614398        nan        nan        nan\n",
            " 0.74627508 0.74614398 0.74614398 0.74614398 0.74614398 0.74614398\n",
            " 0.74614398 0.74614398 0.74614398        nan        nan        nan\n",
            " 0.74627508 0.74627203 0.74614398 0.74614398 0.74614398 0.74614398\n",
            " 0.74614398 0.74614398 0.74614398        nan        nan        nan]\n",
            "  warnings.warn(\n"
          ]
        },
        {
          "name": "stdout",
          "output_type": "stream",
          "text": [
            "{'C': 1.0, 'solver': 'lbfgs', 'tol': 0.0001}\n",
            "0.7462750818066696\n"
          ]
        }
      ],
      "source": [
        "grid_search = GridSearchCV(estimator = LogisticRegression(), param_grid = parametros)\n",
        "grid_search.fit(x, y)\n",
        "melhores_parametros = grid_search.best_params_\n",
        "melhor_resultado = grid_search.best_score_\n",
        "print(melhores_parametros)\n",
        "print(melhor_resultado)"
      ]
    },
    {
      "cell_type": "markdown",
      "metadata": {},
      "source": [
        "# Atualizando parâmetros"
      ]
    },
    {
      "cell_type": "markdown",
      "metadata": {},
      "source": [
        "## Árvores de decisão"
      ]
    },
    {
      "cell_type": "code",
      "execution_count": 103,
      "metadata": {},
      "outputs": [],
      "source": [
        "arvore_modelo = DecisionTreeClassifier(criterion = 'entropy', min_samples_leaf = 1, min_samples_split = 10 , splitter = 'random')\n",
        "arvore_modelo.fit(x_train, y_train)\n",
        "previsoes = arvore_modelo.predict(x_test)"
      ]
    },
    {
      "cell_type": "code",
      "execution_count": 104,
      "metadata": {},
      "outputs": [
        {
          "data": {
            "text/plain": [
              "0.7485022637540206"
            ]
          },
          "execution_count": 104,
          "metadata": {},
          "output_type": "execute_result"
        }
      ],
      "source": [
        "accuracy_score(y_test, previsoes)"
      ]
    },
    {
      "cell_type": "code",
      "execution_count": 105,
      "metadata": {},
      "outputs": [
        {
          "data": {
            "text/plain": [
              "0.7485022637540206"
            ]
          },
          "execution_count": 105,
          "metadata": {},
          "output_type": "execute_result"
        },
        {
          "data": {
            "image/png": "[encoded data removed]",
            "text/plain": [
              "<Figure size 800x550 with 1 Axes>"
            ]
          },
          "metadata": {},
          "output_type": "display_data"
        }
      ],
      "source": [
        "cm = ConfusionMatrix(arvore_modelo)\n",
        "cm.fit(x_train, y_train)\n",
        "cm.score(x_test, y_test)"
      ]
    },
    {
      "cell_type": "code",
      "execution_count": 106,
      "metadata": {},
      "outputs": [
        {
          "name": "stdout",
          "output_type": "stream",
          "text": [
            "              precision    recall  f1-score   support\n",
            "\n",
            "           0       0.75      0.98      0.85     48688\n",
            "           1       0.59      0.08      0.15     16911\n",
            "\n",
            "    accuracy                           0.75     65599\n",
            "   macro avg       0.67      0.53      0.50     65599\n",
            "weighted avg       0.71      0.75      0.67     65599\n",
            "\n"
          ]
        }
      ],
      "source": [
        "print(classification_report(y_test, previsoes))"
      ]
    },
    {
      "cell_type": "markdown",
      "metadata": {},
      "source": [
        "## Random Forest"
      ]
    },
    {
      "cell_type": "code",
      "execution_count": 107,
      "metadata": {},
      "outputs": [],
      "source": [
        "random_modelo = RandomForestClassifier(n_estimators = 100, criterion = 'gini', class_weight = \"balanced\",\n",
        "                                       min_samples_leaf = 10, min_samples_split = 10)\n",
        "random_modelo.fit(x_train, y_train)\n",
        "previsoes = random_modelo.predict(x_test)"
      ]
    },
    {
      "cell_type": "code",
      "execution_count": 108,
      "metadata": {},
      "outputs": [
        {
          "data": {
            "text/plain": [
              "0.6315035290172106"
            ]
          },
          "execution_count": 108,
          "metadata": {},
          "output_type": "execute_result"
        }
      ],
      "source": [
        "accuracy_score(y_test, previsoes)"
      ]
    },
    {
      "cell_type": "code",
      "execution_count": 109,
      "metadata": {},
      "outputs": [
        {
          "data": {
            "text/plain": [
              "0.6315035290172106"
            ]
          },
          "execution_count": 109,
          "metadata": {},
          "output_type": "execute_result"
        },
        {
          "data": {
            "image/png": "[encoded data removed]",
            "text/plain": [
              "<Figure size 800x550 with 1 Axes>"
            ]
          },
          "metadata": {},
          "output_type": "display_data"
        }
      ],
      "source": [
        "cm = ConfusionMatrix(random_modelo)\n",
        "cm.fit(x_train, y_train)\n",
        "cm.score(x_test, y_test)"
      ]
    },
    {
      "cell_type": "code",
      "execution_count": 110,
      "metadata": {},
      "outputs": [
        {
          "name": "stdout",
          "output_type": "stream",
          "text": [
            "              precision    recall  f1-score   support\n",
            "\n",
            "           0       0.84      0.63      0.72     48688\n",
            "           1       0.38      0.65      0.48     16911\n",
            "\n",
            "    accuracy                           0.63     65599\n",
            "   macro avg       0.61      0.64      0.60     65599\n",
            "weighted avg       0.72      0.63      0.65     65599\n",
            "\n"
          ]
        }
      ],
      "source": [
        "print(classification_report(y_test, previsoes))"
      ]
    },
    {
      "cell_type": "markdown",
      "metadata": {},
      "source": [
        "## K-Nearest Neighbour (KNN)"
      ]
    },
    {
      "cell_type": "code",
      "execution_count": 111,
      "metadata": {},
      "outputs": [],
      "source": [
        "knn_modelo = KNeighborsClassifier(n_neighbors = 20, p = 1)\n",
        "knn_modelo.fit(x_train, y_train)\n",
        "previsoes = knn_modelo.predict(x_test)"
      ]
    },
    {
      "cell_type": "code",
      "execution_count": 112,
      "metadata": {},
      "outputs": [
        {
          "data": {
            "text/plain": [
              "0.7397063979633836"
            ]
          },
          "execution_count": 112,
          "metadata": {},
          "output_type": "execute_result"
        }
      ],
      "source": [
        "accuracy_score(y_test, previsoes)"
      ]
    },
    {
      "cell_type": "code",
      "execution_count": 113,
      "metadata": {},
      "outputs": [
        {
          "data": {
            "text/plain": [
              "0.7397063979633836"
            ]
          },
          "execution_count": 113,
          "metadata": {},
          "output_type": "execute_result"
        },
        {
          "data": {
            "image/png": "[encoded data removed]",
            "text/plain": [
              "<Figure size 800x550 with 1 Axes>"
            ]
          },
          "metadata": {},
          "output_type": "display_data"
        }
      ],
      "source": [
        "cm = ConfusionMatrix(knn_modelo)\n",
        "cm.fit(x_train, y_train)\n",
        "cm.score(x_test, y_test)"
      ]
    },
    {
      "cell_type": "code",
      "execution_count": 114,
      "metadata": {},
      "outputs": [
        {
          "name": "stdout",
          "output_type": "stream",
          "text": [
            "              precision    recall  f1-score   support\n",
            "\n",
            "           0       0.75      0.96      0.85     48688\n",
            "           1       0.48      0.09      0.16     16911\n",
            "\n",
            "    accuracy                           0.74     65599\n",
            "   macro avg       0.61      0.53      0.50     65599\n",
            "weighted avg       0.68      0.74      0.67     65599\n",
            "\n"
          ]
        }
      ],
      "source": [
        "print(classification_report(y_test, previsoes))"
      ]
    },
    {
      "cell_type": "markdown",
      "metadata": {},
      "source": [
        "## Regressão logística"
      ]
    },
    {
      "cell_type": "code",
      "execution_count": 115,
      "metadata": {},
      "outputs": [],
      "source": [
        "logistic_modelo = LogisticRegression(C = 1.0, solver = 'lbfgs', tol = 0.0001, class_weight = 'balanced')\n",
        "logistic_modelo.fit(x_train, y_train)\n",
        "previsoes = logistic_modelo.predict(x_test)"
      ]
    },
    {
      "cell_type": "code",
      "execution_count": 116,
      "metadata": {},
      "outputs": [
        {
          "data": {
            "text/plain": [
              "0.6222350950471806"
            ]
          },
          "execution_count": 116,
          "metadata": {},
          "output_type": "execute_result"
        }
      ],
      "source": [
        "accuracy_score(y_test, previsoes)"
      ]
    },
    {
      "cell_type": "code",
      "execution_count": 117,
      "metadata": {},
      "outputs": [
        {
          "data": {
            "text/plain": [
              "0.6222350950471806"
            ]
          },
          "execution_count": 117,
          "metadata": {},
          "output_type": "execute_result"
        },
        {
          "data": {
            "image/png": "[encoded data removed]",
            "text/plain": [
              "<Figure size 800x550 with 1 Axes>"
            ]
          },
          "metadata": {},
          "output_type": "display_data"
        }
      ],
      "source": [
        "cm = ConfusionMatrix(logistic_modelo)\n",
        "cm.fit(x_train, y_train)\n",
        "cm.score(x_test, y_test)"
      ]
    },
    {
      "cell_type": "code",
      "execution_count": 118,
      "metadata": {},
      "outputs": [
        {
          "name": "stdout",
          "output_type": "stream",
          "text": [
            "              precision    recall  f1-score   support\n",
            "\n",
            "           0       0.84      0.61      0.71     48688\n",
            "           1       0.37      0.66      0.47     16911\n",
            "\n",
            "    accuracy                           0.62     65599\n",
            "   macro avg       0.60      0.63      0.59     65599\n",
            "weighted avg       0.72      0.62      0.65     65599\n",
            "\n"
          ]
        }
      ],
      "source": [
        "print(classification_report(y_test, previsoes))"
      ]
    },
    {
      "cell_type": "markdown",
      "metadata": {
        "id": "Q91kE89-7CjA"
      },
      "source": [
        "## Resultados"
      ]
    },
    {
      "cell_type": "code",
      "execution_count": 136,
      "metadata": {},
      "outputs": [],
      "source": [
        "resultados_random_forest = []\n",
        "resultados_logistica = []\n",
        "precisoes_random_forest = []\n",
        "revocacoes_random_forest = []\n",
        "precisoes_logistica = []\n",
        "revocacoes_logistica = []\n",
        "\n",
        "for i in range(10):\n",
        "    kfold = KFold(n_splits=5, shuffle=True, random_state=i)\n",
        "\n",
        "    random_forest = RandomForestClassifier(n_estimators=100, criterion='gini', class_weight=\"balanced\",\n",
        "                                            min_samples_leaf=10, min_samples_split=10)\n",
        "    scores = cross_val_score(random_forest, x, y, cv=kfold)\n",
        "    resultados_random_forest.append(scores.mean())\n",
        "    y_pred_rf = cross_val_predict(random_forest, x, y, cv=kfold)\n",
        "    precisao_rf = precision_score(y, y_pred_rf, pos_label=1)\n",
        "    revocacao_rf = recall_score(y, y_pred_rf, pos_label=1)\n",
        "    precisoes_random_forest.append(precisao_rf.mean())\n",
        "    revocacoes_random_forest.append(revocacao_rf.mean())\n",
        "\n",
        "    logistica = LogisticRegression(C=1.0, solver='lbfgs', tol=0.0001, class_weight='balanced')\n",
        "    scores = cross_val_score(logistica, x, y, cv=kfold)\n",
        "    resultados_logistica.append(scores.mean())\n",
        "    y_pred_logistica = cross_val_predict(logistica, x, y, cv=kfold)\n",
        "    precisao_logistica = precision_score(y, y_pred_logistica, pos_label=1)\n",
        "    revocacao_logistica = recall_score(y, y_pred_logistica, pos_label=1)\n",
        "    precisoes_logistica.append(precisao_logistica.mean())\n",
        "    revocacoes_logistica.append(revocacao_logistica.mean())\n"
      ]
    },
    {
      "cell_type": "code",
      "execution_count": 139,
      "metadata": {},
      "outputs": [
        {
          "data": {
            "text/html": [
              "<div>\n",
              "<style scoped>\n",
              "    .dataframe tbody tr th:only-of-type {\n",
              "        vertical-align: middle;\n",
              "    }\n",
              "\n",
              "    .dataframe tbody tr th {\n",
              "        vertical-align: top;\n",
              "    }\n",
              "\n",
              "    .dataframe thead th {\n",
              "        text-align: right;\n",
              "    }\n",
              "</style>\n",
              "<table border=\"1\" class=\"dataframe\">\n",
              "  <thead>\n",
              "    <tr style=\"text-align: right;\">\n",
              "      <th></th>\n",
              "      <th>Accuracy Random forest</th>\n",
              "      <th>Accuracy Logistica</th>\n",
              "      <th>Precision Random Forest</th>\n",
              "      <th>Precision Logistica</th>\n",
              "      <th>Recall Random Forest</th>\n",
              "      <th>Recall Logistica</th>\n",
              "    </tr>\n",
              "  </thead>\n",
              "  <tbody>\n",
              "    <tr>\n",
              "      <th>0</th>\n",
              "      <td>0.629202</td>\n",
              "      <td>0.619724</td>\n",
              "      <td>0.372887</td>\n",
              "      <td>0.366434</td>\n",
              "      <td>0.640206</td>\n",
              "      <td>0.651749</td>\n",
              "    </tr>\n",
              "    <tr>\n",
              "      <th>1</th>\n",
              "      <td>0.628940</td>\n",
              "      <td>0.619699</td>\n",
              "      <td>0.372680</td>\n",
              "      <td>0.366462</td>\n",
              "      <td>0.639780</td>\n",
              "      <td>0.652069</td>\n",
              "    </tr>\n",
              "    <tr>\n",
              "      <th>2</th>\n",
              "      <td>0.627852</td>\n",
              "      <td>0.619910</td>\n",
              "      <td>0.372010</td>\n",
              "      <td>0.366604</td>\n",
              "      <td>0.644606</td>\n",
              "      <td>0.651891</td>\n",
              "    </tr>\n",
              "    <tr>\n",
              "      <th>3</th>\n",
              "      <td>0.628263</td>\n",
              "      <td>0.620114</td>\n",
              "      <td>0.373114</td>\n",
              "      <td>0.366748</td>\n",
              "      <td>0.638610</td>\n",
              "      <td>0.651761</td>\n",
              "    </tr>\n",
              "    <tr>\n",
              "      <th>4</th>\n",
              "      <td>0.629468</td>\n",
              "      <td>0.619705</td>\n",
              "      <td>0.372749</td>\n",
              "      <td>0.366469</td>\n",
              "      <td>0.641424</td>\n",
              "      <td>0.652080</td>\n",
              "    </tr>\n",
              "    <tr>\n",
              "      <th>5</th>\n",
              "      <td>0.628154</td>\n",
              "      <td>0.619687</td>\n",
              "      <td>0.371458</td>\n",
              "      <td>0.366435</td>\n",
              "      <td>0.644712</td>\n",
              "      <td>0.651950</td>\n",
              "    </tr>\n",
              "    <tr>\n",
              "      <th>6</th>\n",
              "      <td>0.628471</td>\n",
              "      <td>0.619452</td>\n",
              "      <td>0.371351</td>\n",
              "      <td>0.366272</td>\n",
              "      <td>0.642181</td>\n",
              "      <td>0.652116</td>\n",
              "    </tr>\n",
              "    <tr>\n",
              "      <th>7</th>\n",
              "      <td>0.627611</td>\n",
              "      <td>0.619312</td>\n",
              "      <td>0.371991</td>\n",
              "      <td>0.366180</td>\n",
              "      <td>0.644476</td>\n",
              "      <td>0.652246</td>\n",
              "    </tr>\n",
              "    <tr>\n",
              "      <th>8</th>\n",
              "      <td>0.629062</td>\n",
              "      <td>0.619922</td>\n",
              "      <td>0.372851</td>\n",
              "      <td>0.366569</td>\n",
              "      <td>0.640395</td>\n",
              "      <td>0.651595</td>\n",
              "    </tr>\n",
              "    <tr>\n",
              "      <th>9</th>\n",
              "      <td>0.628215</td>\n",
              "      <td>0.620327</td>\n",
              "      <td>0.372946</td>\n",
              "      <td>0.366841</td>\n",
              "      <td>0.640017</td>\n",
              "      <td>0.651241</td>\n",
              "    </tr>\n",
              "  </tbody>\n",
              "</table>\n",
              "</div>"
            ],
            "text/plain": [
              "   Accuracy Random forest  Accuracy Logistica  Precision Random Forest  \\\n",
              "0                0.629202            0.619724                 0.372887   \n",
              "1                0.628940            0.619699                 0.372680   \n",
              "2                0.627852            0.619910                 0.372010   \n",
              "3                0.628263            0.620114                 0.373114   \n",
              "4                0.629468            0.619705                 0.372749   \n",
              "5                0.628154            0.619687                 0.371458   \n",
              "6                0.628471            0.619452                 0.371351   \n",
              "7                0.627611            0.619312                 0.371991   \n",
              "8                0.629062            0.619922                 0.372851   \n",
              "9                0.628215            0.620327                 0.372946   \n",
              "\n",
              "   Precision Logistica  Recall Random Forest  Recall Logistica  \n",
              "0             0.366434              0.640206          0.651749  \n",
              "1             0.366462              0.639780          0.652069  \n",
              "2             0.366604              0.644606          0.651891  \n",
              "3             0.366748              0.638610          0.651761  \n",
              "4             0.366469              0.641424          0.652080  \n",
              "5             0.366435              0.644712          0.651950  \n",
              "6             0.366272              0.642181          0.652116  \n",
              "7             0.366180              0.644476          0.652246  \n",
              "8             0.366569              0.640395          0.651595  \n",
              "9             0.366841              0.640017          0.651241  "
            ]
          },
          "execution_count": 139,
          "metadata": {},
          "output_type": "execute_result"
        }
      ],
      "source": [
        "resultados = pd.DataFrame({'Accuracy Random forest': resultados_random_forest, 'Accuracy Logistica': resultados_logistica, \n",
        "                            'Precision Random Forest': precisoes_random_forest, 'Precision Logistica': precisoes_logistica,\n",
        "                            'Recall Random Forest': revocacoes_random_forest, 'Recall Logistica': revocacoes_logistica})\n",
        "resultados"
      ]
    },
    {
      "cell_type": "code",
      "execution_count": 140,
      "metadata": {},
      "outputs": [
        {
          "data": {
            "text/html": [
              "<div>\n",
              "<style scoped>\n",
              "    .dataframe tbody tr th:only-of-type {\n",
              "        vertical-align: middle;\n",
              "    }\n",
              "\n",
              "    .dataframe tbody tr th {\n",
              "        vertical-align: top;\n",
              "    }\n",
              "\n",
              "    .dataframe thead th {\n",
              "        text-align: right;\n",
              "    }\n",
              "</style>\n",
              "<table border=\"1\" class=\"dataframe\">\n",
              "  <thead>\n",
              "    <tr style=\"text-align: right;\">\n",
              "      <th></th>\n",
              "      <th>Accuracy Random forest</th>\n",
              "      <th>Accuracy Logistica</th>\n",
              "      <th>Precision Random Forest</th>\n",
              "      <th>Precision Logistica</th>\n",
              "      <th>Recall Random Forest</th>\n",
              "      <th>Recall Logistica</th>\n",
              "    </tr>\n",
              "  </thead>\n",
              "  <tbody>\n",
              "    <tr>\n",
              "      <th>count</th>\n",
              "      <td>10.000000</td>\n",
              "      <td>10.000000</td>\n",
              "      <td>10.000000</td>\n",
              "      <td>10.000000</td>\n",
              "      <td>10.000000</td>\n",
              "      <td>10.000000</td>\n",
              "    </tr>\n",
              "    <tr>\n",
              "      <th>mean</th>\n",
              "      <td>0.628524</td>\n",
              "      <td>0.619785</td>\n",
              "      <td>0.372404</td>\n",
              "      <td>0.366501</td>\n",
              "      <td>0.641641</td>\n",
              "      <td>0.651870</td>\n",
              "    </tr>\n",
              "    <tr>\n",
              "      <th>std</th>\n",
              "      <td>0.000615</td>\n",
              "      <td>0.000298</td>\n",
              "      <td>0.000646</td>\n",
              "      <td>0.000200</td>\n",
              "      <td>0.002248</td>\n",
              "      <td>0.000296</td>\n",
              "    </tr>\n",
              "    <tr>\n",
              "      <th>min</th>\n",
              "      <td>0.627611</td>\n",
              "      <td>0.619312</td>\n",
              "      <td>0.371351</td>\n",
              "      <td>0.366180</td>\n",
              "      <td>0.638610</td>\n",
              "      <td>0.651241</td>\n",
              "    </tr>\n",
              "    <tr>\n",
              "      <th>25%</th>\n",
              "      <td>0.628169</td>\n",
              "      <td>0.619690</td>\n",
              "      <td>0.371996</td>\n",
              "      <td>0.366434</td>\n",
              "      <td>0.640064</td>\n",
              "      <td>0.651752</td>\n",
              "    </tr>\n",
              "    <tr>\n",
              "      <th>50%</th>\n",
              "      <td>0.628367</td>\n",
              "      <td>0.619714</td>\n",
              "      <td>0.372715</td>\n",
              "      <td>0.366466</td>\n",
              "      <td>0.640910</td>\n",
              "      <td>0.651921</td>\n",
              "    </tr>\n",
              "    <tr>\n",
              "      <th>75%</th>\n",
              "      <td>0.629032</td>\n",
              "      <td>0.619919</td>\n",
              "      <td>0.372878</td>\n",
              "      <td>0.366595</td>\n",
              "      <td>0.643902</td>\n",
              "      <td>0.652077</td>\n",
              "    </tr>\n",
              "    <tr>\n",
              "      <th>max</th>\n",
              "      <td>0.629468</td>\n",
              "      <td>0.620327</td>\n",
              "      <td>0.373114</td>\n",
              "      <td>0.366841</td>\n",
              "      <td>0.644712</td>\n",
              "      <td>0.652246</td>\n",
              "    </tr>\n",
              "  </tbody>\n",
              "</table>\n",
              "</div>"
            ],
            "text/plain": [
              "       Accuracy Random forest  Accuracy Logistica  Precision Random Forest  \\\n",
              "count               10.000000           10.000000                10.000000   \n",
              "mean                 0.628524            0.619785                 0.372404   \n",
              "std                  0.000615            0.000298                 0.000646   \n",
              "min                  0.627611            0.619312                 0.371351   \n",
              "25%                  0.628169            0.619690                 0.371996   \n",
              "50%                  0.628367            0.619714                 0.372715   \n",
              "75%                  0.629032            0.619919                 0.372878   \n",
              "max                  0.629468            0.620327                 0.373114   \n",
              "\n",
              "       Precision Logistica  Recall Random Forest  Recall Logistica  \n",
              "count            10.000000             10.000000         10.000000  \n",
              "mean              0.366501              0.641641          0.651870  \n",
              "std               0.000200              0.002248          0.000296  \n",
              "min               0.366180              0.638610          0.651241  \n",
              "25%               0.366434              0.640064          0.651752  \n",
              "50%               0.366466              0.640910          0.651921  \n",
              "75%               0.366595              0.643902          0.652077  \n",
              "max               0.366841              0.644712          0.652246  "
            ]
          },
          "execution_count": 140,
          "metadata": {},
          "output_type": "execute_result"
        }
      ],
      "source": [
        "resultados.describe()"
      ]
    }
  ],
  "metadata": {
    "colab": {
      "provenance": []
    },
    "kernelspec": {
      "display_name": "Python 3",
      "name": "python3"
    },
    "language_info": {
      "codemirror_mode": {
        "name": "ipython",
        "version": 3
      },
      "file_extension": ".py",
      "mimetype": "text/x-python",
      "name": "python",
      "nbconvert_exporter": "python",
      "pygments_lexer": "ipython3",
      "version": "3.11.4"
    }
  },
  "nbformat": 4,
  "nbformat_minor": 0
}
